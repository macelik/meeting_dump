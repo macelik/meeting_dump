{
 "cells": [
  {
   "cell_type": "code",
   "execution_count": 1,
   "id": "a52669ac",
   "metadata": {},
   "outputs": [
    {
     "name": "stderr",
     "output_type": "stream",
     "text": [
      "\n",
      "Attaching package: ‘dplyr’\n",
      "\n",
      "\n",
      "The following objects are masked from ‘package:stats’:\n",
      "\n",
      "    filter, lag\n",
      "\n",
      "\n",
      "The following objects are masked from ‘package:base’:\n",
      "\n",
      "    intersect, setdiff, setequal, union\n",
      "\n",
      "\n"
     ]
    }
   ],
   "source": [
    "library(dplyr)"
   ]
  },
  {
   "cell_type": "code",
   "execution_count": 136,
   "id": "99f334e4",
   "metadata": {},
   "outputs": [],
   "source": [
    "# Read in the L_R_OmniPathFull.csv file or LR_database.rda and assign it to a data frame called LR_database\n",
    "LR_database <- read.csv(\"../../data/LR_database.rda\")"
   ]
  },
  {
   "cell_type": "code",
   "execution_count": 137,
   "id": "24fe9117",
   "metadata": {},
   "outputs": [],
   "source": [
    "# Create a new column in the LR_database data frame that concatenates the Receptor and Ligand columns with an underscore\n",
    "# this is a vice-versa pairs, it will help us to check the swapped pairs\n",
    "LR_database$dup <- paste(LR_database$Receptor, LR_database$Ligand, sep=\"_\")"
   ]
  },
  {
   "cell_type": "code",
   "execution_count": 138,
   "id": "a9efc1ee",
   "metadata": {},
   "outputs": [],
   "source": [
    "# Subset the LR_database data frame to only include rows where we have swapped interactions\n",
    "\n",
    "subset_lr <- LR_database[LR_database$Pair.Name %in% LR_database$dup,  ] "
   ]
  },
  {
   "cell_type": "code",
   "execution_count": 139,
   "id": "2d2de549",
   "metadata": {},
   "outputs": [
    {
     "data": {
      "text/html": [
       "762"
      ],
      "text/latex": [
       "762"
      ],
      "text/markdown": [
       "762"
      ],
      "text/plain": [
       "[1] 762"
      ]
     },
     "metadata": {},
     "output_type": "display_data"
    }
   ],
   "source": [
    "nrow(subset_lr)"
   ]
  },
  {
   "cell_type": "code",
   "execution_count": 140,
   "id": "67745952",
   "metadata": {},
   "outputs": [],
   "source": [
    "# remove the subsetted partition from the original df\n",
    "\n",
    "LR_database <- LR_database[!LR_database$Pair.Name %in% subset_lr$Pair.Name,  ] "
   ]
  },
  {
   "cell_type": "code",
   "execution_count": 141,
   "id": "bf9e3ea0",
   "metadata": {},
   "outputs": [],
   "source": [
    "# Extract all the unique proteins/genes from the subset_lr data frame that have \"plexin\",\n",
    "# \"neuroligin\" or \"ADAM\" in their Receptor.Name column\n",
    "# these will be corrected as ligands\n",
    "\n",
    "plexin_family <- as.vector(subset_lr[grep(\"plexin\", subset_lr$Receptor.Name), ]$Receptor)\n",
    "\n",
    "neuroligin_family <- as.vector(subset_lr[grep(\"neuroligin\", subset_lr$Receptor.Name), ]$Receptor)\n",
    "\n",
    "adam_family <- as.vector(subset_lr[grep(\"ADAM\", subset_lr$Receptor.Name), ]$Receptor)\n",
    "\n",
    "#extract receptors that has annotation of \"receptor\" under Ligand.Name\n",
    "receptor_anno <- as.vector(subset_lr[grep(\"receptor\", subset_lr$Ligand.Name), ]$Ligand)"
   ]
  },
  {
   "cell_type": "code",
   "execution_count": 142,
   "id": "216c7f1e",
   "metadata": {},
   "outputs": [],
   "source": [
    "ligand <- c(\"AGRN\", \"BMP2\", \"BMP4\", \"VTCN1\", \"CD244\", \"CD38\", \"GAS6\", \"GDNF\", \"GUCA2A\", \n",
    "\"HHLA2\", \"IHH\", \"PSEN1\", \"NLGN\", \"NRTN\", \"RPH3A\", \"SHH\",\"FLT3LG\")\n",
    "\n",
    "receptor <- c(\"CD2\", \"CD27\", \"CD80\", \"CD86\", \"SELL\", \"CD44\", \"CD81\", \"CD8A\", \"CLEC1B\", \n",
    "\"GLG1\", \"TYROBP\", \"FLT3\")"
   ]
  },
  {
   "cell_type": "code",
   "execution_count": 143,
   "id": "3991649f",
   "metadata": {},
   "outputs": [],
   "source": [
    "# Combine the additional ligands with the plexin, neuroligin, and ADAM families into a vector called ligand\n",
    "ligand <- unique(c(ligand,plexin_family,neuroligin_family,adam_family))\n",
    "receptor <- unique(c(receptor,receptor_anno))"
   ]
  },
  {
   "cell_type": "code",
   "execution_count": 144,
   "id": "0b46f0bf",
   "metadata": {},
   "outputs": [],
   "source": [
    "# Subset the subset_lr data frame to only include rows where the consensus_direction column is 1\n",
    "dir <- subset_lr %>% filter(Pair.Name %in% subset_lr$dup & consensus_direction == 1)"
   ]
  },
  {
   "cell_type": "code",
   "execution_count": 145,
   "id": "3ae7b2c8",
   "metadata": {},
   "outputs": [],
   "source": [
    "# Subset the subset_lr data frame to only include rows where the consensus_direction column is 0\n",
    "no_dir <- subset_lr %>% filter(Pair.Name %in% subset_lr$dup & consensus_direction == 0)"
   ]
  },
  {
   "cell_type": "code",
   "execution_count": 146,
   "id": "6cb51ebd",
   "metadata": {},
   "outputs": [],
   "source": [
    "# Remove rows from no_dir where the pair is already present in dir\n",
    "no_dir <- no_dir[!no_dir$Pair.Name %in% dir$dup,  ]"
   ]
  },
  {
   "cell_type": "code",
   "execution_count": 147,
   "id": "9047956d",
   "metadata": {},
   "outputs": [],
   "source": [
    "# remove the interactions where receptor is annotated as ligand\n",
    "no_dir <- no_dir[!no_dir$Receptor %in% ligand,]"
   ]
  },
  {
   "cell_type": "code",
   "execution_count": 148,
   "id": "f58aa51a",
   "metadata": {},
   "outputs": [],
   "source": [
    "# remove the interactions where ligand is annotated as receptor\n",
    "no_dir <- no_dir[!no_dir$Ligand %in% receptor,]"
   ]
  },
  {
   "cell_type": "code",
   "execution_count": 149,
   "id": "4d7451c1",
   "metadata": {},
   "outputs": [],
   "source": [
    "# Create an empty data frame called df with the same column names as no_dir\n",
    "df <- data.frame(matrix(ncol = ncol(no_dir), nrow = 0))\n",
    "x <- colnames(no_dir)\n",
    "colnames(df) <- x"
   ]
  },
  {
   "cell_type": "code",
   "execution_count": 150,
   "id": "38b9e64a",
   "metadata": {},
   "outputs": [],
   "source": [
    "# Loop through unique ligands in the no_dir data frame\n",
    "for (lig in unique(no_dir$Ligand)) {\n",
    "    vec_clean <- vector()\n",
    "    # Filter the no_dir data frame to include only rows where Ligand or Receptor column matches the current ligand in the loop\n",
    "    # this yields the pairs that are swapped.\n",
    "    r1 <- filter(no_dir, Ligand==lig | Receptor == lig)\n",
    "    \n",
    "    vec <- r1$Pair.Name\n",
    "    \n",
    "    for (component in vec) {\n",
    "        comp <- unlist(strsplit(component, split = \"_\"))\n",
    "        pair1 <- paste(comp[1], comp[2], sep = \"_\")\n",
    "        pair2 <- paste(comp[2], comp[1], sep = \"_\")\n",
    "        \n",
    "        if (!pair1 %in% vec_clean & !pair2 %in% vec_clean) {\n",
    "            vec_clean <- append(vec_clean, pair1)\n",
    "        }\n",
    "    }\n",
    "    \n",
    "    # Filter the r1 data frame to include only the unique pairs in vec_clean and append the resulting data frame to df\n",
    "    c1 <- r1[r1$Pair.Name %in% vec_clean,]\n",
    "    \n",
    "    df <- rbind(df,c1)\n",
    "}"
   ]
  },
  {
   "cell_type": "code",
   "execution_count": 151,
   "id": "09d7a4ea",
   "metadata": {},
   "outputs": [],
   "source": [
    "no_dir_df <- df[!duplicated(df$Pair.Name),]"
   ]
  },
  {
   "cell_type": "code",
   "execution_count": 152,
   "id": "b1f334b5",
   "metadata": {},
   "outputs": [],
   "source": [
    "# Combine the dir and no_dir_df data frames\n",
    "subset_lr <- rbind(dir,no_dir_df)"
   ]
  },
  {
   "cell_type": "code",
   "execution_count": 153,
   "id": "88c17671",
   "metadata": {},
   "outputs": [],
   "source": [
    "# Add the remaining rows of LR_database to subset_lr\n",
    "LR_database <- rbind(subset_lr,LR_database)"
   ]
  },
  {
   "cell_type": "code",
   "execution_count": 154,
   "id": "fb600230",
   "metadata": {},
   "outputs": [],
   "source": [
    "# reset index\n",
    "rownames(LR_database) <- 1:nrow(LR_database) "
   ]
  },
  {
   "cell_type": "code",
   "execution_count": 162,
   "id": "a9468bde",
   "metadata": {},
   "outputs": [],
   "source": [
    "save(LR_database, file = \"LR_database.rda\")"
   ]
  },
  {
   "cell_type": "code",
   "execution_count": 163,
   "id": "3b90976f",
   "metadata": {},
   "outputs": [],
   "source": [
    "write.csv(LR_database, \"LR_database.csv\")"
   ]
  },
  {
   "cell_type": "code",
   "execution_count": null,
   "id": "aa2ee748",
   "metadata": {},
   "outputs": [],
   "source": []
  },
  {
   "cell_type": "code",
   "execution_count": null,
   "id": "76c30db6",
   "metadata": {},
   "outputs": [],
   "source": []
  },
  {
   "cell_type": "code",
   "execution_count": null,
   "id": "6d2c9e8f",
   "metadata": {},
   "outputs": [],
   "source": []
  },
  {
   "cell_type": "code",
   "execution_count": null,
   "id": "4563cfd1",
   "metadata": {},
   "outputs": [],
   "source": []
  }
 ],
 "metadata": {
  "kernelspec": {
   "display_name": "R",
   "language": "R",
   "name": "ir"
  },
  "language_info": {
   "codemirror_mode": "r",
   "file_extension": ".r",
   "mimetype": "text/x-r-source",
   "name": "R",
   "pygments_lexer": "r",
   "version": "4.1.2"
  }
 },
 "nbformat": 4,
 "nbformat_minor": 5
}
