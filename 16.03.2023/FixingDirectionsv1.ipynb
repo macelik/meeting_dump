{
 "cells": [
  {
   "cell_type": "code",
   "execution_count": 1,
   "id": "7a42e1dd",
   "metadata": {},
   "outputs": [
    {
     "name": "stderr",
     "output_type": "stream",
     "text": [
      "\n",
      "Attaching package: ‘dplyr’\n",
      "\n",
      "\n",
      "The following objects are masked from ‘package:stats’:\n",
      "\n",
      "    filter, lag\n",
      "\n",
      "\n",
      "The following objects are masked from ‘package:base’:\n",
      "\n",
      "    intersect, setdiff, setequal, union\n",
      "\n",
      "\n"
     ]
    }
   ],
   "source": [
    "library(dplyr)"
   ]
  },
  {
   "cell_type": "code",
   "execution_count": 2,
   "id": "2a074cdb",
   "metadata": {},
   "outputs": [
    {
     "name": "stderr",
     "output_type": "stream",
     "text": [
      "Warning message in readChar(con, 5L, useBytes = TRUE):\n",
      "“cannot open compressed file 'LR_database.rda', probable reason 'No such file or directory'”\n"
     ]
    },
    {
     "ename": "ERROR",
     "evalue": "Error in readChar(con, 5L, useBytes = TRUE): cannot open the connection\n",
     "output_type": "error",
     "traceback": [
      "Error in readChar(con, 5L, useBytes = TRUE): cannot open the connection\nTraceback:\n",
      "1. load(\"LR_database.rda\")",
      "2. readChar(con, 5L, useBytes = TRUE)"
     ]
    }
   ],
   "source": [
    "load(\"LR_database.rda\")"
   ]
  },
  {
   "cell_type": "code",
   "execution_count": 47,
   "id": "a343b420",
   "metadata": {},
   "outputs": [],
   "source": [
    "LR_database <- read.csv(\"L_R_OmniPathFull.csv\")"
   ]
  },
  {
   "cell_type": "code",
   "execution_count": 48,
   "id": "1e952681",
   "metadata": {},
   "outputs": [
    {
     "data": {
      "text/html": [
       "<table class=\"dataframe\">\n",
       "<caption>A data.frame: 2 × 25</caption>\n",
       "<thead>\n",
       "\t<tr><th scope=col>Pair.Name</th><th scope=col>Ligand</th><th scope=col>Ligand.Name</th><th scope=col>Receptor</th><th scope=col>Receptor.Name</th><th scope=col>complex_pair</th><th scope=col>partner_a</th><th scope=col>partner_b</th><th scope=col>source</th><th scope=col>target</th><th scope=col>⋯</th><th scope=col>consensus_direction</th><th scope=col>consensus_stimulation</th><th scope=col>consensus_inhibition</th><th scope=col>sources</th><th scope=col>references</th><th scope=col>curation_effort</th><th scope=col>n_references</th><th scope=col>n_resources</th><th scope=col>annotation_strategy</th><th scope=col>db</th></tr>\n",
       "\t<tr><th scope=col>&lt;chr&gt;</th><th scope=col>&lt;chr&gt;</th><th scope=col>&lt;chr&gt;</th><th scope=col>&lt;chr&gt;</th><th scope=col>&lt;chr&gt;</th><th scope=col>&lt;chr&gt;</th><th scope=col>&lt;chr&gt;</th><th scope=col>&lt;chr&gt;</th><th scope=col>&lt;chr&gt;</th><th scope=col>&lt;chr&gt;</th><th scope=col>⋯</th><th scope=col>&lt;int&gt;</th><th scope=col>&lt;int&gt;</th><th scope=col>&lt;int&gt;</th><th scope=col>&lt;chr&gt;</th><th scope=col>&lt;chr&gt;</th><th scope=col>&lt;int&gt;</th><th scope=col>&lt;int&gt;</th><th scope=col>&lt;int&gt;</th><th scope=col>&lt;chr&gt;</th><th scope=col>&lt;chr&gt;</th></tr>\n",
       "</thead>\n",
       "<tbody>\n",
       "\t<tr><td>FLT3LG_FLT3</td><td>FLT3LG</td><td>fms related receptor tyrosine kinase 3 ligand</td><td>FLT3  </td><td>fms related receptor tyrosine kinase 3       </td><td>NA</td><td>P49771</td><td>P36888</td><td>P49771</td><td>P36888</td><td>⋯</td><td>1</td><td>1</td><td>0</td><td>Baccin2019;CellCall;CellChatDB;CellPhoneDB;CellTalkDB;Cellinker;DLRP_talklr;Fantom5_LRdb;Guide2Pharma;Guide2Pharma_LRdb;Guide2Pharma_talklr;HPMR;HPMR_LRdb;HPMR_talklr;HPRD;HPRD_LRdb;HPRD_talklr;ICELLNET;KEGG-MEDICUS;Kirouac2010;LRdb;Ramilowski2015;Ramilowski2015_Baccin2019;SIGNOR;SPIKE;STRING_talklr;Wang;connectomeDB2020;iTALK;scConnect;talklr</td><td>Baccin2019:15147956;Baccin2019:7505204;Baccin2019:9651358;CellChatDB:25992210;CellTalkDB:9651358;Cellinker:15147956;Cellinker:15618475;Cellinker:19830725;Cellinker:25992210;Cellinker:7505204;Cellinker:9651358;HPMR:12681969;HPMR:15147956;HPRD:7505204;HPRD:9651358;ICELLNET:21389326;LRdb:15147956;LRdb:7505204;LRdb:9651358;SIGNOR:10080542;SIGNOR:12681969;SPIKE:7505204;SPIKE:9651358;connectomeDB2020:15147956;connectomeDB2020:7505204;connectomeDB2020:9651358</td><td>26</td><td>9</td><td>21</td><td>LR     </td><td>both   </td></tr>\n",
       "\t<tr><td>FLT3_FLT3LG</td><td>FLT3  </td><td>fms related receptor tyrosine kinase 3       </td><td>FLT3LG</td><td>fms related receptor tyrosine kinase 3 ligand</td><td>NA</td><td>P36888</td><td>P49771</td><td>P36888</td><td>P49771</td><td>⋯</td><td>0</td><td>0</td><td>0</td><td>CellCall;HPMR;HPRD;PhosphoPoint                                                                                                                                                                                                                                                                                                                          </td><td>HPMR:12681969;HPMR:15147956;HPRD:7505204;HPRD:9651358                                                                                                                                                                                                                                                                                                                                                                                                                   </td><td> 4</td><td>4</td><td> 4</td><td>curated</td><td>curated</td></tr>\n",
       "</tbody>\n",
       "</table>\n"
      ],
      "text/latex": [
       "A data.frame: 2 × 25\n",
       "\\begin{tabular}{lllllllllllllllllllll}\n",
       " Pair.Name & Ligand & Ligand.Name & Receptor & Receptor.Name & complex\\_pair & partner\\_a & partner\\_b & source & target & ⋯ & consensus\\_direction & consensus\\_stimulation & consensus\\_inhibition & sources & references & curation\\_effort & n\\_references & n\\_resources & annotation\\_strategy & db\\\\\n",
       " <chr> & <chr> & <chr> & <chr> & <chr> & <chr> & <chr> & <chr> & <chr> & <chr> & ⋯ & <int> & <int> & <int> & <chr> & <chr> & <int> & <int> & <int> & <chr> & <chr>\\\\\n",
       "\\hline\n",
       "\t FLT3LG\\_FLT3 & FLT3LG & fms related receptor tyrosine kinase 3 ligand & FLT3   & fms related receptor tyrosine kinase 3        & NA & P49771 & P36888 & P49771 & P36888 & ⋯ & 1 & 1 & 0 & Baccin2019;CellCall;CellChatDB;CellPhoneDB;CellTalkDB;Cellinker;DLRP\\_talklr;Fantom5\\_LRdb;Guide2Pharma;Guide2Pharma\\_LRdb;Guide2Pharma\\_talklr;HPMR;HPMR\\_LRdb;HPMR\\_talklr;HPRD;HPRD\\_LRdb;HPRD\\_talklr;ICELLNET;KEGG-MEDICUS;Kirouac2010;LRdb;Ramilowski2015;Ramilowski2015\\_Baccin2019;SIGNOR;SPIKE;STRING\\_talklr;Wang;connectomeDB2020;iTALK;scConnect;talklr & Baccin2019:15147956;Baccin2019:7505204;Baccin2019:9651358;CellChatDB:25992210;CellTalkDB:9651358;Cellinker:15147956;Cellinker:15618475;Cellinker:19830725;Cellinker:25992210;Cellinker:7505204;Cellinker:9651358;HPMR:12681969;HPMR:15147956;HPRD:7505204;HPRD:9651358;ICELLNET:21389326;LRdb:15147956;LRdb:7505204;LRdb:9651358;SIGNOR:10080542;SIGNOR:12681969;SPIKE:7505204;SPIKE:9651358;connectomeDB2020:15147956;connectomeDB2020:7505204;connectomeDB2020:9651358 & 26 & 9 & 21 & LR      & both   \\\\\n",
       "\t FLT3\\_FLT3LG & FLT3   & fms related receptor tyrosine kinase 3        & FLT3LG & fms related receptor tyrosine kinase 3 ligand & NA & P36888 & P49771 & P36888 & P49771 & ⋯ & 0 & 0 & 0 & CellCall;HPMR;HPRD;PhosphoPoint                                                                                                                                                                                                                                                                                                                           & HPMR:12681969;HPMR:15147956;HPRD:7505204;HPRD:9651358                                                                                                                                                                                                                                                                                                                                                                                                                    &  4 & 4 &  4 & curated & curated\\\\\n",
       "\\end{tabular}\n"
      ],
      "text/markdown": [
       "\n",
       "A data.frame: 2 × 25\n",
       "\n",
       "| Pair.Name &lt;chr&gt; | Ligand &lt;chr&gt; | Ligand.Name &lt;chr&gt; | Receptor &lt;chr&gt; | Receptor.Name &lt;chr&gt; | complex_pair &lt;chr&gt; | partner_a &lt;chr&gt; | partner_b &lt;chr&gt; | source &lt;chr&gt; | target &lt;chr&gt; | ⋯ ⋯ | consensus_direction &lt;int&gt; | consensus_stimulation &lt;int&gt; | consensus_inhibition &lt;int&gt; | sources &lt;chr&gt; | references &lt;chr&gt; | curation_effort &lt;int&gt; | n_references &lt;int&gt; | n_resources &lt;int&gt; | annotation_strategy &lt;chr&gt; | db &lt;chr&gt; |\n",
       "|---|---|---|---|---|---|---|---|---|---|---|---|---|---|---|---|---|---|---|---|---|\n",
       "| FLT3LG_FLT3 | FLT3LG | fms related receptor tyrosine kinase 3 ligand | FLT3   | fms related receptor tyrosine kinase 3        | NA | P49771 | P36888 | P49771 | P36888 | ⋯ | 1 | 1 | 0 | Baccin2019;CellCall;CellChatDB;CellPhoneDB;CellTalkDB;Cellinker;DLRP_talklr;Fantom5_LRdb;Guide2Pharma;Guide2Pharma_LRdb;Guide2Pharma_talklr;HPMR;HPMR_LRdb;HPMR_talklr;HPRD;HPRD_LRdb;HPRD_talklr;ICELLNET;KEGG-MEDICUS;Kirouac2010;LRdb;Ramilowski2015;Ramilowski2015_Baccin2019;SIGNOR;SPIKE;STRING_talklr;Wang;connectomeDB2020;iTALK;scConnect;talklr | Baccin2019:15147956;Baccin2019:7505204;Baccin2019:9651358;CellChatDB:25992210;CellTalkDB:9651358;Cellinker:15147956;Cellinker:15618475;Cellinker:19830725;Cellinker:25992210;Cellinker:7505204;Cellinker:9651358;HPMR:12681969;HPMR:15147956;HPRD:7505204;HPRD:9651358;ICELLNET:21389326;LRdb:15147956;LRdb:7505204;LRdb:9651358;SIGNOR:10080542;SIGNOR:12681969;SPIKE:7505204;SPIKE:9651358;connectomeDB2020:15147956;connectomeDB2020:7505204;connectomeDB2020:9651358 | 26 | 9 | 21 | LR      | both    |\n",
       "| FLT3_FLT3LG | FLT3   | fms related receptor tyrosine kinase 3        | FLT3LG | fms related receptor tyrosine kinase 3 ligand | NA | P36888 | P49771 | P36888 | P49771 | ⋯ | 0 | 0 | 0 | CellCall;HPMR;HPRD;PhosphoPoint                                                                                                                                                                                                                                                                                                                           | HPMR:12681969;HPMR:15147956;HPRD:7505204;HPRD:9651358                                                                                                                                                                                                                                                                                                                                                                                                                    |  4 | 4 |  4 | curated | curated |\n",
       "\n"
      ],
      "text/plain": [
       "  Pair.Name   Ligand Ligand.Name                                   Receptor\n",
       "1 FLT3LG_FLT3 FLT3LG fms related receptor tyrosine kinase 3 ligand FLT3    \n",
       "2 FLT3_FLT3LG FLT3   fms related receptor tyrosine kinase 3        FLT3LG  \n",
       "  Receptor.Name                                 complex_pair partner_a\n",
       "1 fms related receptor tyrosine kinase 3        NA           P49771   \n",
       "2 fms related receptor tyrosine kinase 3 ligand NA           P36888   \n",
       "  partner_b source target ⋯ consensus_direction consensus_stimulation\n",
       "1 P36888    P49771 P36888 ⋯ 1                   1                    \n",
       "2 P49771    P36888 P49771 ⋯ 0                   0                    \n",
       "  consensus_inhibition\n",
       "1 0                   \n",
       "2 0                   \n",
       "  sources                                                                                                                                                                                                                                                                                                                                                  \n",
       "1 Baccin2019;CellCall;CellChatDB;CellPhoneDB;CellTalkDB;Cellinker;DLRP_talklr;Fantom5_LRdb;Guide2Pharma;Guide2Pharma_LRdb;Guide2Pharma_talklr;HPMR;HPMR_LRdb;HPMR_talklr;HPRD;HPRD_LRdb;HPRD_talklr;ICELLNET;KEGG-MEDICUS;Kirouac2010;LRdb;Ramilowski2015;Ramilowski2015_Baccin2019;SIGNOR;SPIKE;STRING_talklr;Wang;connectomeDB2020;iTALK;scConnect;talklr\n",
       "2 CellCall;HPMR;HPRD;PhosphoPoint                                                                                                                                                                                                                                                                                                                          \n",
       "  references                                                                                                                                                                                                                                                                                                                                                                                                                                                              \n",
       "1 Baccin2019:15147956;Baccin2019:7505204;Baccin2019:9651358;CellChatDB:25992210;CellTalkDB:9651358;Cellinker:15147956;Cellinker:15618475;Cellinker:19830725;Cellinker:25992210;Cellinker:7505204;Cellinker:9651358;HPMR:12681969;HPMR:15147956;HPRD:7505204;HPRD:9651358;ICELLNET:21389326;LRdb:15147956;LRdb:7505204;LRdb:9651358;SIGNOR:10080542;SIGNOR:12681969;SPIKE:7505204;SPIKE:9651358;connectomeDB2020:15147956;connectomeDB2020:7505204;connectomeDB2020:9651358\n",
       "2 HPMR:12681969;HPMR:15147956;HPRD:7505204;HPRD:9651358                                                                                                                                                                                                                                                                                                                                                                                                                   \n",
       "  curation_effort n_references n_resources annotation_strategy db     \n",
       "1 26              9            21          LR                  both   \n",
       "2  4              4             4          curated             curated"
      ]
     },
     "metadata": {},
     "output_type": "display_data"
    }
   ],
   "source": [
    "filter(LR_database, Ligand==\"FLT3\" | Receptor==\"FLT3\")"
   ]
  },
  {
   "cell_type": "code",
   "execution_count": 49,
   "id": "08a76ef2",
   "metadata": {},
   "outputs": [],
   "source": [
    "LR_database$dup <- paste(LR_database$Receptor, LR_database$Ligand, sep=\"_\")"
   ]
  },
  {
   "cell_type": "code",
   "execution_count": 50,
   "id": "7ca0c325",
   "metadata": {},
   "outputs": [],
   "source": [
    "subset_lr <- LR_database[LR_database$Pair.Name %in% LR_database$dup,  ] "
   ]
  },
  {
   "cell_type": "code",
   "execution_count": 51,
   "id": "1677ab9d",
   "metadata": {},
   "outputs": [],
   "source": [
    "LR_database <- LR_database[!LR_database$Pair.Name %in% subset_lr$Pair.Name,  ] "
   ]
  },
  {
   "cell_type": "code",
   "execution_count": 53,
   "id": "0074213b",
   "metadata": {},
   "outputs": [
    {
     "data": {
      "text/plain": [
       ".\n",
       "  0   1 \n",
       "547 215 "
      ]
     },
     "metadata": {},
     "output_type": "display_data"
    }
   ],
   "source": [
    "subset_lr %>% pull(consensus_direction) %>% table()"
   ]
  },
  {
   "cell_type": "code",
   "execution_count": 7,
   "id": "6ba50cd3",
   "metadata": {},
   "outputs": [],
   "source": [
    "plexin_family <- as.vector(subset_lr[grep(\"plexin\", subset_lr$Receptor.Name), ]$Receptor)\n",
    "\n",
    "neuroligin_family <- as.vector(subset_lr[grep(\"neuroligin\", subset_lr$Receptor.Name), ]$Receptor)\n",
    "\n",
    "adam_family <- as.vector(subset_lr[grep(\"ADAM\", subset_lr$Receptor.Name), ]$Receptor)\n",
    "\n",
    "receptor_anno <- as.vector(subset_lr[grep(\"receptor\", subset_lr$Ligand.Name), ]$Ligand)"
   ]
  },
  {
   "cell_type": "code",
   "execution_count": 8,
   "id": "f0c37fb3",
   "metadata": {},
   "outputs": [],
   "source": [
    "ligand <- c(\"AGRN\", \"BMP2\", \"BMP4\", \"VTCN1\", \"CD244\", \"CD38\", \"GAS6\", \"GDNF\", \"GUCA2A\", \n",
    "\"HHLA2\", \"IHH\", \"PSEN1\", \"NLGN\", \"NRTN\", \"RPH3A\", \"SHH\")\n",
    "\n",
    "receptor <- c(\"CD2\", \"CD27\", \"CD80\", \"CD86\", \"SELL\", \"CD44\", \"CD81\", \"CD8A\", \"CLEC1B\", \n",
    "\"GLG1\", \"TYROBP\")"
   ]
  },
  {
   "cell_type": "code",
   "execution_count": 9,
   "id": "a08372dd",
   "metadata": {},
   "outputs": [],
   "source": [
    "ligand <- unique(c(ligand,plexin_family,neuroligin_family,adam_family))\n",
    "receptor <- unique(c(receptor,receptor_anno))"
   ]
  },
  {
   "cell_type": "code",
   "execution_count": 37,
   "id": "57b1338b",
   "metadata": {
    "scrolled": true
   },
   "outputs": [
    {
     "data": {
      "text/html": [
       "<table class=\"dataframe\">\n",
       "<caption>A data.frame: 2 × 26</caption>\n",
       "<thead>\n",
       "\t<tr><th scope=col>Pair.Name</th><th scope=col>Ligand</th><th scope=col>Ligand.Name</th><th scope=col>Receptor</th><th scope=col>Receptor.Name</th><th scope=col>complex_pair</th><th scope=col>partner_a</th><th scope=col>partner_b</th><th scope=col>source</th><th scope=col>target</th><th scope=col>⋯</th><th scope=col>consensus_stimulation</th><th scope=col>consensus_inhibition</th><th scope=col>sources</th><th scope=col>references</th><th scope=col>curation_effort</th><th scope=col>n_references</th><th scope=col>n_resources</th><th scope=col>annotation_strategy</th><th scope=col>db</th><th scope=col>dup</th></tr>\n",
       "\t<tr><th scope=col>&lt;chr&gt;</th><th scope=col>&lt;chr&gt;</th><th scope=col>&lt;chr&gt;</th><th scope=col>&lt;chr&gt;</th><th scope=col>&lt;chr&gt;</th><th scope=col>&lt;chr&gt;</th><th scope=col>&lt;chr&gt;</th><th scope=col>&lt;chr&gt;</th><th scope=col>&lt;chr&gt;</th><th scope=col>&lt;chr&gt;</th><th scope=col>⋯</th><th scope=col>&lt;int&gt;</th><th scope=col>&lt;int&gt;</th><th scope=col>&lt;chr&gt;</th><th scope=col>&lt;chr&gt;</th><th scope=col>&lt;int&gt;</th><th scope=col>&lt;int&gt;</th><th scope=col>&lt;int&gt;</th><th scope=col>&lt;chr&gt;</th><th scope=col>&lt;chr&gt;</th><th scope=col>&lt;chr&gt;</th></tr>\n",
       "</thead>\n",
       "<tbody>\n",
       "\t<tr><td>FLT3LG_FLT3</td><td>FLT3LG</td><td>fms related receptor tyrosine kinase 3 ligand</td><td>FLT3  </td><td>fms related receptor tyrosine kinase 3       </td><td>NA</td><td>P49771</td><td>P36888</td><td>P49771</td><td>P36888</td><td>⋯</td><td>1</td><td>0</td><td>Baccin2019;CellCall;CellChatDB;CellPhoneDB;CellTalkDB;Cellinker;DLRP_talklr;Fantom5_LRdb;Guide2Pharma;Guide2Pharma_LRdb;Guide2Pharma_talklr;HPMR;HPMR_LRdb;HPMR_talklr;HPRD;HPRD_LRdb;HPRD_talklr;ICELLNET;KEGG-MEDICUS;Kirouac2010;LRdb;Ramilowski2015;Ramilowski2015_Baccin2019;SIGNOR;SPIKE;STRING_talklr;Wang;connectomeDB2020;iTALK;scConnect;talklr</td><td>Baccin2019:15147956;Baccin2019:7505204;Baccin2019:9651358;CellChatDB:25992210;CellTalkDB:9651358;Cellinker:15147956;Cellinker:15618475;Cellinker:19830725;Cellinker:25992210;Cellinker:7505204;Cellinker:9651358;HPMR:12681969;HPMR:15147956;HPRD:7505204;HPRD:9651358;ICELLNET:21389326;LRdb:15147956;LRdb:7505204;LRdb:9651358;SIGNOR:10080542;SIGNOR:12681969;SPIKE:7505204;SPIKE:9651358;connectomeDB2020:15147956;connectomeDB2020:7505204;connectomeDB2020:9651358</td><td>26</td><td>9</td><td>21</td><td>LR     </td><td>both   </td><td>FLT3_FLT3LG</td></tr>\n",
       "\t<tr><td>FLT3_FLT3LG</td><td>FLT3  </td><td>fms related receptor tyrosine kinase 3       </td><td>FLT3LG</td><td>fms related receptor tyrosine kinase 3 ligand</td><td>NA</td><td>P36888</td><td>P49771</td><td>P36888</td><td>P49771</td><td>⋯</td><td>0</td><td>0</td><td>CellCall;HPMR;HPRD;PhosphoPoint                                                                                                                                                                                                                                                                                                                          </td><td>HPMR:12681969;HPMR:15147956;HPRD:7505204;HPRD:9651358                                                                                                                                                                                                                                                                                                                                                                                                                   </td><td> 4</td><td>4</td><td> 4</td><td>curated</td><td>curated</td><td>FLT3LG_FLT3</td></tr>\n",
       "</tbody>\n",
       "</table>\n"
      ],
      "text/latex": [
       "A data.frame: 2 × 26\n",
       "\\begin{tabular}{lllllllllllllllllllll}\n",
       " Pair.Name & Ligand & Ligand.Name & Receptor & Receptor.Name & complex\\_pair & partner\\_a & partner\\_b & source & target & ⋯ & consensus\\_stimulation & consensus\\_inhibition & sources & references & curation\\_effort & n\\_references & n\\_resources & annotation\\_strategy & db & dup\\\\\n",
       " <chr> & <chr> & <chr> & <chr> & <chr> & <chr> & <chr> & <chr> & <chr> & <chr> & ⋯ & <int> & <int> & <chr> & <chr> & <int> & <int> & <int> & <chr> & <chr> & <chr>\\\\\n",
       "\\hline\n",
       "\t FLT3LG\\_FLT3 & FLT3LG & fms related receptor tyrosine kinase 3 ligand & FLT3   & fms related receptor tyrosine kinase 3        & NA & P49771 & P36888 & P49771 & P36888 & ⋯ & 1 & 0 & Baccin2019;CellCall;CellChatDB;CellPhoneDB;CellTalkDB;Cellinker;DLRP\\_talklr;Fantom5\\_LRdb;Guide2Pharma;Guide2Pharma\\_LRdb;Guide2Pharma\\_talklr;HPMR;HPMR\\_LRdb;HPMR\\_talklr;HPRD;HPRD\\_LRdb;HPRD\\_talklr;ICELLNET;KEGG-MEDICUS;Kirouac2010;LRdb;Ramilowski2015;Ramilowski2015\\_Baccin2019;SIGNOR;SPIKE;STRING\\_talklr;Wang;connectomeDB2020;iTALK;scConnect;talklr & Baccin2019:15147956;Baccin2019:7505204;Baccin2019:9651358;CellChatDB:25992210;CellTalkDB:9651358;Cellinker:15147956;Cellinker:15618475;Cellinker:19830725;Cellinker:25992210;Cellinker:7505204;Cellinker:9651358;HPMR:12681969;HPMR:15147956;HPRD:7505204;HPRD:9651358;ICELLNET:21389326;LRdb:15147956;LRdb:7505204;LRdb:9651358;SIGNOR:10080542;SIGNOR:12681969;SPIKE:7505204;SPIKE:9651358;connectomeDB2020:15147956;connectomeDB2020:7505204;connectomeDB2020:9651358 & 26 & 9 & 21 & LR      & both    & FLT3\\_FLT3LG\\\\\n",
       "\t FLT3\\_FLT3LG & FLT3   & fms related receptor tyrosine kinase 3        & FLT3LG & fms related receptor tyrosine kinase 3 ligand & NA & P36888 & P49771 & P36888 & P49771 & ⋯ & 0 & 0 & CellCall;HPMR;HPRD;PhosphoPoint                                                                                                                                                                                                                                                                                                                           & HPMR:12681969;HPMR:15147956;HPRD:7505204;HPRD:9651358                                                                                                                                                                                                                                                                                                                                                                                                                    &  4 & 4 &  4 & curated & curated & FLT3LG\\_FLT3\\\\\n",
       "\\end{tabular}\n"
      ],
      "text/markdown": [
       "\n",
       "A data.frame: 2 × 26\n",
       "\n",
       "| Pair.Name &lt;chr&gt; | Ligand &lt;chr&gt; | Ligand.Name &lt;chr&gt; | Receptor &lt;chr&gt; | Receptor.Name &lt;chr&gt; | complex_pair &lt;chr&gt; | partner_a &lt;chr&gt; | partner_b &lt;chr&gt; | source &lt;chr&gt; | target &lt;chr&gt; | ⋯ ⋯ | consensus_stimulation &lt;int&gt; | consensus_inhibition &lt;int&gt; | sources &lt;chr&gt; | references &lt;chr&gt; | curation_effort &lt;int&gt; | n_references &lt;int&gt; | n_resources &lt;int&gt; | annotation_strategy &lt;chr&gt; | db &lt;chr&gt; | dup &lt;chr&gt; |\n",
       "|---|---|---|---|---|---|---|---|---|---|---|---|---|---|---|---|---|---|---|---|---|\n",
       "| FLT3LG_FLT3 | FLT3LG | fms related receptor tyrosine kinase 3 ligand | FLT3   | fms related receptor tyrosine kinase 3        | NA | P49771 | P36888 | P49771 | P36888 | ⋯ | 1 | 0 | Baccin2019;CellCall;CellChatDB;CellPhoneDB;CellTalkDB;Cellinker;DLRP_talklr;Fantom5_LRdb;Guide2Pharma;Guide2Pharma_LRdb;Guide2Pharma_talklr;HPMR;HPMR_LRdb;HPMR_talklr;HPRD;HPRD_LRdb;HPRD_talklr;ICELLNET;KEGG-MEDICUS;Kirouac2010;LRdb;Ramilowski2015;Ramilowski2015_Baccin2019;SIGNOR;SPIKE;STRING_talklr;Wang;connectomeDB2020;iTALK;scConnect;talklr | Baccin2019:15147956;Baccin2019:7505204;Baccin2019:9651358;CellChatDB:25992210;CellTalkDB:9651358;Cellinker:15147956;Cellinker:15618475;Cellinker:19830725;Cellinker:25992210;Cellinker:7505204;Cellinker:9651358;HPMR:12681969;HPMR:15147956;HPRD:7505204;HPRD:9651358;ICELLNET:21389326;LRdb:15147956;LRdb:7505204;LRdb:9651358;SIGNOR:10080542;SIGNOR:12681969;SPIKE:7505204;SPIKE:9651358;connectomeDB2020:15147956;connectomeDB2020:7505204;connectomeDB2020:9651358 | 26 | 9 | 21 | LR      | both    | FLT3_FLT3LG |\n",
       "| FLT3_FLT3LG | FLT3   | fms related receptor tyrosine kinase 3        | FLT3LG | fms related receptor tyrosine kinase 3 ligand | NA | P36888 | P49771 | P36888 | P49771 | ⋯ | 0 | 0 | CellCall;HPMR;HPRD;PhosphoPoint                                                                                                                                                                                                                                                                                                                           | HPMR:12681969;HPMR:15147956;HPRD:7505204;HPRD:9651358                                                                                                                                                                                                                                                                                                                                                                                                                    |  4 | 4 |  4 | curated | curated | FLT3LG_FLT3 |\n",
       "\n"
      ],
      "text/plain": [
       "  Pair.Name   Ligand Ligand.Name                                   Receptor\n",
       "1 FLT3LG_FLT3 FLT3LG fms related receptor tyrosine kinase 3 ligand FLT3    \n",
       "2 FLT3_FLT3LG FLT3   fms related receptor tyrosine kinase 3        FLT3LG  \n",
       "  Receptor.Name                                 complex_pair partner_a\n",
       "1 fms related receptor tyrosine kinase 3        NA           P49771   \n",
       "2 fms related receptor tyrosine kinase 3 ligand NA           P36888   \n",
       "  partner_b source target ⋯ consensus_stimulation consensus_inhibition\n",
       "1 P36888    P49771 P36888 ⋯ 1                     0                   \n",
       "2 P49771    P36888 P49771 ⋯ 0                     0                   \n",
       "  sources                                                                                                                                                                                                                                                                                                                                                  \n",
       "1 Baccin2019;CellCall;CellChatDB;CellPhoneDB;CellTalkDB;Cellinker;DLRP_talklr;Fantom5_LRdb;Guide2Pharma;Guide2Pharma_LRdb;Guide2Pharma_talklr;HPMR;HPMR_LRdb;HPMR_talklr;HPRD;HPRD_LRdb;HPRD_talklr;ICELLNET;KEGG-MEDICUS;Kirouac2010;LRdb;Ramilowski2015;Ramilowski2015_Baccin2019;SIGNOR;SPIKE;STRING_talklr;Wang;connectomeDB2020;iTALK;scConnect;talklr\n",
       "2 CellCall;HPMR;HPRD;PhosphoPoint                                                                                                                                                                                                                                                                                                                          \n",
       "  references                                                                                                                                                                                                                                                                                                                                                                                                                                                              \n",
       "1 Baccin2019:15147956;Baccin2019:7505204;Baccin2019:9651358;CellChatDB:25992210;CellTalkDB:9651358;Cellinker:15147956;Cellinker:15618475;Cellinker:19830725;Cellinker:25992210;Cellinker:7505204;Cellinker:9651358;HPMR:12681969;HPMR:15147956;HPRD:7505204;HPRD:9651358;ICELLNET:21389326;LRdb:15147956;LRdb:7505204;LRdb:9651358;SIGNOR:10080542;SIGNOR:12681969;SPIKE:7505204;SPIKE:9651358;connectomeDB2020:15147956;connectomeDB2020:7505204;connectomeDB2020:9651358\n",
       "2 HPMR:12681969;HPMR:15147956;HPRD:7505204;HPRD:9651358                                                                                                                                                                                                                                                                                                                                                                                                                   \n",
       "  curation_effort n_references n_resources annotation_strategy db     \n",
       "1 26              9            21          LR                  both   \n",
       "2  4              4             4          curated             curated\n",
       "  dup        \n",
       "1 FLT3_FLT3LG\n",
       "2 FLT3LG_FLT3"
      ]
     },
     "metadata": {},
     "output_type": "display_data"
    }
   ],
   "source": [
    "filter(subset_lr, Ligand==\"FLT3\" | Receptor==\"FLT3\")"
   ]
  },
  {
   "cell_type": "code",
   "execution_count": 38,
   "id": "d7e51de2",
   "metadata": {},
   "outputs": [],
   "source": [
    "subset_lr <- subset_lr[!subset_lr$Receptor %in% ligand,]"
   ]
  },
  {
   "cell_type": "code",
   "execution_count": 40,
   "id": "c79a4b81",
   "metadata": {},
   "outputs": [],
   "source": [
    "subset_lr <- subset_lr[!subset_lr$Ligand %in% receptor,]"
   ]
  },
  {
   "cell_type": "code",
   "execution_count": 54,
   "id": "e32b68e5",
   "metadata": {},
   "outputs": [],
   "source": [
    "dir <- subset_lr %>% filter(Pair.Name %in% subset_lr$dup & consensus_direction == 1)"
   ]
  },
  {
   "cell_type": "code",
   "execution_count": 13,
   "id": "c6d5da4a",
   "metadata": {},
   "outputs": [],
   "source": [
    "subset_lr <- subset_lr[!subset_lr$Pair.Name %in% dir$Pair.Name,  ]\n",
    "subset_lr <- subset_lr[!subset_lr$Pair.Name %in% dir$dup,  ]"
   ]
  },
  {
   "cell_type": "code",
   "execution_count": 14,
   "id": "41d949aa",
   "metadata": {},
   "outputs": [],
   "source": [
    "no_dir <- subset_lr %>% filter(Pair.Name %in% subset_lr$dup & consensus_direction == 0)"
   ]
  },
  {
   "cell_type": "code",
   "execution_count": 15,
   "id": "fe4630e5",
   "metadata": {},
   "outputs": [],
   "source": [
    "subset_lr <- subset_lr[!subset_lr$Pair.Name %in% no_dir$Pair.Name,  ] "
   ]
  },
  {
   "cell_type": "code",
   "execution_count": 16,
   "id": "edc7205d",
   "metadata": {},
   "outputs": [],
   "source": [
    "df <- data.frame(matrix(ncol = ncol(subset_lr), nrow = 0))\n",
    "x <- colnames(subset_lr)\n",
    "colnames(df) <- x"
   ]
  },
  {
   "cell_type": "code",
   "execution_count": 17,
   "id": "152498a0",
   "metadata": {},
   "outputs": [],
   "source": [
    "for (lig in unique(no_dir$Ligand)) {\n",
    "    vec_clean <- vector()\n",
    "    \n",
    "    r1 <- filter(no_dir, Ligand==lig | Receptor == lig)\n",
    "    \n",
    "    vec <- r1$Pair.Name\n",
    "    \n",
    "    for (component in vec) {\n",
    "        comp <- unlist(strsplit(component, split = \"_\"))\n",
    "        pair1 <- paste(comp[1], comp[2], sep = \"_\")\n",
    "        pair2 <- paste(comp[2], comp[1], sep = \"_\")\n",
    "        \n",
    "        if (!pair1 %in% vec_clean & !pair2 %in% vec_clean) {\n",
    "            vec_clean <- append(vec_clean, pair1)\n",
    "        }\n",
    "    }\n",
    "    \n",
    "    c1 <- r1[r1$Pair.Name %in% vec_clean,]\n",
    "    \n",
    "    df <- rbind(df,c1)\n",
    "}"
   ]
  },
  {
   "cell_type": "code",
   "execution_count": 18,
   "id": "c0bbc7c3",
   "metadata": {},
   "outputs": [],
   "source": [
    "no_dir_df <- df[!duplicated(df$Pair.Name),]"
   ]
  },
  {
   "cell_type": "code",
   "execution_count": 19,
   "id": "89ce36da",
   "metadata": {},
   "outputs": [],
   "source": [
    "subset_lr <- rbind(subset_lr,dir,no_dir_df)"
   ]
  },
  {
   "cell_type": "code",
   "execution_count": 20,
   "id": "3c5ab738",
   "metadata": {},
   "outputs": [],
   "source": [
    "LR_database <- rbind(subset_lr,LR_database)"
   ]
  },
  {
   "cell_type": "code",
   "execution_count": 188,
   "id": "6ff30e19",
   "metadata": {},
   "outputs": [],
   "source": [
    "rownames(LR_database) <- 1:nrow(LR_database) "
   ]
  },
  {
   "cell_type": "code",
   "execution_count": 193,
   "id": "bcda3df6",
   "metadata": {},
   "outputs": [],
   "source": [
    "save(LR_database, file = \"LR_database.rda\")"
   ]
  },
  {
   "cell_type": "code",
   "execution_count": 195,
   "id": "0d1e9014",
   "metadata": {},
   "outputs": [],
   "source": [
    "write.csv(LR_database, \"LR_database.csv\")"
   ]
  },
  {
   "cell_type": "code",
   "execution_count": 196,
   "id": "693b46eb",
   "metadata": {},
   "outputs": [
    {
     "data": {
      "text/html": [
       "'/home/mami/Maria/CommCompile/community_v3/community/data'"
      ],
      "text/latex": [
       "'/home/mami/Maria/CommCompile/community\\_v3/community/data'"
      ],
      "text/markdown": [
       "'/home/mami/Maria/CommCompile/community_v3/community/data'"
      ],
      "text/plain": [
       "[1] \"/home/mami/Maria/CommCompile/community_v3/community/data\""
      ]
     },
     "metadata": {},
     "output_type": "display_data"
    }
   ],
   "source": [
    "getwd()"
   ]
  },
  {
   "cell_type": "code",
   "execution_count": null,
   "id": "36b71257",
   "metadata": {},
   "outputs": [],
   "source": []
  }
 ],
 "metadata": {
  "kernelspec": {
   "display_name": "R",
   "language": "R",
   "name": "ir"
  },
  "language_info": {
   "codemirror_mode": "r",
   "file_extension": ".r",
   "mimetype": "text/x-r-source",
   "name": "R",
   "pygments_lexer": "r",
   "version": "4.1.2"
  }
 },
 "nbformat": 4,
 "nbformat_minor": 5
}
