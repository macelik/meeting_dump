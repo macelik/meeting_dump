{
 "cells": [
  {
   "cell_type": "code",
   "execution_count": 1,
   "id": "a769ad49",
   "metadata": {},
   "outputs": [
    {
     "name": "stderr",
     "output_type": "stream",
     "text": [
      "── \u001b[1mAttaching packages\u001b[22m ─────────────────────────────────────── tidyverse 1.3.2 ──\n",
      "\u001b[32m✔\u001b[39m \u001b[34mggplot2\u001b[39m 3.4.0      \u001b[32m✔\u001b[39m \u001b[34mpurrr  \u001b[39m 0.3.5 \n",
      "\u001b[32m✔\u001b[39m \u001b[34mtibble \u001b[39m 3.1.8      \u001b[32m✔\u001b[39m \u001b[34mdplyr  \u001b[39m 1.0.10\n",
      "\u001b[32m✔\u001b[39m \u001b[34mtidyr  \u001b[39m 1.2.1      \u001b[32m✔\u001b[39m \u001b[34mstringr\u001b[39m 1.5.0 \n",
      "\u001b[32m✔\u001b[39m \u001b[34mreadr  \u001b[39m 2.1.3      \u001b[32m✔\u001b[39m \u001b[34mforcats\u001b[39m 0.5.2 \n",
      "── \u001b[1mConflicts\u001b[22m ────────────────────────────────────────── tidyverse_conflicts() ──\n",
      "\u001b[31m✖\u001b[39m \u001b[34mdplyr\u001b[39m::\u001b[32mfilter()\u001b[39m masks \u001b[34mstats\u001b[39m::filter()\n",
      "\u001b[31m✖\u001b[39m \u001b[34mdplyr\u001b[39m::\u001b[32mlag()\u001b[39m    masks \u001b[34mstats\u001b[39m::lag()\n",
      "Loading required package: grid\n",
      "\n",
      "Loading required package: futile.logger\n",
      "\n"
     ]
    }
   ],
   "source": [
    "library(OmnipathR)\n",
    "# library(nichenetr)\n",
    "library(tidyverse)\n",
    "library(dplyr)\n",
    "library(VennDiagram)\n",
    "library(ggplot2)\n",
    "library(utils)"
   ]
  },
  {
   "cell_type": "markdown",
   "id": "721a5684",
   "metadata": {},
   "source": [
    "```import_ligrecextra_interactions```\n",
    "\n",
    "link: to documentation <https://r.omnipathdb.org/reference/import_ligrecextra_interactions.html>\n",
    "\n",
    "This LR dataset contains ligand-receptor interactions without literature reference. The ligand-receptor interactions supported by literature references are part of the `omnipath` dataset.\n",
    "\n",
    "\n",
    "Default params(without filtering resources) has 8350 edges. The table includes columns as follows. \n",
    "\n",
    "'source' 'target' 'source_genesymbol' 'target_genesymbol' 'is_directed' 'is_stimulation' 'is_inhibition' 'consensus_direction' 'consensus_stimulation' 'consensus_inhibition' 'sources' 'references' 'curation_effort' 'n_references' 'n_resources'\n",
    "\n",
    "**The consensus score is if resources supporting the classification of an entity into a category based on combined information of many resources.**\n",
    "\n",
    "<span style=\"color:red\">I do not undertand how it can have sources but no references.</span>\n",
    "\n",
    "| sources                                                         | ref | cur_effort | n_ref | n_source |\n",
    "|-----------------------------------------------------------------|-----|------------|-------|----------|\n",
    "|      Baccin2019;CellCall;PhosphoPoint;Ramilowski2015_Baccin2019 | NA  | 0          | 0     | 3        |\n",
    "| Baccin2019;CellCall;PhosphoPoint;Ramilowski2015_Baccin2019;Wang | NA  | 0          | 0     | 4        |\n",
    "|                                                                 |     |            |       |          |"
   ]
  },
  {
   "cell_type": "code",
   "execution_count": 2,
   "id": "4bf99d42",
   "metadata": {},
   "outputs": [],
   "source": [
    "# https://r.omnipathdb.org/reference/curated_ligand_receptor_interactions.html\n",
    "# curated=curated_ligand_receptor_interactions()\n",
    "lr <- import_ligrecextra_interactions()"
   ]
  },
  {
   "cell_type": "code",
   "execution_count": 3,
   "id": "8d975293",
   "metadata": {},
   "outputs": [],
   "source": [
    "lr <- lr %>% filter(!duplicated(lr[, c(\"source_genesymbol\", \"target_genesymbol\")]))"
   ]
  },
  {
   "cell_type": "markdown",
   "id": "959fa8dd",
   "metadata": {},
   "source": [
    "```import_omnipath_intercell``` Imports the OmniPath intercellular **communication role annotation** database. It provides information on the roles in inter-cellular signaling. E.g. if a protein is a ligand, a receptor, an extracellular matrix (ECM) component, etc."
   ]
  },
  {
   "cell_type": "code",
   "execution_count": 4,
   "id": "f0ebd5b4",
   "metadata": {},
   "outputs": [],
   "source": [
    "# the genesymbol PIK3CD-AS1 is causing an error in the later steps, we convert the name\n",
    "# lr[lr == \"PIK3CD-AS1\"] <- \"PIK3CD\""
   ]
  },
  {
   "cell_type": "code",
   "execution_count": 5,
   "id": "a5a54454",
   "metadata": {},
   "outputs": [],
   "source": [
    "anno_raw <- import_omnipath_intercell()\n",
    "#subset annotation DB to only ligand and receptors\n",
    "anno_lig <- anno_raw %>%\n",
    "    dplyr::filter(category %in% c(\"receptor\",\"ligand\"))\n",
    "# Drop rows where the values in the \"parent\", \"database\", and \"uniprot\" columns are duplicated\n",
    "anno_raw <- anno_raw %>% filter(!duplicated(anno_raw[, c(\"parent\", \"database\", \"uniprot\")]))"
   ]
  },
  {
   "cell_type": "markdown",
   "id": "1e382b4a",
   "metadata": {},
   "source": [
    "# Breaking down complexes"
   ]
  },
  {
   "cell_type": "code",
   "execution_count": 6,
   "id": "fba3968e",
   "metadata": {},
   "outputs": [],
   "source": [
    "#filter only those are in complex\n",
    "complex <- filter(lr, grepl('COMPLEX', target) | grepl('COMPLEX',source))\n",
    "complex$source <- sub(\"COMPLEX:\", \"\", complex$source)\n",
    "complex$target <- sub(\"COMPLEX:\", \"\", complex$target)"
   ]
  },
  {
   "cell_type": "code",
   "execution_count": 7,
   "id": "e6128999",
   "metadata": {},
   "outputs": [],
   "source": [
    "#complexes are seperated into individual components\n",
    "components_target <- unique(unlist(strsplit(complex$source_genesymbol,\"_\")))\n",
    "components_source <- unique(unlist(strsplit(complex$target_genesymbol,\"_\")))\n",
    "components_both <- c(components_target,components_source)\n",
    "components_both <- unique(components_both)"
   ]
  },
  {
   "cell_type": "markdown",
   "id": "4f69c663",
   "metadata": {},
   "source": [
    "Below, we produce all the the possible pairs. \n",
    "\n",
    "Example: lets assume complex G1_G2_G3 is linked to another complex G4_G5_G6\n",
    "\n",
    "| c1 | c2 | complex_origin    |\n",
    "|----|----|-------------------|\n",
    "| G1 | G2 | G1_G2_G3_G4_G5_G6 |\n",
    "| G1 | G3 | G1_G2_G3_G4_G5_G6 |\n",
    "| G1 | G4 | G1_G2_G3_G4_G5_G6 |\n",
    "| G1 | G5 | G1_G2_G3_G4_G5_G6 |\n",
    "| G1 | G6 | G1_G2_G3_G4_G5_G6 |\n",
    "| G2 | G1 | G1_G2_G3_G4_G5_G6 |\n",
    "| G2 | G3 | G1_G2_G3_G4_G5_G6 |\n",
    "| .. | .. | G1_G2_G3_G4_G5_G6 |"
   ]
  },
  {
   "cell_type": "code",
   "execution_count": 8,
   "id": "ee930d8b",
   "metadata": {},
   "outputs": [
    {
     "name": "stdout",
     "output_type": "stream",
     "text": [
      "'data.frame':\t3272 obs. of  3 variables:\n",
      " $ source      : chr  \"IL17A\" \"IL17A\" \"IL17RA\" \"NPNT\" ...\n",
      " $ target      : chr  \"IL17RA\" \"IL17RC\" \"IL17RC\" \"ITGA8\" ...\n",
      " $ complex_pair: chr  \"IL17A_IL17RA_IL17RC\" \"IL17A_IL17RA_IL17RC\" \"IL17A_IL17RA_IL17RC\" \"NPNT_ITGA8_ITGB1\" ...\n"
     ]
    }
   ],
   "source": [
    "# Produce all the possbile pairwise pairs\n",
    "\n",
    "results <- list()\n",
    "\n",
    "# Loop through each row of the data frame\n",
    "for (i in 1:nrow(complex)) {\n",
    "  # Extract the values from the first column\n",
    "  values1 <- unlist(strsplit(as.character(complex[i, \"source_genesymbol\"]), \"_\"))\n",
    "  # Extract the values from the second column\n",
    "  values2 <- unlist(strsplit(as.character(complex[i, \"target_genesymbol\"]), \"_\"))\n",
    "  # Keep the original pair\n",
    "  original <- paste(complex[i, \"source_genesymbol\"],complex[i, \"target_genesymbol\"],sep=\"_\")\n",
    "  # Generate all the pairwise combinations using combn\n",
    "  pairs <- combn(c(values1, values2), 2)\n",
    "  pairs <- t(pairs)\n",
    "  pairs <- cbind(pairs,original)\n",
    "  # Append the results to the list\n",
    "  results[[i]] <- as.data.frame(pairs)\n",
    "    colnames(results[[i]]) = c(\"source\",\"target\",\"complex_pair\")\n",
    "    row.names(results[[i]]) <- NULL\n",
    "}\n",
    "\n",
    "# Bind the results into a single data frame\n",
    "result_df2 <- as.data.frame(do.call(rbind, results))\n",
    "\n",
    "# Switch the values in the \"col1\" and \"col2\" columns\n",
    "df1 <- cbind(result_df2[,2], result_df2[,1], result_df2[,3])\n",
    "colnames(df1) <- names(result_df2)\n",
    "# Bind the rows into a single data frame\n",
    "result_df <- rbind(result_df2, df1)\n",
    "\n",
    "\n",
    "# Drop the self links\n",
    "result_df <- result_df %>% filter(!duplicated(result_df[, c(\"source\", \"target\")]))\n",
    "\n",
    "# View the resulting data frame\n",
    "str(result_df)"
   ]
  },
  {
   "cell_type": "markdown",
   "id": "38b9edd6",
   "metadata": {},
   "source": [
    "# Annotation of components\n",
    "\n",
    "The complexes are decomposed into their individual components. The Omnipath Intercell annotation database is imported and used to annotate each component. If at least two databases categorize a component as a ligand or receptor, it is annotated as such. If not, we check other possible categories such as extracellular matrix, secreted, and transmembrane \n",
    "\n"
   ]
  },
  {
   "cell_type": "code",
   "execution_count": 9,
   "id": "ccc342a8",
   "metadata": {},
   "outputs": [],
   "source": [
    "#create a df to store annotation\n",
    "df <- data.frame(genesymbol = character(length(components_both)), score = numeric(length(components_both)), parent = character(length(components_both)), stringsAsFactors = FALSE)"
   ]
  },
  {
   "cell_type": "code",
   "execution_count": 10,
   "id": "058e7c0e",
   "metadata": {},
   "outputs": [
    {
     "data": {
      "text/plain": [
       "\n",
       "  ligand       NA receptor \n",
       "     238       46      198 "
      ]
     },
     "metadata": {},
     "output_type": "display_data"
    }
   ],
   "source": [
    "# Check if the components are categorized as ligands or receptors\n",
    "\n",
    "for (x in 1:length(components_both)) {\n",
    "#     maxvalue=max(filter(anno, uniprot==components[x])$consensus_score)\n",
    "    genename <- components_both[x]\n",
    "    parent_score <- sort(table(filter(anno_lig, genesymbol==components_both[x])$parent), decreasing = T, na.last = T)[1]\n",
    "    parent_category <- names(parent_score)\n",
    "    \n",
    "    if (is.null(parent_category)) {\n",
    "      parent_category <- \"NA\"\n",
    "      parent_score <- 0\n",
    "    }\n",
    "    \n",
    "    df[x, \"genesymbol\"] <- genename\n",
    "    df[x, \"score\"] <- parent_score\n",
    "    df[x, \"parent\"] <- parent_category\n",
    "\n",
    "#     df$genesymbol[x] <- genename\n",
    "#     df$score[x] <- parent_score\n",
    "#     df$parent[x] <- parent_category\n",
    "}\n",
    "\n",
    "table(df$parent)"
   ]
  },
  {
   "cell_type": "code",
   "execution_count": 11,
   "id": "e327600a",
   "metadata": {},
   "outputs": [
    {
     "data": {
      "text/plain": [
       "\n",
       "          ecm        ligand      receptor      secreted transmembrane \n",
       "           29           238           198             8             9 "
      ]
     },
     "metadata": {},
     "output_type": "display_data"
    }
   ],
   "source": [
    "# If a component is not classified as a ligand or receptor, we may consider other categories such as \n",
    "# extracellular matrix, secreted, and transmembrane.# annotated others such as secreted, ecm etc\n",
    "\n",
    "df_na <- filter(df, parent==\"NA\")$genesymbol\n",
    "\n",
    "for (x in 1:length(df_na)) {\n",
    "#     maxvalue=max(filter(anno, uniprot==components[x])$consensus_score)\n",
    "    genesymbol <- df_na[x]\n",
    "    parent_score <- sort(table(filter(anno_raw, genesymbol==df_na[x])$parent), decreasing = T, na.last = T)[1]\n",
    "    parent_category <- names(parent_score)\n",
    "\n",
    "    df <- df %>% mutate(parent = ifelse(genesymbol == df_na[x], parent_category, parent))\n",
    "    df <- df %>% mutate(score = ifelse(genesymbol == df_na[x], parent_score, score))\n",
    "\n",
    "}\n",
    "\n",
    "table(df$parent)"
   ]
  },
  {
   "cell_type": "code",
   "execution_count": 12,
   "id": "117b714f",
   "metadata": {},
   "outputs": [],
   "source": [
    "# categorize ecm/secreted as ligand\n",
    "df$parent <- replace(df$parent, df$parent == \"ecm\", \"ligand\")\n",
    "df$parent <- replace(df$parent, df$parent == \"secreted\", \"ligand\")"
   ]
  },
  {
   "cell_type": "markdown",
   "id": "bcd27180",
   "metadata": {},
   "source": [
    "# Linking 1"
   ]
  },
  {
   "cell_type": "markdown",
   "id": "93ba491b",
   "metadata": {},
   "source": [
    "We are using the Omnipath intercellular interaction network, which is the largest available network of its kind, to detect interactions rather than make predictions. The creators of the network have noted that it may contain a large number of false positives. Despite this, we are using it in combination with an annotations database to detect interactions. The network has a size of 98,165 edges."
   ]
  },
  {
   "cell_type": "code",
   "execution_count": 13,
   "id": "51471dcb",
   "metadata": {},
   "outputs": [],
   "source": [
    "# Import All post-translational interactions\n",
    "pt <- import_post_translational_interactions()"
   ]
  },
  {
   "cell_type": "code",
   "execution_count": 14,
   "id": "c1341988",
   "metadata": {},
   "outputs": [],
   "source": [
    "# \"Separate the annotated components of complexes based on their type.\"\n",
    "ligands <- filter(df, parent==\"ligand\")\n",
    "receptors <- filter(df, parent==\"receptor\")"
   ]
  },
  {
   "cell_type": "code",
   "execution_count": 15,
   "id": "8ef51755",
   "metadata": {},
   "outputs": [],
   "source": [
    "# Filter the PT network to include only the components of the complexes\n",
    "pt <- pt %>%\n",
    "    dplyr::filter(source_genesymbol %in% ligands$genesymbol) %>%\n",
    "    dplyr::filter(target_genesymbol %in% receptors$genesymbol) %>%\n",
    "    dplyr::distinct()"
   ]
  },
  {
   "cell_type": "code",
   "execution_count": 16,
   "id": "750c5762",
   "metadata": {},
   "outputs": [],
   "source": [
    "# remove duplicated\n",
    "pt <- pt %>% filter(!duplicated(pt[, c(\"source_genesymbol\", \"target_genesymbol\")]))"
   ]
  },
  {
   "cell_type": "code",
   "execution_count": 17,
   "id": "07c420d8",
   "metadata": {},
   "outputs": [],
   "source": [
    "# create the pairs\n",
    "pt$pair=paste(pt$source_genesymbol, pt$target_genesymbol,sep=\"_\")\n",
    "result_df$pair=paste(result_df$source, result_df$target,sep=\"_\")"
   ]
  },
  {
   "cell_type": "code",
   "execution_count": 18,
   "id": "f9f68fea",
   "metadata": {},
   "outputs": [
    {
     "name": "stdout",
     "output_type": "stream",
     "text": [
      "'data.frame':\t983 obs. of  4 variables:\n",
      " $ source      : chr  \"IL17A\" \"IL17A\" \"NPNT\" \"NPNT\" ...\n",
      " $ target      : chr  \"IL17RA\" \"IL17RC\" \"ITGA8\" \"ITGB1\" ...\n",
      " $ complex_pair: chr  \"IL17A_IL17RA_IL17RC\" \"IL17A_IL17RA_IL17RC\" \"NPNT_ITGA8_ITGB1\" \"NPNT_ITGA8_ITGB1\" ...\n",
      " $ pair        : chr  \"IL17A_IL17RA\" \"IL17A_IL17RC\" \"NPNT_ITGA8\" \"NPNT_ITGB1\" ...\n"
     ]
    }
   ],
   "source": [
    "# The data frame result_df consists of all the pairwise pair combinations, \n",
    "# and we are checking if those pairs exist in the PT network\n",
    "pt_edges <- result_df %>%\n",
    "    filter(pair %in% pt$pair)\n",
    "\n",
    "str(pt_edges)"
   ]
  },
  {
   "cell_type": "code",
   "execution_count": 19,
   "id": "a522665e",
   "metadata": {},
   "outputs": [
    {
     "data": {
      "text/html": [
       "<table class=\"dataframe\">\n",
       "<caption>A data.frame: 6 × 4</caption>\n",
       "<thead>\n",
       "\t<tr><th scope=col>source</th><th scope=col>target</th><th scope=col>complex_pair</th><th scope=col>pair</th></tr>\n",
       "\t<tr><th scope=col>&lt;chr&gt;</th><th scope=col>&lt;chr&gt;</th><th scope=col>&lt;chr&gt;</th><th scope=col>&lt;chr&gt;</th></tr>\n",
       "</thead>\n",
       "<tbody>\n",
       "\t<tr><td>IL17A </td><td>IL17RA</td><td>IL17A_IL17RA_IL17RC</td><td>IL17A_IL17RA </td></tr>\n",
       "\t<tr><td>IL17A </td><td>IL17RC</td><td>IL17A_IL17RA_IL17RC</td><td>IL17A_IL17RC </td></tr>\n",
       "\t<tr><td>IL17RA</td><td>IL17RC</td><td>IL17A_IL17RA_IL17RC</td><td>IL17RA_IL17RC</td></tr>\n",
       "\t<tr><td>IL17RA</td><td>IL17A </td><td>IL17A_IL17RA_IL17RC</td><td>IL17RA_IL17A </td></tr>\n",
       "\t<tr><td>IL17RC</td><td>IL17A </td><td>IL17A_IL17RA_IL17RC</td><td>IL17RC_IL17A </td></tr>\n",
       "\t<tr><td>IL17RC</td><td>IL17RA</td><td>IL17A_IL17RA_IL17RC</td><td>IL17RC_IL17RA</td></tr>\n",
       "</tbody>\n",
       "</table>\n"
      ],
      "text/latex": [
       "A data.frame: 6 × 4\n",
       "\\begin{tabular}{llll}\n",
       " source & target & complex\\_pair & pair\\\\\n",
       " <chr> & <chr> & <chr> & <chr>\\\\\n",
       "\\hline\n",
       "\t IL17A  & IL17RA & IL17A\\_IL17RA\\_IL17RC & IL17A\\_IL17RA \\\\\n",
       "\t IL17A  & IL17RC & IL17A\\_IL17RA\\_IL17RC & IL17A\\_IL17RC \\\\\n",
       "\t IL17RA & IL17RC & IL17A\\_IL17RA\\_IL17RC & IL17RA\\_IL17RC\\\\\n",
       "\t IL17RA & IL17A  & IL17A\\_IL17RA\\_IL17RC & IL17RA\\_IL17A \\\\\n",
       "\t IL17RC & IL17A  & IL17A\\_IL17RA\\_IL17RC & IL17RC\\_IL17A \\\\\n",
       "\t IL17RC & IL17RA & IL17A\\_IL17RA\\_IL17RC & IL17RC\\_IL17RA\\\\\n",
       "\\end{tabular}\n"
      ],
      "text/markdown": [
       "\n",
       "A data.frame: 6 × 4\n",
       "\n",
       "| source &lt;chr&gt; | target &lt;chr&gt; | complex_pair &lt;chr&gt; | pair &lt;chr&gt; |\n",
       "|---|---|---|---|\n",
       "| IL17A  | IL17RA | IL17A_IL17RA_IL17RC | IL17A_IL17RA  |\n",
       "| IL17A  | IL17RC | IL17A_IL17RA_IL17RC | IL17A_IL17RC  |\n",
       "| IL17RA | IL17RC | IL17A_IL17RA_IL17RC | IL17RA_IL17RC |\n",
       "| IL17RA | IL17A  | IL17A_IL17RA_IL17RC | IL17RA_IL17A  |\n",
       "| IL17RC | IL17A  | IL17A_IL17RA_IL17RC | IL17RC_IL17A  |\n",
       "| IL17RC | IL17RA | IL17A_IL17RA_IL17RC | IL17RC_IL17RA |\n",
       "\n"
      ],
      "text/plain": [
       "  source target complex_pair        pair         \n",
       "1 IL17A  IL17RA IL17A_IL17RA_IL17RC IL17A_IL17RA \n",
       "2 IL17A  IL17RC IL17A_IL17RA_IL17RC IL17A_IL17RC \n",
       "3 IL17RA IL17RC IL17A_IL17RA_IL17RC IL17RA_IL17RC\n",
       "4 IL17RA IL17A  IL17A_IL17RA_IL17RC IL17RA_IL17A \n",
       "5 IL17RC IL17A  IL17A_IL17RA_IL17RC IL17RC_IL17A \n",
       "6 IL17RC IL17RA IL17A_IL17RA_IL17RC IL17RC_IL17RA"
      ]
     },
     "metadata": {},
     "output_type": "display_data"
    }
   ],
   "source": [
    "filter(result_df, complex_pair==\"IL17A_IL17RA_IL17RC\")"
   ]
  },
  {
   "cell_type": "code",
   "execution_count": 20,
   "id": "b2e27119",
   "metadata": {},
   "outputs": [
    {
     "data": {
      "text/html": [
       "<table class=\"dataframe\">\n",
       "<caption>A data.frame: 2 × 4</caption>\n",
       "<thead>\n",
       "\t<tr><th scope=col>source</th><th scope=col>target</th><th scope=col>complex_pair</th><th scope=col>pair</th></tr>\n",
       "\t<tr><th scope=col>&lt;chr&gt;</th><th scope=col>&lt;chr&gt;</th><th scope=col>&lt;chr&gt;</th><th scope=col>&lt;chr&gt;</th></tr>\n",
       "</thead>\n",
       "<tbody>\n",
       "\t<tr><td>IL17A</td><td>IL17RA</td><td>IL17A_IL17RA_IL17RC</td><td>IL17A_IL17RA</td></tr>\n",
       "\t<tr><td>IL17A</td><td>IL17RC</td><td>IL17A_IL17RA_IL17RC</td><td>IL17A_IL17RC</td></tr>\n",
       "</tbody>\n",
       "</table>\n"
      ],
      "text/latex": [
       "A data.frame: 2 × 4\n",
       "\\begin{tabular}{llll}\n",
       " source & target & complex\\_pair & pair\\\\\n",
       " <chr> & <chr> & <chr> & <chr>\\\\\n",
       "\\hline\n",
       "\t IL17A & IL17RA & IL17A\\_IL17RA\\_IL17RC & IL17A\\_IL17RA\\\\\n",
       "\t IL17A & IL17RC & IL17A\\_IL17RA\\_IL17RC & IL17A\\_IL17RC\\\\\n",
       "\\end{tabular}\n"
      ],
      "text/markdown": [
       "\n",
       "A data.frame: 2 × 4\n",
       "\n",
       "| source &lt;chr&gt; | target &lt;chr&gt; | complex_pair &lt;chr&gt; | pair &lt;chr&gt; |\n",
       "|---|---|---|---|\n",
       "| IL17A | IL17RA | IL17A_IL17RA_IL17RC | IL17A_IL17RA |\n",
       "| IL17A | IL17RC | IL17A_IL17RA_IL17RC | IL17A_IL17RC |\n",
       "\n"
      ],
      "text/plain": [
       "  source target complex_pair        pair        \n",
       "1 IL17A  IL17RA IL17A_IL17RA_IL17RC IL17A_IL17RA\n",
       "2 IL17A  IL17RC IL17A_IL17RA_IL17RC IL17A_IL17RC"
      ]
     },
     "metadata": {},
     "output_type": "display_data"
    }
   ],
   "source": [
    "filter(pt_edges, complex_pair==\"IL17A_IL17RA_IL17RC\")"
   ]
  },
  {
   "cell_type": "markdown",
   "id": "97acc778",
   "metadata": {},
   "source": [
    "# Complexes are broken down, now we can combine with the rest of the db"
   ]
  },
  {
   "cell_type": "code",
   "execution_count": 21,
   "id": "4733e463",
   "metadata": {},
   "outputs": [],
   "source": [
    "single_components = filter(lr, !grepl('COMPLEX', target) & !grepl('COMPLEX',source))"
   ]
  },
  {
   "cell_type": "code",
   "execution_count": 22,
   "id": "b74357d3",
   "metadata": {},
   "outputs": [],
   "source": [
    "single_components <- single_components %>%\n",
    "  select(source_genesymbol, target_genesymbol) %>%\n",
    "  rename(source=source_genesymbol, target=target_genesymbol) %>%\n",
    "  mutate(complex_pair = NA)"
   ]
  },
  {
   "cell_type": "code",
   "execution_count": 23,
   "id": "49c6c734",
   "metadata": {},
   "outputs": [],
   "source": [
    "single_components$pair <- paste(single_components$source, single_components$target, sep=\"_\")"
   ]
  },
  {
   "cell_type": "code",
   "execution_count": 24,
   "id": "ab26d160",
   "metadata": {},
   "outputs": [],
   "source": [
    "#merge the single ones, with complexes componenets that are detected via PT_DB\n",
    "complete <- rbind(single_components, pt_edges)"
   ]
  },
  {
   "cell_type": "code",
   "execution_count": 25,
   "id": "f016e46b",
   "metadata": {},
   "outputs": [],
   "source": [
    "#remove the duplicated ones, and drop the last ones, which are coming from the complexes\n",
    "complete <- complete[ !duplicated(complete[, \"pair\"], fromLast=F),]"
   ]
  },
  {
   "cell_type": "markdown",
   "id": "07e813e2",
   "metadata": {},
   "source": [
    "# Protein Descriptions\n",
    "\n",
    "We use mygene library to get the protein descriptions"
   ]
  },
  {
   "cell_type": "code",
   "execution_count": 26,
   "id": "da3179b6",
   "metadata": {},
   "outputs": [
    {
     "name": "stderr",
     "output_type": "stream",
     "text": [
      "Loading required package: GenomicFeatures\n",
      "\n",
      "Loading required package: BiocGenerics\n",
      "\n",
      "\n",
      "Attaching package: ‘BiocGenerics’\n",
      "\n",
      "\n",
      "The following objects are masked from ‘package:dplyr’:\n",
      "\n",
      "    combine, intersect, setdiff, union\n",
      "\n",
      "\n",
      "The following objects are masked from ‘package:stats’:\n",
      "\n",
      "    IQR, mad, sd, var, xtabs\n",
      "\n",
      "\n",
      "The following objects are masked from ‘package:base’:\n",
      "\n",
      "    anyDuplicated, append, as.data.frame, basename, cbind, colnames,\n",
      "    dirname, do.call, duplicated, eval, evalq, Filter, Find, get, grep,\n",
      "    grepl, intersect, is.unsorted, lapply, Map, mapply, match, mget,\n",
      "    order, paste, pmax, pmax.int, pmin, pmin.int, Position, rank,\n",
      "    rbind, Reduce, rownames, sapply, setdiff, sort, table, tapply,\n",
      "    union, unique, unsplit, which.max, which.min\n",
      "\n",
      "\n",
      "Loading required package: S4Vectors\n",
      "\n",
      "Loading required package: stats4\n",
      "\n",
      "\n",
      "Attaching package: ‘S4Vectors’\n",
      "\n",
      "\n",
      "The following objects are masked from ‘package:dplyr’:\n",
      "\n",
      "    first, rename\n",
      "\n",
      "\n",
      "The following object is masked from ‘package:tidyr’:\n",
      "\n",
      "    expand\n",
      "\n",
      "\n",
      "The following objects are masked from ‘package:base’:\n",
      "\n",
      "    expand.grid, I, unname\n",
      "\n",
      "\n",
      "Loading required package: IRanges\n",
      "\n",
      "\n",
      "Attaching package: ‘IRanges’\n",
      "\n",
      "\n",
      "The following objects are masked from ‘package:dplyr’:\n",
      "\n",
      "    collapse, desc, slice\n",
      "\n",
      "\n",
      "The following object is masked from ‘package:purrr’:\n",
      "\n",
      "    reduce\n",
      "\n",
      "\n",
      "Loading required package: GenomeInfoDb\n",
      "\n",
      "Loading required package: GenomicRanges\n",
      "\n",
      "Loading required package: AnnotationDbi\n",
      "\n",
      "Loading required package: Biobase\n",
      "\n",
      "Welcome to Bioconductor\n",
      "\n",
      "    Vignettes contain introductory material; view with\n",
      "    'browseVignettes()'. To cite Bioconductor, see\n",
      "    'citation(\"Biobase\")', and for packages 'citation(\"pkgname\")'.\n",
      "\n",
      "\n",
      "\n",
      "Attaching package: ‘AnnotationDbi’\n",
      "\n",
      "\n",
      "The following object is masked from ‘package:dplyr’:\n",
      "\n",
      "    select\n",
      "\n",
      "\n"
     ]
    }
   ],
   "source": [
    "library(mygene)"
   ]
  },
  {
   "cell_type": "code",
   "execution_count": 27,
   "id": "f92f3b44",
   "metadata": {},
   "outputs": [],
   "source": [
    "# get gene symbols\n",
    "gene_symbols <- unique(c(complete$source,complete$target))"
   ]
  },
  {
   "cell_type": "code",
   "execution_count": 28,
   "id": "0f320d4b",
   "metadata": {},
   "outputs": [
    {
     "name": "stderr",
     "output_type": "stream",
     "text": [
      "Querying chunk 1\n",
      "\n",
      "Querying chunk 2\n",
      "\n",
      "Querying chunk 3\n",
      "\n"
     ]
    },
    {
     "name": "stdout",
     "output_type": "stream",
     "text": [
      "Finished\n",
      "Pass returnall=TRUE to return lists of duplicate or missing query terms.\n"
     ]
    }
   ],
   "source": [
    "prot_descriptions <- queryMany(gene_symbols, scopes = \"symbol\", \n",
    "                              fields = c(\"name\"), \n",
    "                              species = \"human\", as_dataframe = \"True\")"
   ]
  },
  {
   "cell_type": "code",
   "execution_count": 29,
   "id": "ba704175",
   "metadata": {},
   "outputs": [],
   "source": [
    "prot_descriptions <- as.data.frame(prot_descriptions)"
   ]
  },
  {
   "cell_type": "code",
   "execution_count": 30,
   "id": "b613c26b",
   "metadata": {},
   "outputs": [],
   "source": [
    "#map protein descriptions to complete set\n",
    "\n",
    "for (x in 1:nrow(complete)) {\n",
    "    ligand_symbol=complete[x,]$source\n",
    "    receptor_symbol=complete[x,]$target\n",
    "    ligand_description=filter(prot_descriptions, query==ligand_symbol)$name\n",
    "    receptor_description=filter(prot_descriptions, query==receptor_symbol)$name\n",
    "    lig_id=filter(anno_raw, genesymbol==ligand_symbol)$uniprot[1]\n",
    "    rec_id=filter(anno_raw, genesymbol==receptor_symbol)$uniprot[1]\n",
    "    \n",
    "    if (ligand_symbol==\"PIK3CD-AS1\") {\n",
    "      lig_id <- \"O00329\"\n",
    "    }\n",
    "    \n",
    "#     if (is.null(receptor_description)) {\n",
    "#       receptor_description <- \"NA\"\n",
    "#     }\n",
    "    \n",
    "\n",
    "    complete[x, \"ligand.name\"] = ligand_description[1]\n",
    "    complete[x, \"receptor.name\"] = receptor_description[1]\n",
    "    complete[x, \"partner_a\"] = lig_id\n",
    "    complete[x, \"partner_b\"] = rec_id\n",
    "}"
   ]
  },
  {
   "cell_type": "code",
   "execution_count": 31,
   "id": "7ca7abde",
   "metadata": {},
   "outputs": [
    {
     "data": {
      "text/html": [
       "<table class=\"dataframe\">\n",
       "<caption>A tibble: 6 × 8</caption>\n",
       "<thead>\n",
       "\t<tr><th scope=col>source</th><th scope=col>target</th><th scope=col>complex_pair</th><th scope=col>pair</th><th scope=col>ligand.name</th><th scope=col>receptor.name</th><th scope=col>partner_a</th><th scope=col>partner_b</th></tr>\n",
       "\t<tr><th scope=col>&lt;chr&gt;</th><th scope=col>&lt;chr&gt;</th><th scope=col>&lt;chr&gt;</th><th scope=col>&lt;chr&gt;</th><th scope=col>&lt;chr&gt;</th><th scope=col>&lt;chr&gt;</th><th scope=col>&lt;chr&gt;</th><th scope=col>&lt;chr&gt;</th></tr>\n",
       "</thead>\n",
       "<tbody>\n",
       "\t<tr><td>CALM1  </td><td>TRPC3 </td><td>NA</td><td>CALM1_TRPC3  </td><td>calmodulin 1                       </td><td>transient receptor potential cation channel subfamily C member 3</td><td>P0DP23</td><td>Q13507</td></tr>\n",
       "\t<tr><td>S100A10</td><td>TRPV6 </td><td>NA</td><td>S100A10_TRPV6</td><td>S100 calcium binding protein A10   </td><td>transient receptor potential cation channel subfamily V member 6</td><td>P60903</td><td>Q9H1D0</td></tr>\n",
       "\t<tr><td>JAK2   </td><td>EPOR  </td><td>NA</td><td>JAK2_EPOR    </td><td>Janus kinase 2                     </td><td>erythropoietin receptor                                         </td><td>O60674</td><td>P19235</td></tr>\n",
       "\t<tr><td>NOTCH1 </td><td>JAG2  </td><td>NA</td><td>NOTCH1_JAG2  </td><td>notch receptor 1                   </td><td>jagged canonical Notch ligand 2                                 </td><td>P46531</td><td>Q9Y219</td></tr>\n",
       "\t<tr><td>JAG2   </td><td>NOTCH1</td><td>NA</td><td>JAG2_NOTCH1  </td><td>jagged canonical Notch ligand 2    </td><td>notch receptor 1                                                </td><td>Q9Y219</td><td>P46531</td></tr>\n",
       "\t<tr><td>DLL1   </td><td>NOTCH1</td><td>NA</td><td>DLL1_NOTCH1  </td><td>delta like canonical Notch ligand 1</td><td>notch receptor 1                                                </td><td>O00548</td><td>P46531</td></tr>\n",
       "</tbody>\n",
       "</table>\n"
      ],
      "text/latex": [
       "A tibble: 6 × 8\n",
       "\\begin{tabular}{llllllll}\n",
       " source & target & complex\\_pair & pair & ligand.name & receptor.name & partner\\_a & partner\\_b\\\\\n",
       " <chr> & <chr> & <chr> & <chr> & <chr> & <chr> & <chr> & <chr>\\\\\n",
       "\\hline\n",
       "\t CALM1   & TRPC3  & NA & CALM1\\_TRPC3   & calmodulin 1                        & transient receptor potential cation channel subfamily C member 3 & P0DP23 & Q13507\\\\\n",
       "\t S100A10 & TRPV6  & NA & S100A10\\_TRPV6 & S100 calcium binding protein A10    & transient receptor potential cation channel subfamily V member 6 & P60903 & Q9H1D0\\\\\n",
       "\t JAK2    & EPOR   & NA & JAK2\\_EPOR     & Janus kinase 2                      & erythropoietin receptor                                          & O60674 & P19235\\\\\n",
       "\t NOTCH1  & JAG2   & NA & NOTCH1\\_JAG2   & notch receptor 1                    & jagged canonical Notch ligand 2                                  & P46531 & Q9Y219\\\\\n",
       "\t JAG2    & NOTCH1 & NA & JAG2\\_NOTCH1   & jagged canonical Notch ligand 2     & notch receptor 1                                                 & Q9Y219 & P46531\\\\\n",
       "\t DLL1    & NOTCH1 & NA & DLL1\\_NOTCH1   & delta like canonical Notch ligand 1 & notch receptor 1                                                 & O00548 & P46531\\\\\n",
       "\\end{tabular}\n"
      ],
      "text/markdown": [
       "\n",
       "A tibble: 6 × 8\n",
       "\n",
       "| source &lt;chr&gt; | target &lt;chr&gt; | complex_pair &lt;chr&gt; | pair &lt;chr&gt; | ligand.name &lt;chr&gt; | receptor.name &lt;chr&gt; | partner_a &lt;chr&gt; | partner_b &lt;chr&gt; |\n",
       "|---|---|---|---|---|---|---|---|\n",
       "| CALM1   | TRPC3  | NA | CALM1_TRPC3   | calmodulin 1                        | transient receptor potential cation channel subfamily C member 3 | P0DP23 | Q13507 |\n",
       "| S100A10 | TRPV6  | NA | S100A10_TRPV6 | S100 calcium binding protein A10    | transient receptor potential cation channel subfamily V member 6 | P60903 | Q9H1D0 |\n",
       "| JAK2    | EPOR   | NA | JAK2_EPOR     | Janus kinase 2                      | erythropoietin receptor                                          | O60674 | P19235 |\n",
       "| NOTCH1  | JAG2   | NA | NOTCH1_JAG2   | notch receptor 1                    | jagged canonical Notch ligand 2                                  | P46531 | Q9Y219 |\n",
       "| JAG2    | NOTCH1 | NA | JAG2_NOTCH1   | jagged canonical Notch ligand 2     | notch receptor 1                                                 | Q9Y219 | P46531 |\n",
       "| DLL1    | NOTCH1 | NA | DLL1_NOTCH1   | delta like canonical Notch ligand 1 | notch receptor 1                                                 | O00548 | P46531 |\n",
       "\n"
      ],
      "text/plain": [
       "  source  target complex_pair pair          ligand.name                        \n",
       "1 CALM1   TRPC3  NA           CALM1_TRPC3   calmodulin 1                       \n",
       "2 S100A10 TRPV6  NA           S100A10_TRPV6 S100 calcium binding protein A10   \n",
       "3 JAK2    EPOR   NA           JAK2_EPOR     Janus kinase 2                     \n",
       "4 NOTCH1  JAG2   NA           NOTCH1_JAG2   notch receptor 1                   \n",
       "5 JAG2    NOTCH1 NA           JAG2_NOTCH1   jagged canonical Notch ligand 2    \n",
       "6 DLL1    NOTCH1 NA           DLL1_NOTCH1   delta like canonical Notch ligand 1\n",
       "  receptor.name                                                    partner_a\n",
       "1 transient receptor potential cation channel subfamily C member 3 P0DP23   \n",
       "2 transient receptor potential cation channel subfamily V member 6 P60903   \n",
       "3 erythropoietin receptor                                          O60674   \n",
       "4 jagged canonical Notch ligand 2                                  P46531   \n",
       "5 notch receptor 1                                                 Q9Y219   \n",
       "6 notch receptor 1                                                 O00548   \n",
       "  partner_b\n",
       "1 Q13507   \n",
       "2 Q9H1D0   \n",
       "3 P19235   \n",
       "4 Q9Y219   \n",
       "5 P46531   \n",
       "6 P46531   "
      ]
     },
     "metadata": {},
     "output_type": "display_data"
    }
   ],
   "source": [
    "head(complete)"
   ]
  },
  {
   "cell_type": "code",
   "execution_count": 32,
   "id": "710ffe81",
   "metadata": {},
   "outputs": [],
   "source": [
    "#reorder columns\n",
    "complete <- complete[, c(\"pair\", \"source\", \"ligand.name\", \"target\", \"receptor.name\", \"complex_pair\",\n",
    "                         \"partner_a\",\"partner_b\")]\n",
    "#rename column names\n",
    "names(complete) <- c(\"Pair.Name\", \"Ligand\", \"Ligand.Name\", \"Receptor\", \"Receptor.Name\", \"complex_pair\",\n",
    "                    \"partner_a\",\"partner_b\")"
   ]
  },
  {
   "cell_type": "code",
   "execution_count": 33,
   "id": "74a4ab0c",
   "metadata": {},
   "outputs": [
    {
     "data": {
      "text/html": [
       "<table class=\"dataframe\">\n",
       "<caption>A tibble: 6 × 8</caption>\n",
       "<thead>\n",
       "\t<tr><th scope=col>Pair.Name</th><th scope=col>Ligand</th><th scope=col>Ligand.Name</th><th scope=col>Receptor</th><th scope=col>Receptor.Name</th><th scope=col>complex_pair</th><th scope=col>partner_a</th><th scope=col>partner_b</th></tr>\n",
       "\t<tr><th scope=col>&lt;chr&gt;</th><th scope=col>&lt;chr&gt;</th><th scope=col>&lt;chr&gt;</th><th scope=col>&lt;chr&gt;</th><th scope=col>&lt;chr&gt;</th><th scope=col>&lt;chr&gt;</th><th scope=col>&lt;chr&gt;</th><th scope=col>&lt;chr&gt;</th></tr>\n",
       "</thead>\n",
       "<tbody>\n",
       "\t<tr><td>CALM1_TRPC3  </td><td>CALM1  </td><td>calmodulin 1                       </td><td>TRPC3 </td><td>transient receptor potential cation channel subfamily C member 3</td><td>NA</td><td>P0DP23</td><td>Q13507</td></tr>\n",
       "\t<tr><td>S100A10_TRPV6</td><td>S100A10</td><td>S100 calcium binding protein A10   </td><td>TRPV6 </td><td>transient receptor potential cation channel subfamily V member 6</td><td>NA</td><td>P60903</td><td>Q9H1D0</td></tr>\n",
       "\t<tr><td>JAK2_EPOR    </td><td>JAK2   </td><td>Janus kinase 2                     </td><td>EPOR  </td><td>erythropoietin receptor                                         </td><td>NA</td><td>O60674</td><td>P19235</td></tr>\n",
       "\t<tr><td>NOTCH1_JAG2  </td><td>NOTCH1 </td><td>notch receptor 1                   </td><td>JAG2  </td><td>jagged canonical Notch ligand 2                                 </td><td>NA</td><td>P46531</td><td>Q9Y219</td></tr>\n",
       "\t<tr><td>JAG2_NOTCH1  </td><td>JAG2   </td><td>jagged canonical Notch ligand 2    </td><td>NOTCH1</td><td>notch receptor 1                                                </td><td>NA</td><td>Q9Y219</td><td>P46531</td></tr>\n",
       "\t<tr><td>DLL1_NOTCH1  </td><td>DLL1   </td><td>delta like canonical Notch ligand 1</td><td>NOTCH1</td><td>notch receptor 1                                                </td><td>NA</td><td>O00548</td><td>P46531</td></tr>\n",
       "</tbody>\n",
       "</table>\n"
      ],
      "text/latex": [
       "A tibble: 6 × 8\n",
       "\\begin{tabular}{llllllll}\n",
       " Pair.Name & Ligand & Ligand.Name & Receptor & Receptor.Name & complex\\_pair & partner\\_a & partner\\_b\\\\\n",
       " <chr> & <chr> & <chr> & <chr> & <chr> & <chr> & <chr> & <chr>\\\\\n",
       "\\hline\n",
       "\t CALM1\\_TRPC3   & CALM1   & calmodulin 1                        & TRPC3  & transient receptor potential cation channel subfamily C member 3 & NA & P0DP23 & Q13507\\\\\n",
       "\t S100A10\\_TRPV6 & S100A10 & S100 calcium binding protein A10    & TRPV6  & transient receptor potential cation channel subfamily V member 6 & NA & P60903 & Q9H1D0\\\\\n",
       "\t JAK2\\_EPOR     & JAK2    & Janus kinase 2                      & EPOR   & erythropoietin receptor                                          & NA & O60674 & P19235\\\\\n",
       "\t NOTCH1\\_JAG2   & NOTCH1  & notch receptor 1                    & JAG2   & jagged canonical Notch ligand 2                                  & NA & P46531 & Q9Y219\\\\\n",
       "\t JAG2\\_NOTCH1   & JAG2    & jagged canonical Notch ligand 2     & NOTCH1 & notch receptor 1                                                 & NA & Q9Y219 & P46531\\\\\n",
       "\t DLL1\\_NOTCH1   & DLL1    & delta like canonical Notch ligand 1 & NOTCH1 & notch receptor 1                                                 & NA & O00548 & P46531\\\\\n",
       "\\end{tabular}\n"
      ],
      "text/markdown": [
       "\n",
       "A tibble: 6 × 8\n",
       "\n",
       "| Pair.Name &lt;chr&gt; | Ligand &lt;chr&gt; | Ligand.Name &lt;chr&gt; | Receptor &lt;chr&gt; | Receptor.Name &lt;chr&gt; | complex_pair &lt;chr&gt; | partner_a &lt;chr&gt; | partner_b &lt;chr&gt; |\n",
       "|---|---|---|---|---|---|---|---|\n",
       "| CALM1_TRPC3   | CALM1   | calmodulin 1                        | TRPC3  | transient receptor potential cation channel subfamily C member 3 | NA | P0DP23 | Q13507 |\n",
       "| S100A10_TRPV6 | S100A10 | S100 calcium binding protein A10    | TRPV6  | transient receptor potential cation channel subfamily V member 6 | NA | P60903 | Q9H1D0 |\n",
       "| JAK2_EPOR     | JAK2    | Janus kinase 2                      | EPOR   | erythropoietin receptor                                          | NA | O60674 | P19235 |\n",
       "| NOTCH1_JAG2   | NOTCH1  | notch receptor 1                    | JAG2   | jagged canonical Notch ligand 2                                  | NA | P46531 | Q9Y219 |\n",
       "| JAG2_NOTCH1   | JAG2    | jagged canonical Notch ligand 2     | NOTCH1 | notch receptor 1                                                 | NA | Q9Y219 | P46531 |\n",
       "| DLL1_NOTCH1   | DLL1    | delta like canonical Notch ligand 1 | NOTCH1 | notch receptor 1                                                 | NA | O00548 | P46531 |\n",
       "\n"
      ],
      "text/plain": [
       "  Pair.Name     Ligand  Ligand.Name                         Receptor\n",
       "1 CALM1_TRPC3   CALM1   calmodulin 1                        TRPC3   \n",
       "2 S100A10_TRPV6 S100A10 S100 calcium binding protein A10    TRPV6   \n",
       "3 JAK2_EPOR     JAK2    Janus kinase 2                      EPOR    \n",
       "4 NOTCH1_JAG2   NOTCH1  notch receptor 1                    JAG2    \n",
       "5 JAG2_NOTCH1   JAG2    jagged canonical Notch ligand 2     NOTCH1  \n",
       "6 DLL1_NOTCH1   DLL1    delta like canonical Notch ligand 1 NOTCH1  \n",
       "  Receptor.Name                                                    complex_pair\n",
       "1 transient receptor potential cation channel subfamily C member 3 NA          \n",
       "2 transient receptor potential cation channel subfamily V member 6 NA          \n",
       "3 erythropoietin receptor                                          NA          \n",
       "4 jagged canonical Notch ligand 2                                  NA          \n",
       "5 notch receptor 1                                                 NA          \n",
       "6 notch receptor 1                                                 NA          \n",
       "  partner_a partner_b\n",
       "1 P0DP23    Q13507   \n",
       "2 P60903    Q9H1D0   \n",
       "3 O60674    P19235   \n",
       "4 P46531    Q9Y219   \n",
       "5 Q9Y219    P46531   \n",
       "6 O00548    P46531   "
      ]
     },
     "metadata": {},
     "output_type": "display_data"
    }
   ],
   "source": [
    "head(complete)"
   ]
  },
  {
   "cell_type": "code",
   "execution_count": 34,
   "id": "fa9bd750",
   "metadata": {},
   "outputs": [],
   "source": [
    "# filter(previous_db, Receptor==\"NOTCH1\")"
   ]
  },
  {
   "cell_type": "markdown",
   "id": "7cbf969f",
   "metadata": {},
   "source": [
    "# append the original structure from OmniPath"
   ]
  },
  {
   "cell_type": "code",
   "execution_count": 35,
   "id": "7bb6223f",
   "metadata": {},
   "outputs": [],
   "source": [
    "lr$pair <- paste(lr$source_genesymbol, lr$target_genesymbol, sep=\"_\")"
   ]
  },
  {
   "cell_type": "markdown",
   "id": "f6128171",
   "metadata": {},
   "source": [
    "Create a column to merge with. We are doing this because the complex pairs in our data have been broken down, while they are not broken down in the original data. The new column will allow us to match and merge the broken-down pairs with the corresponding pairs in the original data"
   ]
  },
  {
   "cell_type": "code",
   "execution_count": 36,
   "id": "2653e197",
   "metadata": {},
   "outputs": [],
   "source": [
    "complete <- complete %>% mutate(to_merge = ifelse(!is.na(complex_pair), complex_pair, paste(Ligand, Receptor, sep=\"_\")))"
   ]
  },
  {
   "cell_type": "code",
   "execution_count": 37,
   "id": "0e068ed9",
   "metadata": {},
   "outputs": [],
   "source": [
    "concatanated <- as.data.frame(merge(complete, lr, by.x = \"to_merge\", by.y = \"pair\"))"
   ]
  },
  {
   "cell_type": "code",
   "execution_count": 38,
   "id": "f2e9b535",
   "metadata": {},
   "outputs": [
    {
     "data": {
      "text/html": [
       "TRUE"
      ],
      "text/latex": [
       "TRUE"
      ],
      "text/markdown": [
       "TRUE"
      ],
      "text/plain": [
       "[1] TRUE"
      ]
     },
     "metadata": {},
     "output_type": "display_data"
    }
   ],
   "source": [
    "nrow(complete) == nrow(concatanated)"
   ]
  },
  {
   "cell_type": "code",
   "execution_count": 39,
   "id": "1706629b",
   "metadata": {
    "scrolled": false
   },
   "outputs": [],
   "source": [
    "concatanated <- concatanated %>% dplyr::select(-to_merge)"
   ]
  },
  {
   "cell_type": "markdown",
   "id": "5e6a9d54",
   "metadata": {},
   "source": [
    "# tagging curated ones"
   ]
  },
  {
   "cell_type": "code",
   "execution_count": 41,
   "id": "7ed55c86",
   "metadata": {},
   "outputs": [],
   "source": [
    "curated <- curated_ligand_receptor_interactions()\n",
    "curated <- curated %>% filter(!duplicated(curated[, c(\"source_genesymbol\", \"target_genesymbol\")]))\n",
    "curated$pair <- paste(curated$source_genesymbol, curated$target_genesymbol, sep=\"_\")"
   ]
  },
  {
   "cell_type": "code",
   "execution_count": 43,
   "id": "83a4fd1d",
   "metadata": {},
   "outputs": [],
   "source": [
    "for (x in 1:nrow(concatanated)) {\n",
    "    \n",
    "    pair=concatanated[x,]$Pair.Name\n",
    "    complex_pair=concatanated[x,]$Pair.Name\n",
    "    ligand_symbol=concatanated[x,]$complex_pair\n",
    "    \n",
    "    \n",
    "    if (pair %in% curated$pair || complex_pair %in% curated$pair) {\n",
    "      concatanated[x, \"curated\"] = TRUE\n",
    "    }\n",
    "    else {\n",
    "        concatanated[x, \"curated\"] = FALSE\n",
    "    }\n",
    "    \n",
    "#     if (is.null(receptor_description)) {\n",
    "#       receptor_description <- \"NA\"\n",
    "#     }\n",
    "    }"
   ]
  },
  {
   "cell_type": "code",
   "execution_count": 52,
   "id": "741b7762",
   "metadata": {
    "scrolled": false
   },
   "outputs": [],
   "source": [
    "#this column is needed when building CellPhoneDB\n",
    "concatanated$annotation_strategy <- ifelse(concatanated$curated == TRUE, \"OmniPath_curated\", \"OmniPath\")"
   ]
  },
  {
   "cell_type": "code",
   "execution_count": 53,
   "id": "415e3e79",
   "metadata": {},
   "outputs": [],
   "source": [
    "write.csv(concatanated, \"L_R_OmniPathFull.csv\", row.names=FALSE)"
   ]
  },
  {
   "cell_type": "code",
   "execution_count": 48,
   "id": "8c653e55",
   "metadata": {},
   "outputs": [
    {
     "data": {
      "text/html": [
       "<table class=\"dataframe\">\n",
       "<caption>A data.frame: 2 × 24</caption>\n",
       "<thead>\n",
       "\t<tr><th scope=col>Pair.Name</th><th scope=col>Ligand</th><th scope=col>Ligand.Name</th><th scope=col>Receptor</th><th scope=col>Receptor.Name</th><th scope=col>complex_pair</th><th scope=col>partner_a</th><th scope=col>partner_b</th><th scope=col>source</th><th scope=col>target</th><th scope=col>⋯</th><th scope=col>is_inhibition</th><th scope=col>consensus_direction</th><th scope=col>consensus_stimulation</th><th scope=col>consensus_inhibition</th><th scope=col>sources</th><th scope=col>references</th><th scope=col>curation_effort</th><th scope=col>n_references</th><th scope=col>n_resources</th><th scope=col>curated</th></tr>\n",
       "\t<tr><th scope=col>&lt;chr&gt;</th><th scope=col>&lt;chr&gt;</th><th scope=col>&lt;chr&gt;</th><th scope=col>&lt;chr&gt;</th><th scope=col>&lt;chr&gt;</th><th scope=col>&lt;chr&gt;</th><th scope=col>&lt;chr&gt;</th><th scope=col>&lt;chr&gt;</th><th scope=col>&lt;chr&gt;</th><th scope=col>&lt;chr&gt;</th><th scope=col>⋯</th><th scope=col>&lt;dbl&gt;</th><th scope=col>&lt;dbl&gt;</th><th scope=col>&lt;dbl&gt;</th><th scope=col>&lt;dbl&gt;</th><th scope=col>&lt;chr&gt;</th><th scope=col>&lt;chr&gt;</th><th scope=col>&lt;dbl&gt;</th><th scope=col>&lt;dbl&gt;</th><th scope=col>&lt;int&gt;</th><th scope=col>&lt;lgl&gt;</th></tr>\n",
       "</thead>\n",
       "<tbody>\n",
       "\t<tr><td>PIK3CD-AS1_LY6G6C </td><td>PIK3CD-AS1</td><td>PIK3CD antisense RNA 1</td><td>LY6G6C </td><td>lymphocyte antigen 6 family member G6C</td><td>NA</td><td>O00329</td><td>O95867</td><td>Q5SR53</td><td>O95867</td><td>⋯</td><td>0</td><td>0</td><td>0</td><td>0</td><td>Fantom5_LRdb;LRdb;iTALK</td><td>NA</td><td>0</td><td>0</td><td>2</td><td>FALSE</td></tr>\n",
       "\t<tr><td>PIK3CD-AS1_SLC16A4</td><td>PIK3CD-AS1</td><td>PIK3CD antisense RNA 1</td><td>SLC16A4</td><td>solute carrier family 16 member 4     </td><td>NA</td><td>O00329</td><td>O15374</td><td>Q5SR53</td><td>O15374</td><td>⋯</td><td>0</td><td>0</td><td>0</td><td>0</td><td>Fantom5_LRdb;LRdb;iTALK</td><td>NA</td><td>0</td><td>0</td><td>2</td><td>FALSE</td></tr>\n",
       "</tbody>\n",
       "</table>\n"
      ],
      "text/latex": [
       "A data.frame: 2 × 24\n",
       "\\begin{tabular}{lllllllllllllllllllll}\n",
       " Pair.Name & Ligand & Ligand.Name & Receptor & Receptor.Name & complex\\_pair & partner\\_a & partner\\_b & source & target & ⋯ & is\\_inhibition & consensus\\_direction & consensus\\_stimulation & consensus\\_inhibition & sources & references & curation\\_effort & n\\_references & n\\_resources & curated\\\\\n",
       " <chr> & <chr> & <chr> & <chr> & <chr> & <chr> & <chr> & <chr> & <chr> & <chr> & ⋯ & <dbl> & <dbl> & <dbl> & <dbl> & <chr> & <chr> & <dbl> & <dbl> & <int> & <lgl>\\\\\n",
       "\\hline\n",
       "\t PIK3CD-AS1\\_LY6G6C  & PIK3CD-AS1 & PIK3CD antisense RNA 1 & LY6G6C  & lymphocyte antigen 6 family member G6C & NA & O00329 & O95867 & Q5SR53 & O95867 & ⋯ & 0 & 0 & 0 & 0 & Fantom5\\_LRdb;LRdb;iTALK & NA & 0 & 0 & 2 & FALSE\\\\\n",
       "\t PIK3CD-AS1\\_SLC16A4 & PIK3CD-AS1 & PIK3CD antisense RNA 1 & SLC16A4 & solute carrier family 16 member 4      & NA & O00329 & O15374 & Q5SR53 & O15374 & ⋯ & 0 & 0 & 0 & 0 & Fantom5\\_LRdb;LRdb;iTALK & NA & 0 & 0 & 2 & FALSE\\\\\n",
       "\\end{tabular}\n"
      ],
      "text/markdown": [
       "\n",
       "A data.frame: 2 × 24\n",
       "\n",
       "| Pair.Name &lt;chr&gt; | Ligand &lt;chr&gt; | Ligand.Name &lt;chr&gt; | Receptor &lt;chr&gt; | Receptor.Name &lt;chr&gt; | complex_pair &lt;chr&gt; | partner_a &lt;chr&gt; | partner_b &lt;chr&gt; | source &lt;chr&gt; | target &lt;chr&gt; | ⋯ ⋯ | is_inhibition &lt;dbl&gt; | consensus_direction &lt;dbl&gt; | consensus_stimulation &lt;dbl&gt; | consensus_inhibition &lt;dbl&gt; | sources &lt;chr&gt; | references &lt;chr&gt; | curation_effort &lt;dbl&gt; | n_references &lt;dbl&gt; | n_resources &lt;int&gt; | curated &lt;lgl&gt; |\n",
       "|---|---|---|---|---|---|---|---|---|---|---|---|---|---|---|---|---|---|---|---|---|\n",
       "| PIK3CD-AS1_LY6G6C  | PIK3CD-AS1 | PIK3CD antisense RNA 1 | LY6G6C  | lymphocyte antigen 6 family member G6C | NA | O00329 | O95867 | Q5SR53 | O95867 | ⋯ | 0 | 0 | 0 | 0 | Fantom5_LRdb;LRdb;iTALK | NA | 0 | 0 | 2 | FALSE |\n",
       "| PIK3CD-AS1_SLC16A4 | PIK3CD-AS1 | PIK3CD antisense RNA 1 | SLC16A4 | solute carrier family 16 member 4      | NA | O00329 | O15374 | Q5SR53 | O15374 | ⋯ | 0 | 0 | 0 | 0 | Fantom5_LRdb;LRdb;iTALK | NA | 0 | 0 | 2 | FALSE |\n",
       "\n"
      ],
      "text/plain": [
       "  Pair.Name          Ligand     Ligand.Name            Receptor\n",
       "1 PIK3CD-AS1_LY6G6C  PIK3CD-AS1 PIK3CD antisense RNA 1 LY6G6C  \n",
       "2 PIK3CD-AS1_SLC16A4 PIK3CD-AS1 PIK3CD antisense RNA 1 SLC16A4 \n",
       "  Receptor.Name                          complex_pair partner_a partner_b\n",
       "1 lymphocyte antigen 6 family member G6C NA           O00329    O95867   \n",
       "2 solute carrier family 16 member 4      NA           O00329    O15374   \n",
       "  source target ⋯ is_inhibition consensus_direction consensus_stimulation\n",
       "1 Q5SR53 O95867 ⋯ 0             0                   0                    \n",
       "2 Q5SR53 O15374 ⋯ 0             0                   0                    \n",
       "  consensus_inhibition sources                 references curation_effort\n",
       "1 0                    Fantom5_LRdb;LRdb;iTALK NA         0              \n",
       "2 0                    Fantom5_LRdb;LRdb;iTALK NA         0              \n",
       "  n_references n_resources curated\n",
       "1 0            2           FALSE  \n",
       "2 0            2           FALSE  "
      ]
     },
     "metadata": {},
     "output_type": "display_data"
    }
   ],
   "source": [
    "filter(concatanated,Ligand==\"PIK3CD-AS1\")"
   ]
  },
  {
   "cell_type": "code",
   "execution_count": null,
   "id": "d3fd1cee",
   "metadata": {},
   "outputs": [],
   "source": [
    "# concatanated[concatanated == \"PIK3CD-AS1\"] <- \"PIK3CD\""
   ]
  },
  {
   "cell_type": "code",
   "execution_count": null,
   "id": "1441e4a4",
   "metadata": {},
   "outputs": [],
   "source": [
    "# lr[lr == \"PIK3CD-AS1\"] <- \"PIK3CD\""
   ]
  }
 ],
 "metadata": {
  "kernelspec": {
   "display_name": "R",
   "language": "R",
   "name": "ir"
  },
  "language_info": {
   "codemirror_mode": "r",
   "file_extension": ".r",
   "mimetype": "text/x-r-source",
   "name": "R",
   "pygments_lexer": "r",
   "version": "4.1.2"
  }
 },
 "nbformat": 4,
 "nbformat_minor": 5
}
