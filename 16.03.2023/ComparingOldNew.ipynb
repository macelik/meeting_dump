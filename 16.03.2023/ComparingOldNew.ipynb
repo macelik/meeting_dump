{
 "cells": [
  {
   "cell_type": "code",
   "execution_count": 1,
   "id": "a769ad49",
   "metadata": {},
   "outputs": [
    {
     "name": "stderr",
     "output_type": "stream",
     "text": [
      "── \u001b[1mAttaching packages\u001b[22m ─────────────────────────────────────── tidyverse 1.3.2 ──\n",
      "\u001b[32m✔\u001b[39m \u001b[34mggplot2\u001b[39m 3.4.0      \u001b[32m✔\u001b[39m \u001b[34mpurrr  \u001b[39m 0.3.5 \n",
      "\u001b[32m✔\u001b[39m \u001b[34mtibble \u001b[39m 3.1.8      \u001b[32m✔\u001b[39m \u001b[34mdplyr  \u001b[39m 1.0.10\n",
      "\u001b[32m✔\u001b[39m \u001b[34mtidyr  \u001b[39m 1.2.1      \u001b[32m✔\u001b[39m \u001b[34mstringr\u001b[39m 1.5.0 \n",
      "\u001b[32m✔\u001b[39m \u001b[34mreadr  \u001b[39m 2.1.3      \u001b[32m✔\u001b[39m \u001b[34mforcats\u001b[39m 0.5.2 \n",
      "── \u001b[1mConflicts\u001b[22m ────────────────────────────────────────── tidyverse_conflicts() ──\n",
      "\u001b[31m✖\u001b[39m \u001b[34mdplyr\u001b[39m::\u001b[32mfilter()\u001b[39m masks \u001b[34mstats\u001b[39m::filter()\n",
      "\u001b[31m✖\u001b[39m \u001b[34mdplyr\u001b[39m::\u001b[32mlag()\u001b[39m    masks \u001b[34mstats\u001b[39m::lag()\n",
      "Loading required package: grid\n",
      "\n",
      "Loading required package: futile.logger\n",
      "\n"
     ]
    }
   ],
   "source": [
    "library(tidyverse)\n",
    "library(dplyr)\n",
    "library(VennDiagram)\n",
    "library(ggplot2)\n",
    "library(utils)"
   ]
  },
  {
   "cell_type": "markdown",
   "id": "32adb158",
   "metadata": {},
   "source": [
    "# Comparing with the previous version of the database"
   ]
  },
  {
   "cell_type": "code",
   "execution_count": 2,
   "id": "c93d98ec",
   "metadata": {},
   "outputs": [],
   "source": [
    "# here is the previous version\n",
    "previous_db <- read.csv(\"L_R_Database_Maria.csv\")"
   ]
  },
  {
   "cell_type": "code",
   "execution_count": 3,
   "id": "41151294",
   "metadata": {},
   "outputs": [],
   "source": [
    "# here is the new version\n",
    "complete <- read.csv(\"LR_database.csv\")"
   ]
  },
  {
   "cell_type": "markdown",
   "id": "05aa96a0",
   "metadata": {},
   "source": [
    "we first compare gene spaces between these two DBs"
   ]
  },
  {
   "cell_type": "code",
   "execution_count": 4,
   "id": "e76c01ba",
   "metadata": {},
   "outputs": [
    {
     "data": {
      "text/html": [
       "<strong>png:</strong> 2"
      ],
      "text/latex": [
       "\\textbf{png:} 2"
      ],
      "text/markdown": [
       "**png:** 2"
      ],
      "text/plain": [
       "png \n",
       "  2 "
      ]
     },
     "metadata": {},
     "output_type": "display_data"
    }
   ],
   "source": [
    "tiff(\"1st_gene_space.tiff\", units=\"in\", width=5, height=5, res=300)\n",
    "\n",
    "new_gene_space <- unique(c(complete$Ligand,complete$Receptor))\n",
    "previous_gene_space <- unique(c(previous_db$Ligand,previous_db$Receptor))\n",
    "\n",
    "Venn_plot <- draw.pairwise.venn(length(new_gene_space), \n",
    "    length(previous_gene_space), \n",
    "    length(intersect(new_gene_space,\n",
    "    previous_gene_space)), \n",
    "    category = c(\"New Gene Space\", \"Previous Gene Space\"), \n",
    "    lty = rep(\"blank\", 2), fill = c(\"light blue\", \"red\"), alpha = rep(0.4, 2), \n",
    "    cat.pos = c(0, 0), cat.dist = rep(0.025, 2), cex= 1.5, cat.cex=1.5, \n",
    "    verbose = FALSE)\n",
    "grid.draw(Venn_plot)\n",
    "dev.off()\n"
   ]
  },
  {
   "cell_type": "code",
   "execution_count": 5,
   "id": "4b7773cf",
   "metadata": {},
   "outputs": [
    {
     "data": {
      "text/html": [
       "<style>\n",
       ".list-inline {list-style: none; margin:0; padding: 0}\n",
       ".list-inline>li {display: inline-block}\n",
       ".list-inline>li:not(:last-child)::after {content: \"\\00b7\"; padding: 0 .5ex}\n",
       "</style>\n",
       "<ol class=list-inline><li>'AREGB'</li><li>'C1orf200'</li><li>'C4B'</li><li>'C5orf55'</li><li>'CCL3L3'</li><li>'CGB'</li><li>'CTGF'</li><li>'CYR61'</li><li>'DEFB103B'</li><li>'DEFB4A'</li><li>'FIGF'</li><li>'IFNA13'</li><li>'IL8'</li><li>'KAL1'</li><li>'LRP1B'</li><li>'MFI2'</li><li>'MLLT4'</li><li>'NOV'</li><li>'YARS'</li><li>'CCL12'</li><li>'NGFRAP1'</li><li>'HFE2'</li><li>'PPAPDC2'</li><li>'DARC'</li><li>'C14orf1'</li><li>'CD97'</li><li>'EMR2'</li><li>'ELTD1'</li><li>'TMEM8A'</li><li>'PVRL1'</li><li>'PVRL2'</li><li>'PVRL3'</li><li>'PVRL4'</li><li>'GPR1'</li><li>'BAI2'</li><li>'LPHN1'</li><li>'LPHN2'</li><li>'GPR56'</li><li>NA</li></ol>\n"
      ],
      "text/latex": [
       "\\begin{enumerate*}\n",
       "\\item 'AREGB'\n",
       "\\item 'C1orf200'\n",
       "\\item 'C4B'\n",
       "\\item 'C5orf55'\n",
       "\\item 'CCL3L3'\n",
       "\\item 'CGB'\n",
       "\\item 'CTGF'\n",
       "\\item 'CYR61'\n",
       "\\item 'DEFB103B'\n",
       "\\item 'DEFB4A'\n",
       "\\item 'FIGF'\n",
       "\\item 'IFNA13'\n",
       "\\item 'IL8'\n",
       "\\item 'KAL1'\n",
       "\\item 'LRP1B'\n",
       "\\item 'MFI2'\n",
       "\\item 'MLLT4'\n",
       "\\item 'NOV'\n",
       "\\item 'YARS'\n",
       "\\item 'CCL12'\n",
       "\\item 'NGFRAP1'\n",
       "\\item 'HFE2'\n",
       "\\item 'PPAPDC2'\n",
       "\\item 'DARC'\n",
       "\\item 'C14orf1'\n",
       "\\item 'CD97'\n",
       "\\item 'EMR2'\n",
       "\\item 'ELTD1'\n",
       "\\item 'TMEM8A'\n",
       "\\item 'PVRL1'\n",
       "\\item 'PVRL2'\n",
       "\\item 'PVRL3'\n",
       "\\item 'PVRL4'\n",
       "\\item 'GPR1'\n",
       "\\item 'BAI2'\n",
       "\\item 'LPHN1'\n",
       "\\item 'LPHN2'\n",
       "\\item 'GPR56'\n",
       "\\item NA\n",
       "\\end{enumerate*}\n"
      ],
      "text/markdown": [
       "1. 'AREGB'\n",
       "2. 'C1orf200'\n",
       "3. 'C4B'\n",
       "4. 'C5orf55'\n",
       "5. 'CCL3L3'\n",
       "6. 'CGB'\n",
       "7. 'CTGF'\n",
       "8. 'CYR61'\n",
       "9. 'DEFB103B'\n",
       "10. 'DEFB4A'\n",
       "11. 'FIGF'\n",
       "12. 'IFNA13'\n",
       "13. 'IL8'\n",
       "14. 'KAL1'\n",
       "15. 'LRP1B'\n",
       "16. 'MFI2'\n",
       "17. 'MLLT4'\n",
       "18. 'NOV'\n",
       "19. 'YARS'\n",
       "20. 'CCL12'\n",
       "21. 'NGFRAP1'\n",
       "22. 'HFE2'\n",
       "23. 'PPAPDC2'\n",
       "24. 'DARC'\n",
       "25. 'C14orf1'\n",
       "26. 'CD97'\n",
       "27. 'EMR2'\n",
       "28. 'ELTD1'\n",
       "29. 'TMEM8A'\n",
       "30. 'PVRL1'\n",
       "31. 'PVRL2'\n",
       "32. 'PVRL3'\n",
       "33. 'PVRL4'\n",
       "34. 'GPR1'\n",
       "35. 'BAI2'\n",
       "36. 'LPHN1'\n",
       "37. 'LPHN2'\n",
       "38. 'GPR56'\n",
       "39. NA\n",
       "\n",
       "\n"
      ],
      "text/plain": [
       " [1] \"AREGB\"    \"C1orf200\" \"C4B\"      \"C5orf55\"  \"CCL3L3\"   \"CGB\"     \n",
       " [7] \"CTGF\"     \"CYR61\"    \"DEFB103B\" \"DEFB4A\"   \"FIGF\"     \"IFNA13\"  \n",
       "[13] \"IL8\"      \"KAL1\"     \"LRP1B\"    \"MFI2\"     \"MLLT4\"    \"NOV\"     \n",
       "[19] \"YARS\"     \"CCL12\"    \"NGFRAP1\"  \"HFE2\"     \"PPAPDC2\"  \"DARC\"    \n",
       "[25] \"C14orf1\"  \"CD97\"     \"EMR2\"     \"ELTD1\"    \"TMEM8A\"   \"PVRL1\"   \n",
       "[31] \"PVRL2\"    \"PVRL3\"    \"PVRL4\"    \"GPR1\"     \"BAI2\"     \"LPHN1\"   \n",
       "[37] \"LPHN2\"    \"GPR56\"    NA        "
      ]
     },
     "metadata": {},
     "output_type": "display_data"
    }
   ],
   "source": [
    "setdiff(previous_gene_space, new_gene_space)"
   ]
  },
  {
   "cell_type": "markdown",
   "id": "c60432f7",
   "metadata": {},
   "source": [
    "The difference is due to the use of different gene symbols. Some of the gene symbols used in the previous database may not be recognized as official or approved gene symbols.\n",
    "\n",
    "See example below"
   ]
  },
  {
   "cell_type": "code",
   "execution_count": 6,
   "id": "b8e2b322",
   "metadata": {},
   "outputs": [
    {
     "data": {
      "text/html": [
       "<table class=\"dataframe\">\n",
       "<caption>A data.frame: 1 × 6</caption>\n",
       "<thead>\n",
       "\t<tr><th scope=col>Pair.Name</th><th scope=col>Ligand</th><th scope=col>Ligand.Name</th><th scope=col>Receptor</th><th scope=col>Receptor.Name</th><th scope=col>Classification</th></tr>\n",
       "\t<tr><th scope=col>&lt;chr&gt;</th><th scope=col>&lt;chr&gt;</th><th scope=col>&lt;chr&gt;</th><th scope=col>&lt;chr&gt;</th><th scope=col>&lt;chr&gt;</th><th scope=col>&lt;chr&gt;</th></tr>\n",
       "</thead>\n",
       "<tbody>\n",
       "\t<tr><td>SHANK1_LPHN2</td><td>SHANK1</td><td>SH3 and multiple ankyrin repeat domains 1</td><td>LPHN2</td><td>latrophilin 2</td><td>other</td></tr>\n",
       "</tbody>\n",
       "</table>\n"
      ],
      "text/latex": [
       "A data.frame: 1 × 6\n",
       "\\begin{tabular}{llllll}\n",
       " Pair.Name & Ligand & Ligand.Name & Receptor & Receptor.Name & Classification\\\\\n",
       " <chr> & <chr> & <chr> & <chr> & <chr> & <chr>\\\\\n",
       "\\hline\n",
       "\t SHANK1\\_LPHN2 & SHANK1 & SH3 and multiple ankyrin repeat domains 1 & LPHN2 & latrophilin 2 & other\\\\\n",
       "\\end{tabular}\n"
      ],
      "text/markdown": [
       "\n",
       "A data.frame: 1 × 6\n",
       "\n",
       "| Pair.Name &lt;chr&gt; | Ligand &lt;chr&gt; | Ligand.Name &lt;chr&gt; | Receptor &lt;chr&gt; | Receptor.Name &lt;chr&gt; | Classification &lt;chr&gt; |\n",
       "|---|---|---|---|---|---|\n",
       "| SHANK1_LPHN2 | SHANK1 | SH3 and multiple ankyrin repeat domains 1 | LPHN2 | latrophilin 2 | other |\n",
       "\n"
      ],
      "text/plain": [
       "  Pair.Name    Ligand Ligand.Name                               Receptor\n",
       "1 SHANK1_LPHN2 SHANK1 SH3 and multiple ankyrin repeat domains 1 LPHN2   \n",
       "  Receptor.Name Classification\n",
       "1 latrophilin 2 other         "
      ]
     },
     "metadata": {},
     "output_type": "display_data"
    }
   ],
   "source": [
    "# In the previous version of the database, the gene symbol LPHN2 was used, \n",
    "# which is not an approved gene symbol\n",
    "filter(previous_db, Receptor==\"LPHN2\")"
   ]
  },
  {
   "cell_type": "code",
   "execution_count": 7,
   "id": "80c66e20",
   "metadata": {},
   "outputs": [
    {
     "data": {
      "text/html": [
       "<table class=\"dataframe\">\n",
       "<caption>A data.frame: 2 × 27</caption>\n",
       "<thead>\n",
       "\t<tr><th scope=col>X</th><th scope=col>Pair.Name</th><th scope=col>Ligand</th><th scope=col>Ligand.Name</th><th scope=col>Receptor</th><th scope=col>Receptor.Name</th><th scope=col>complex_pair</th><th scope=col>partner_a</th><th scope=col>partner_b</th><th scope=col>source</th><th scope=col>⋯</th><th scope=col>consensus_stimulation</th><th scope=col>consensus_inhibition</th><th scope=col>sources</th><th scope=col>references</th><th scope=col>curation_effort</th><th scope=col>n_references</th><th scope=col>n_resources</th><th scope=col>annotation_strategy</th><th scope=col>db</th><th scope=col>dup</th></tr>\n",
       "\t<tr><th scope=col>&lt;int&gt;</th><th scope=col>&lt;chr&gt;</th><th scope=col>&lt;chr&gt;</th><th scope=col>&lt;chr&gt;</th><th scope=col>&lt;chr&gt;</th><th scope=col>&lt;chr&gt;</th><th scope=col>&lt;chr&gt;</th><th scope=col>&lt;chr&gt;</th><th scope=col>&lt;chr&gt;</th><th scope=col>&lt;chr&gt;</th><th scope=col>⋯</th><th scope=col>&lt;int&gt;</th><th scope=col>&lt;int&gt;</th><th scope=col>&lt;chr&gt;</th><th scope=col>&lt;chr&gt;</th><th scope=col>&lt;int&gt;</th><th scope=col>&lt;int&gt;</th><th scope=col>&lt;int&gt;</th><th scope=col>&lt;chr&gt;</th><th scope=col>&lt;chr&gt;</th><th scope=col>&lt;chr&gt;</th></tr>\n",
       "</thead>\n",
       "<tbody>\n",
       "\t<tr><td>5735</td><td>SHANK1_ADGRL2</td><td>SHANK1</td><td>SH3 and multiple ankyrin repeat domains 1</td><td>ADGRL2</td><td>adhesion G protein-coupled receptor L2</td><td>NA</td><td>Q9Y566</td><td>O95490</td><td>Q9Y566</td><td>⋯</td><td>0</td><td>0</td><td>CellTalkDB;DOMINO;Fantom5_LRdb;HPRD;HPRD_LRdb;HPRD_talklr;LRdb;Ramilowski2015;iTALK;talklr</td><td>DOMINO:10964907;HPRD:10964907   </td><td>2</td><td>1</td><td>7</td><td>LR</td><td>LR</td><td>ADGRL2_SHANK1</td></tr>\n",
       "\t<tr><td>5737</td><td>SHANK2_ADGRL2</td><td>SHANK2</td><td>SH3 and multiple ankyrin repeat domains 2</td><td>ADGRL2</td><td>adhesion G protein-coupled receptor L2</td><td>NA</td><td>Q9UPX8</td><td>O95490</td><td>Q9UPX8</td><td>⋯</td><td>0</td><td>0</td><td>Cellinker;HPRD                                                                            </td><td>Cellinker:10964907;HPRD:10964907</td><td>2</td><td>1</td><td>2</td><td>LR</td><td>LR</td><td>ADGRL2_SHANK2</td></tr>\n",
       "</tbody>\n",
       "</table>\n"
      ],
      "text/latex": [
       "A data.frame: 2 × 27\n",
       "\\begin{tabular}{lllllllllllllllllllll}\n",
       " X & Pair.Name & Ligand & Ligand.Name & Receptor & Receptor.Name & complex\\_pair & partner\\_a & partner\\_b & source & ⋯ & consensus\\_stimulation & consensus\\_inhibition & sources & references & curation\\_effort & n\\_references & n\\_resources & annotation\\_strategy & db & dup\\\\\n",
       " <int> & <chr> & <chr> & <chr> & <chr> & <chr> & <chr> & <chr> & <chr> & <chr> & ⋯ & <int> & <int> & <chr> & <chr> & <int> & <int> & <int> & <chr> & <chr> & <chr>\\\\\n",
       "\\hline\n",
       "\t 5735 & SHANK1\\_ADGRL2 & SHANK1 & SH3 and multiple ankyrin repeat domains 1 & ADGRL2 & adhesion G protein-coupled receptor L2 & NA & Q9Y566 & O95490 & Q9Y566 & ⋯ & 0 & 0 & CellTalkDB;DOMINO;Fantom5\\_LRdb;HPRD;HPRD\\_LRdb;HPRD\\_talklr;LRdb;Ramilowski2015;iTALK;talklr & DOMINO:10964907;HPRD:10964907    & 2 & 1 & 7 & LR & LR & ADGRL2\\_SHANK1\\\\\n",
       "\t 5737 & SHANK2\\_ADGRL2 & SHANK2 & SH3 and multiple ankyrin repeat domains 2 & ADGRL2 & adhesion G protein-coupled receptor L2 & NA & Q9UPX8 & O95490 & Q9UPX8 & ⋯ & 0 & 0 & Cellinker;HPRD                                                                             & Cellinker:10964907;HPRD:10964907 & 2 & 1 & 2 & LR & LR & ADGRL2\\_SHANK2\\\\\n",
       "\\end{tabular}\n"
      ],
      "text/markdown": [
       "\n",
       "A data.frame: 2 × 27\n",
       "\n",
       "| X &lt;int&gt; | Pair.Name &lt;chr&gt; | Ligand &lt;chr&gt; | Ligand.Name &lt;chr&gt; | Receptor &lt;chr&gt; | Receptor.Name &lt;chr&gt; | complex_pair &lt;chr&gt; | partner_a &lt;chr&gt; | partner_b &lt;chr&gt; | source &lt;chr&gt; | ⋯ ⋯ | consensus_stimulation &lt;int&gt; | consensus_inhibition &lt;int&gt; | sources &lt;chr&gt; | references &lt;chr&gt; | curation_effort &lt;int&gt; | n_references &lt;int&gt; | n_resources &lt;int&gt; | annotation_strategy &lt;chr&gt; | db &lt;chr&gt; | dup &lt;chr&gt; |\n",
       "|---|---|---|---|---|---|---|---|---|---|---|---|---|---|---|---|---|---|---|---|---|\n",
       "| 5735 | SHANK1_ADGRL2 | SHANK1 | SH3 and multiple ankyrin repeat domains 1 | ADGRL2 | adhesion G protein-coupled receptor L2 | NA | Q9Y566 | O95490 | Q9Y566 | ⋯ | 0 | 0 | CellTalkDB;DOMINO;Fantom5_LRdb;HPRD;HPRD_LRdb;HPRD_talklr;LRdb;Ramilowski2015;iTALK;talklr | DOMINO:10964907;HPRD:10964907    | 2 | 1 | 7 | LR | LR | ADGRL2_SHANK1 |\n",
       "| 5737 | SHANK2_ADGRL2 | SHANK2 | SH3 and multiple ankyrin repeat domains 2 | ADGRL2 | adhesion G protein-coupled receptor L2 | NA | Q9UPX8 | O95490 | Q9UPX8 | ⋯ | 0 | 0 | Cellinker;HPRD                                                                             | Cellinker:10964907;HPRD:10964907 | 2 | 1 | 2 | LR | LR | ADGRL2_SHANK2 |\n",
       "\n"
      ],
      "text/plain": [
       "  X    Pair.Name     Ligand Ligand.Name                               Receptor\n",
       "1 5735 SHANK1_ADGRL2 SHANK1 SH3 and multiple ankyrin repeat domains 1 ADGRL2  \n",
       "2 5737 SHANK2_ADGRL2 SHANK2 SH3 and multiple ankyrin repeat domains 2 ADGRL2  \n",
       "  Receptor.Name                          complex_pair partner_a partner_b\n",
       "1 adhesion G protein-coupled receptor L2 NA           Q9Y566    O95490   \n",
       "2 adhesion G protein-coupled receptor L2 NA           Q9UPX8    O95490   \n",
       "  source ⋯ consensus_stimulation consensus_inhibition\n",
       "1 Q9Y566 ⋯ 0                     0                   \n",
       "2 Q9UPX8 ⋯ 0                     0                   \n",
       "  sources                                                                                   \n",
       "1 CellTalkDB;DOMINO;Fantom5_LRdb;HPRD;HPRD_LRdb;HPRD_talklr;LRdb;Ramilowski2015;iTALK;talklr\n",
       "2 Cellinker;HPRD                                                                            \n",
       "  references                       curation_effort n_references n_resources\n",
       "1 DOMINO:10964907;HPRD:10964907    2               1            7          \n",
       "2 Cellinker:10964907;HPRD:10964907 2               1            2          \n",
       "  annotation_strategy db dup          \n",
       "1 LR                  LR ADGRL2_SHANK1\n",
       "2 LR                  LR ADGRL2_SHANK2"
      ]
     },
     "metadata": {},
     "output_type": "display_data"
    }
   ],
   "source": [
    "# The approved gene symbol for LPHN2 is ADGRL2. In the current version of the database, \n",
    "# we can see that this gene is included and represented using its approved gene symbol\n",
    "filter(complete, Receptor==\"ADGRL2\")"
   ]
  },
  {
   "cell_type": "code",
   "execution_count": 8,
   "id": "b23f7750",
   "metadata": {},
   "outputs": [],
   "source": [
    "# Convert the non-approved gene symbols to their approved counterparts"
   ]
  },
  {
   "cell_type": "code",
   "execution_count": 9,
   "id": "5b2c3204",
   "metadata": {},
   "outputs": [],
   "source": [
    "difference <- as.data.frame(setdiff(previous_gene_space, new_gene_space))"
   ]
  },
  {
   "cell_type": "code",
   "execution_count": 10,
   "id": "28d904d6",
   "metadata": {},
   "outputs": [],
   "source": [
    "colnames(difference) = \"previous_name\""
   ]
  },
  {
   "cell_type": "code",
   "execution_count": 23,
   "id": "b1232d12",
   "metadata": {},
   "outputs": [
    {
     "data": {
      "text/html": [
       "<table class=\"dataframe\">\n",
       "<caption>A data.frame: 39 × 2</caption>\n",
       "<thead>\n",
       "\t<tr><th scope=col>previous_name</th><th scope=col>new</th></tr>\n",
       "\t<tr><th scope=col>&lt;chr&gt;</th><th scope=col>&lt;chr&gt;</th></tr>\n",
       "</thead>\n",
       "<tbody>\n",
       "\t<tr><td>AREGB   </td><td>AREG       </td></tr>\n",
       "\t<tr><td>C1orf200</td><td>PIK3CD-AS1 </td></tr>\n",
       "\t<tr><td>C4B     </td><td>C4B_2      </td></tr>\n",
       "\t<tr><td>C5orf55 </td><td>EXOC3-AS1  </td></tr>\n",
       "\t<tr><td>CCL3L3  </td><td>CCL3L1     </td></tr>\n",
       "\t<tr><td>CGB     </td><td>CGB8       </td></tr>\n",
       "\t<tr><td>CTGF    </td><td>CCN2       </td></tr>\n",
       "\t<tr><td>CYR61   </td><td>CCN1       </td></tr>\n",
       "\t<tr><td>DEFB103B</td><td>DEFB103A   </td></tr>\n",
       "\t<tr><td>DEFB4A  </td><td>DEFB4B     </td></tr>\n",
       "\t<tr><td>FIGF    </td><td>VEGFD      </td></tr>\n",
       "\t<tr><td>IFNA13  </td><td>IFNA1      </td></tr>\n",
       "\t<tr><td>IL8     </td><td>CXCL8      </td></tr>\n",
       "\t<tr><td>KAL1    </td><td>ANOS1      </td></tr>\n",
       "\t<tr><td>LRP1B   </td><td>LRP1B      </td></tr>\n",
       "\t<tr><td>MFI2    </td><td>MELTF      </td></tr>\n",
       "\t<tr><td>MLLT4   </td><td>AFDN       </td></tr>\n",
       "\t<tr><td>NOV     </td><td>PLXNA1     </td></tr>\n",
       "\t<tr><td>YARS    </td><td>YARS1      </td></tr>\n",
       "\t<tr><td>CCL12   </td><td>CCL12_Mouse</td></tr>\n",
       "\t<tr><td>NGFRAP1 </td><td>BEX3       </td></tr>\n",
       "\t<tr><td>HFE2    </td><td>HJV        </td></tr>\n",
       "\t<tr><td>PPAPDC2 </td><td>PLPP6      </td></tr>\n",
       "\t<tr><td>DARC    </td><td>ACKR1      </td></tr>\n",
       "\t<tr><td>C14orf1 </td><td>ERG28      </td></tr>\n",
       "\t<tr><td>CD97    </td><td>ADGRE5     </td></tr>\n",
       "\t<tr><td>EMR2    </td><td>ADGRE2     </td></tr>\n",
       "\t<tr><td>ELTD1   </td><td>ADGRL4     </td></tr>\n",
       "\t<tr><td>TMEM8A  </td><td>PGAP6      </td></tr>\n",
       "\t<tr><td>PVRL1   </td><td>NECTIN1    </td></tr>\n",
       "\t<tr><td>PVRL2   </td><td>NECTIN2    </td></tr>\n",
       "\t<tr><td>PVRL3   </td><td>NECTIN3    </td></tr>\n",
       "\t<tr><td>PVRL4   </td><td>NECTIN4    </td></tr>\n",
       "\t<tr><td>GPR1    </td><td>CMKLR2     </td></tr>\n",
       "\t<tr><td>BAI2    </td><td>ADGRB2     </td></tr>\n",
       "\t<tr><td>LPHN1   </td><td>ADGRL1     </td></tr>\n",
       "\t<tr><td>LPHN2   </td><td>ADGRL2     </td></tr>\n",
       "\t<tr><td>GPR56   </td><td>ADGRG1     </td></tr>\n",
       "\t<tr><td>NA      </td><td>None       </td></tr>\n",
       "</tbody>\n",
       "</table>\n"
      ],
      "text/latex": [
       "A data.frame: 39 × 2\n",
       "\\begin{tabular}{ll}\n",
       " previous\\_name & new\\\\\n",
       " <chr> & <chr>\\\\\n",
       "\\hline\n",
       "\t AREGB    & AREG       \\\\\n",
       "\t C1orf200 & PIK3CD-AS1 \\\\\n",
       "\t C4B      & C4B\\_2      \\\\\n",
       "\t C5orf55  & EXOC3-AS1  \\\\\n",
       "\t CCL3L3   & CCL3L1     \\\\\n",
       "\t CGB      & CGB8       \\\\\n",
       "\t CTGF     & CCN2       \\\\\n",
       "\t CYR61    & CCN1       \\\\\n",
       "\t DEFB103B & DEFB103A   \\\\\n",
       "\t DEFB4A   & DEFB4B     \\\\\n",
       "\t FIGF     & VEGFD      \\\\\n",
       "\t IFNA13   & IFNA1      \\\\\n",
       "\t IL8      & CXCL8      \\\\\n",
       "\t KAL1     & ANOS1      \\\\\n",
       "\t LRP1B    & LRP1B      \\\\\n",
       "\t MFI2     & MELTF      \\\\\n",
       "\t MLLT4    & AFDN       \\\\\n",
       "\t NOV      & PLXNA1     \\\\\n",
       "\t YARS     & YARS1      \\\\\n",
       "\t CCL12    & CCL12\\_Mouse\\\\\n",
       "\t NGFRAP1  & BEX3       \\\\\n",
       "\t HFE2     & HJV        \\\\\n",
       "\t PPAPDC2  & PLPP6      \\\\\n",
       "\t DARC     & ACKR1      \\\\\n",
       "\t C14orf1  & ERG28      \\\\\n",
       "\t CD97     & ADGRE5     \\\\\n",
       "\t EMR2     & ADGRE2     \\\\\n",
       "\t ELTD1    & ADGRL4     \\\\\n",
       "\t TMEM8A   & PGAP6      \\\\\n",
       "\t PVRL1    & NECTIN1    \\\\\n",
       "\t PVRL2    & NECTIN2    \\\\\n",
       "\t PVRL3    & NECTIN3    \\\\\n",
       "\t PVRL4    & NECTIN4    \\\\\n",
       "\t GPR1     & CMKLR2     \\\\\n",
       "\t BAI2     & ADGRB2     \\\\\n",
       "\t LPHN1    & ADGRL1     \\\\\n",
       "\t LPHN2    & ADGRL2     \\\\\n",
       "\t GPR56    & ADGRG1     \\\\\n",
       "\t NA       & None       \\\\\n",
       "\\end{tabular}\n"
      ],
      "text/markdown": [
       "\n",
       "A data.frame: 39 × 2\n",
       "\n",
       "| previous_name &lt;chr&gt; | new &lt;chr&gt; |\n",
       "|---|---|\n",
       "| AREGB    | AREG        |\n",
       "| C1orf200 | PIK3CD-AS1  |\n",
       "| C4B      | C4B_2       |\n",
       "| C5orf55  | EXOC3-AS1   |\n",
       "| CCL3L3   | CCL3L1      |\n",
       "| CGB      | CGB8        |\n",
       "| CTGF     | CCN2        |\n",
       "| CYR61    | CCN1        |\n",
       "| DEFB103B | DEFB103A    |\n",
       "| DEFB4A   | DEFB4B      |\n",
       "| FIGF     | VEGFD       |\n",
       "| IFNA13   | IFNA1       |\n",
       "| IL8      | CXCL8       |\n",
       "| KAL1     | ANOS1       |\n",
       "| LRP1B    | LRP1B       |\n",
       "| MFI2     | MELTF       |\n",
       "| MLLT4    | AFDN        |\n",
       "| NOV      | PLXNA1      |\n",
       "| YARS     | YARS1       |\n",
       "| CCL12    | CCL12_Mouse |\n",
       "| NGFRAP1  | BEX3        |\n",
       "| HFE2     | HJV         |\n",
       "| PPAPDC2  | PLPP6       |\n",
       "| DARC     | ACKR1       |\n",
       "| C14orf1  | ERG28       |\n",
       "| CD97     | ADGRE5      |\n",
       "| EMR2     | ADGRE2      |\n",
       "| ELTD1    | ADGRL4      |\n",
       "| TMEM8A   | PGAP6       |\n",
       "| PVRL1    | NECTIN1     |\n",
       "| PVRL2    | NECTIN2     |\n",
       "| PVRL3    | NECTIN3     |\n",
       "| PVRL4    | NECTIN4     |\n",
       "| GPR1     | CMKLR2      |\n",
       "| BAI2     | ADGRB2      |\n",
       "| LPHN1    | ADGRL1      |\n",
       "| LPHN2    | ADGRL2      |\n",
       "| GPR56    | ADGRG1      |\n",
       "| NA       | None        |\n",
       "\n"
      ],
      "text/plain": [
       "   previous_name new        \n",
       "1  AREGB         AREG       \n",
       "2  C1orf200      PIK3CD-AS1 \n",
       "3  C4B           C4B_2      \n",
       "4  C5orf55       EXOC3-AS1  \n",
       "5  CCL3L3        CCL3L1     \n",
       "6  CGB           CGB8       \n",
       "7  CTGF          CCN2       \n",
       "8  CYR61         CCN1       \n",
       "9  DEFB103B      DEFB103A   \n",
       "10 DEFB4A        DEFB4B     \n",
       "11 FIGF          VEGFD      \n",
       "12 IFNA13        IFNA1      \n",
       "13 IL8           CXCL8      \n",
       "14 KAL1          ANOS1      \n",
       "15 LRP1B         LRP1B      \n",
       "16 MFI2          MELTF      \n",
       "17 MLLT4         AFDN       \n",
       "18 NOV           PLXNA1     \n",
       "19 YARS          YARS1      \n",
       "20 CCL12         CCL12_Mouse\n",
       "21 NGFRAP1       BEX3       \n",
       "22 HFE2          HJV        \n",
       "23 PPAPDC2       PLPP6      \n",
       "24 DARC          ACKR1      \n",
       "25 C14orf1       ERG28      \n",
       "26 CD97          ADGRE5     \n",
       "27 EMR2          ADGRE2     \n",
       "28 ELTD1         ADGRL4     \n",
       "29 TMEM8A        PGAP6      \n",
       "30 PVRL1         NECTIN1    \n",
       "31 PVRL2         NECTIN2    \n",
       "32 PVRL3         NECTIN3    \n",
       "33 PVRL4         NECTIN4    \n",
       "34 GPR1          CMKLR2     \n",
       "35 BAI2          ADGRB2     \n",
       "36 LPHN1         ADGRL1     \n",
       "37 LPHN2         ADGRL2     \n",
       "38 GPR56         ADGRG1     \n",
       "39 NA            None       "
      ]
     },
     "metadata": {},
     "output_type": "display_data"
    }
   ],
   "source": [
    "difference"
   ]
  },
  {
   "cell_type": "code",
   "execution_count": 11,
   "id": "3c89e78f",
   "metadata": {},
   "outputs": [],
   "source": [
    "approved <- c(\"AREG\",\n",
    "\"PIK3CD-AS1\",\n",
    "\"C4B_2\",\n",
    "\"EXOC3-AS1\",\n",
    "\"CCL3L1\",\n",
    "\"CGB8\",\n",
    "\"CCN2\",\n",
    "\"CCN1\",\n",
    "\"DEFB103A\",\n",
    "\"DEFB4B\",\n",
    "\"VEGFD\",\n",
    "\"IFNA1\",\n",
    "\"CXCL8\",\n",
    "\"ANOS1\",\n",
    "\"LRP1B\",\n",
    "\"MELTF\",\n",
    "\"AFDN\",\n",
    "\"PLXNA1\",\n",
    "\"YARS1\",\n",
    "\"CCL12_Mouse\",\n",
    "\"BEX3\",\n",
    "\"HJV\",\n",
    "\"PLPP6\",\n",
    "\"ACKR1\",\n",
    "\"ERG28\",\n",
    "\"ADGRE5\",\n",
    "\"ADGRE2\",\n",
    "\"ADGRL4\",\n",
    "\"PGAP6\",\n",
    "\"NECTIN1\",\n",
    "\"NECTIN2\",\n",
    "\"NECTIN3\",\n",
    "\"NECTIN4\",\n",
    "\"CMKLR2\",\n",
    "\"ADGRB2\",\n",
    "\"ADGRL1\",\n",
    "\"ADGRL2\",\n",
    "\"ADGRG1\",\n",
    "\"None\")"
   ]
  },
  {
   "cell_type": "code",
   "execution_count": 12,
   "id": "f9f04c1c",
   "metadata": {},
   "outputs": [],
   "source": [
    "difference$new=approved"
   ]
  },
  {
   "cell_type": "code",
   "execution_count": 13,
   "id": "8ff927c1",
   "metadata": {},
   "outputs": [],
   "source": [
    "replaced_gene_space <- replace(previous_gene_space, \n",
    "                               previous_gene_space %in% difference$previous_name, \n",
    "                               difference$new)"
   ]
  },
  {
   "cell_type": "code",
   "execution_count": 14,
   "id": "8a284d4b",
   "metadata": {},
   "outputs": [],
   "source": [
    "# lets plot the gene space again"
   ]
  },
  {
   "cell_type": "code",
   "execution_count": 15,
   "id": "6ac95f9b",
   "metadata": {},
   "outputs": [
    {
     "data": {
      "text/html": [
       "<strong>png:</strong> 2"
      ],
      "text/latex": [
       "\\textbf{png:} 2"
      ],
      "text/markdown": [
       "**png:** 2"
      ],
      "text/plain": [
       "png \n",
       "  2 "
      ]
     },
     "metadata": {},
     "output_type": "display_data"
    }
   ],
   "source": [
    "tiff(\"2nd_gene_space.tiff\", units=\"in\", width=5, height=5, res=300)\n",
    "Venn_plot <- draw.pairwise.venn(length(new_gene_space), \n",
    "    length(unique(replaced_gene_space)), \n",
    "    length(intersect(new_gene_space,\n",
    "    replaced_gene_space)), \n",
    "    category = c(\"New Gene Space\", \"Previous Gene Space with Approved Names\"), \n",
    "    lty = rep(\"blank\", 2), fill = c(\"light blue\", \"red\"), alpha = rep(0.4, 2), \n",
    "    cat.pos = c(0, 0), cat.dist = rep(0.025, 2), cex= 1.5, cat.cex=1.5, \n",
    "    verbose = FALSE)\n",
    "grid.draw(Venn_plot)\n",
    "dev.off()"
   ]
  },
  {
   "cell_type": "code",
   "execution_count": 16,
   "id": "a8a5d16e",
   "metadata": {},
   "outputs": [
    {
     "data": {
      "text/html": [
       "<style>\n",
       ".list-inline {list-style: none; margin:0; padding: 0}\n",
       ".list-inline>li {display: inline-block}\n",
       ".list-inline>li:not(:last-child)::after {content: \"\\00b7\"; padding: 0 .5ex}\n",
       "</style>\n",
       "<ol class=list-inline><li>'LRP1B'</li><li>'CCL12_Mouse'</li><li>'None'</li></ol>\n"
      ],
      "text/latex": [
       "\\begin{enumerate*}\n",
       "\\item 'LRP1B'\n",
       "\\item 'CCL12\\_Mouse'\n",
       "\\item 'None'\n",
       "\\end{enumerate*}\n"
      ],
      "text/markdown": [
       "1. 'LRP1B'\n",
       "2. 'CCL12_Mouse'\n",
       "3. 'None'\n",
       "\n",
       "\n"
      ],
      "text/plain": [
       "[1] \"LRP1B\"       \"CCL12_Mouse\" \"None\"       "
      ]
     },
     "metadata": {},
     "output_type": "display_data"
    }
   ],
   "source": [
    "setdiff(replaced_gene_space, new_gene_space)"
   ]
  },
  {
   "cell_type": "code",
   "execution_count": 17,
   "id": "3a9f07ec",
   "metadata": {},
   "outputs": [],
   "source": [
    "# Comparing Pairs"
   ]
  },
  {
   "cell_type": "markdown",
   "id": "ef5582d4",
   "metadata": {},
   "source": []
  },
  {
   "cell_type": "code",
   "execution_count": 18,
   "id": "b0aba76a",
   "metadata": {},
   "outputs": [],
   "source": [
    "# Fix the Ligand/Receptor in the previous version of the database by replacing the non-approved gene symbols\n",
    "# with their approved counterparts\n",
    "\n",
    "# Loop through the rows of the difference data to replace the previous names with their approved counterparts.\n",
    "for (i in 1:nrow(difference)) {\n",
    "  # Check if the Ligand or Receptor values in previous_db are present in the previous value in difference\n",
    "  ligand_match <- previous_db$Ligand %in% difference$previous_name[i]\n",
    "  receptor_match <- previous_db$Receptor %in% difference$previous_name[i]\n",
    "  \n",
    "  # Update the Ligand and Receptor values in previous_db with the new value in difference if there is a match\n",
    "  previous_db$Ligand[ligand_match] <- difference$new[i]\n",
    "  previous_db$Receptor[receptor_match] <- difference$new[i]\n",
    "}"
   ]
  },
  {
   "cell_type": "code",
   "execution_count": 19,
   "id": "c7b2a2bc",
   "metadata": {},
   "outputs": [
    {
     "data": {
      "text/html": [
       "TRUE"
      ],
      "text/latex": [
       "TRUE"
      ],
      "text/markdown": [
       "TRUE"
      ],
      "text/plain": [
       "[1] TRUE"
      ]
     },
     "metadata": {},
     "output_type": "display_data"
    }
   ],
   "source": [
    "\"AREG\" %in% previous_db$Ligand & !\"AREGB\" %in% previous_db$Ligand"
   ]
  },
  {
   "cell_type": "code",
   "execution_count": 20,
   "id": "89772eef",
   "metadata": {},
   "outputs": [],
   "source": [
    "# fix the edges with the approved gene symbols in the previous db\n",
    "previous_db$Pair.Name <- paste(previous_db$Ligand, previous_db$Receptor, sep = \"_\")"
   ]
  },
  {
   "cell_type": "code",
   "execution_count": 21,
   "id": "15deb5f0",
   "metadata": {},
   "outputs": [
    {
     "data": {
      "text/html": [
       "<strong>png:</strong> 2"
      ],
      "text/latex": [
       "\\textbf{png:} 2"
      ],
      "text/markdown": [
       "**png:** 2"
      ],
      "text/plain": [
       "png \n",
       "  2 "
      ]
     },
     "metadata": {},
     "output_type": "display_data"
    }
   ],
   "source": [
    "#Finally plot'em\n",
    "tiff(\"3_pairs.tiff\", units=\"in\", width=5, height=5, res=300)\n",
    "Venn_plot <- draw.pairwise.venn(length(unique(previous_db$Pair.Name)), \n",
    "    length(complete$Pair.Name), \n",
    "    length(intersect(previous_db$Pair.Name,\n",
    "    complete$Pair.Name)), \n",
    "    category = c(\"Previous DB Pair\", \"New DB Pair\"), \n",
    "    lty = rep(\"blank\", 2), fill = c(\"light blue\", \"red\"), alpha = rep(0.4, 2), \n",
    "    cat.pos = c(0, 0), cat.dist = rep(0.025, 2), cex= 1.5, cat.cex=1.5, \n",
    "    verbose = FALSE)\n",
    "grid.draw(Venn_plot)\n",
    "dev.off()"
   ]
  },
  {
   "cell_type": "code",
   "execution_count": 22,
   "id": "5c50e8cd",
   "metadata": {},
   "outputs": [
    {
     "data": {
      "text/html": [
       "<style>\n",
       ".list-inline {list-style: none; margin:0; padding: 0}\n",
       ".list-inline>li {display: inline-block}\n",
       ".list-inline>li:not(:last-child)::after {content: \"\\00b7\"; padding: 0 .5ex}\n",
       "</style>\n",
       "<ol class=list-inline><li>'BTLA_VTCN1'</li><li>'CNTN2_CNTN1'</li><li>'FAT4_DCHS1'</li><li>'GNAI2_ADRA2A'</li><li>'GNAI2_ADRA2B'</li><li>'LRP1B_PLAUR'</li><li>'LRPAP1_LRP2'</li><li>'PLXNA1_PLXNA1'</li><li>'RGMB_NEO1'</li><li>'RIMS1_CACNA1C'</li><li>'RTN4_CNTNAP1'</li><li>'SEMA4A_PLXND1'</li><li>'SEMA4B_DCBLD2'</li><li>'SEMA4C_PLXNB2'</li><li>'SEMA4D_CD72'</li><li>'SEMA4F_NRP2'</li><li>'SEMA4G_PLXNB2'</li><li>'SEMA6A_PLXNA2'</li><li>'SEMA6A_PLXNA4'</li><li>'SHANK1_ABCA1'</li><li>'TNFRSF14_BTLA'</li><li>'TNFRSF4_TNFSF4'</li><li>'CCL12_Mouse_CCR2'</li><li>'CXCL1_None'</li><li>'CXCL5_None'</li><li>'PPBP_None'</li><li>'CCL2_None'</li><li>'CCL3_None'</li><li>'CCL4_None'</li><li>'CCL5_None'</li><li>'CCL7_None'</li><li>'CCL11_None'</li><li>'CXCL8_None'</li><li>'CXCL10_None'</li><li>'CXCL12_None'</li></ol>\n"
      ],
      "text/latex": [
       "\\begin{enumerate*}\n",
       "\\item 'BTLA\\_VTCN1'\n",
       "\\item 'CNTN2\\_CNTN1'\n",
       "\\item 'FAT4\\_DCHS1'\n",
       "\\item 'GNAI2\\_ADRA2A'\n",
       "\\item 'GNAI2\\_ADRA2B'\n",
       "\\item 'LRP1B\\_PLAUR'\n",
       "\\item 'LRPAP1\\_LRP2'\n",
       "\\item 'PLXNA1\\_PLXNA1'\n",
       "\\item 'RGMB\\_NEO1'\n",
       "\\item 'RIMS1\\_CACNA1C'\n",
       "\\item 'RTN4\\_CNTNAP1'\n",
       "\\item 'SEMA4A\\_PLXND1'\n",
       "\\item 'SEMA4B\\_DCBLD2'\n",
       "\\item 'SEMA4C\\_PLXNB2'\n",
       "\\item 'SEMA4D\\_CD72'\n",
       "\\item 'SEMA4F\\_NRP2'\n",
       "\\item 'SEMA4G\\_PLXNB2'\n",
       "\\item 'SEMA6A\\_PLXNA2'\n",
       "\\item 'SEMA6A\\_PLXNA4'\n",
       "\\item 'SHANK1\\_ABCA1'\n",
       "\\item 'TNFRSF14\\_BTLA'\n",
       "\\item 'TNFRSF4\\_TNFSF4'\n",
       "\\item 'CCL12\\_Mouse\\_CCR2'\n",
       "\\item 'CXCL1\\_None'\n",
       "\\item 'CXCL5\\_None'\n",
       "\\item 'PPBP\\_None'\n",
       "\\item 'CCL2\\_None'\n",
       "\\item 'CCL3\\_None'\n",
       "\\item 'CCL4\\_None'\n",
       "\\item 'CCL5\\_None'\n",
       "\\item 'CCL7\\_None'\n",
       "\\item 'CCL11\\_None'\n",
       "\\item 'CXCL8\\_None'\n",
       "\\item 'CXCL10\\_None'\n",
       "\\item 'CXCL12\\_None'\n",
       "\\end{enumerate*}\n"
      ],
      "text/markdown": [
       "1. 'BTLA_VTCN1'\n",
       "2. 'CNTN2_CNTN1'\n",
       "3. 'FAT4_DCHS1'\n",
       "4. 'GNAI2_ADRA2A'\n",
       "5. 'GNAI2_ADRA2B'\n",
       "6. 'LRP1B_PLAUR'\n",
       "7. 'LRPAP1_LRP2'\n",
       "8. 'PLXNA1_PLXNA1'\n",
       "9. 'RGMB_NEO1'\n",
       "10. 'RIMS1_CACNA1C'\n",
       "11. 'RTN4_CNTNAP1'\n",
       "12. 'SEMA4A_PLXND1'\n",
       "13. 'SEMA4B_DCBLD2'\n",
       "14. 'SEMA4C_PLXNB2'\n",
       "15. 'SEMA4D_CD72'\n",
       "16. 'SEMA4F_NRP2'\n",
       "17. 'SEMA4G_PLXNB2'\n",
       "18. 'SEMA6A_PLXNA2'\n",
       "19. 'SEMA6A_PLXNA4'\n",
       "20. 'SHANK1_ABCA1'\n",
       "21. 'TNFRSF14_BTLA'\n",
       "22. 'TNFRSF4_TNFSF4'\n",
       "23. 'CCL12_Mouse_CCR2'\n",
       "24. 'CXCL1_None'\n",
       "25. 'CXCL5_None'\n",
       "26. 'PPBP_None'\n",
       "27. 'CCL2_None'\n",
       "28. 'CCL3_None'\n",
       "29. 'CCL4_None'\n",
       "30. 'CCL5_None'\n",
       "31. 'CCL7_None'\n",
       "32. 'CCL11_None'\n",
       "33. 'CXCL8_None'\n",
       "34. 'CXCL10_None'\n",
       "35. 'CXCL12_None'\n",
       "\n",
       "\n"
      ],
      "text/plain": [
       " [1] \"BTLA_VTCN1\"       \"CNTN2_CNTN1\"      \"FAT4_DCHS1\"       \"GNAI2_ADRA2A\"    \n",
       " [5] \"GNAI2_ADRA2B\"     \"LRP1B_PLAUR\"      \"LRPAP1_LRP2\"      \"PLXNA1_PLXNA1\"   \n",
       " [9] \"RGMB_NEO1\"        \"RIMS1_CACNA1C\"    \"RTN4_CNTNAP1\"     \"SEMA4A_PLXND1\"   \n",
       "[13] \"SEMA4B_DCBLD2\"    \"SEMA4C_PLXNB2\"    \"SEMA4D_CD72\"      \"SEMA4F_NRP2\"     \n",
       "[17] \"SEMA4G_PLXNB2\"    \"SEMA6A_PLXNA2\"    \"SEMA6A_PLXNA4\"    \"SHANK1_ABCA1\"    \n",
       "[21] \"TNFRSF14_BTLA\"    \"TNFRSF4_TNFSF4\"   \"CCL12_Mouse_CCR2\" \"CXCL1_None\"      \n",
       "[25] \"CXCL5_None\"       \"PPBP_None\"        \"CCL2_None\"        \"CCL3_None\"       \n",
       "[29] \"CCL4_None\"        \"CCL5_None\"        \"CCL7_None\"        \"CCL11_None\"      \n",
       "[33] \"CXCL8_None\"       \"CXCL10_None\"      \"CXCL12_None\"     "
      ]
     },
     "metadata": {},
     "output_type": "display_data"
    }
   ],
   "source": [
    "setdiff(previous_db$Pair.Name, complete$Pair.Name)"
   ]
  },
  {
   "cell_type": "code",
   "execution_count": null,
   "id": "8c653e55",
   "metadata": {},
   "outputs": [],
   "source": []
  }
 ],
 "metadata": {
  "kernelspec": {
   "display_name": "R",
   "language": "R",
   "name": "ir"
  },
  "language_info": {
   "codemirror_mode": "r",
   "file_extension": ".r",
   "mimetype": "text/x-r-source",
   "name": "R",
   "pygments_lexer": "r",
   "version": "4.1.2"
  }
 },
 "nbformat": 4,
 "nbformat_minor": 5
}
