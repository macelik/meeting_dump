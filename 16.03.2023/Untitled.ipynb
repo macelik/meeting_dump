{
 "cells": [
  {
   "cell_type": "code",
   "execution_count": 23,
   "id": "145f9e04",
   "metadata": {},
   "outputs": [],
   "source": [
    "library(OmnipathR)\n",
    "# library(nichenetr)\n",
    "library(tidyverse)\n",
    "library(dplyr)\n",
    "library(VennDiagram)\n",
    "library(ggplot2)\n",
    "library(utils)"
   ]
  },
  {
   "cell_type": "code",
   "execution_count": null,
   "id": "22b4d391",
   "metadata": {},
   "outputs": [],
   "source": [
    "lr <- import_ligrecextra_interactions()\n",
    "lr <- lr %>% filter(!duplicated(lr[, c(\"source_genesymbol\", \"target_genesymbol\")]))"
   ]
  },
  {
   "cell_type": "code",
   "execution_count": 131,
   "id": "b7a7b9e2",
   "metadata": {},
   "outputs": [],
   "source": [
    "curated <- curated_ligand_receptor_interactions()\n",
    "curated <- curated %>% filter(!duplicated(curated[, c(\"source_genesymbol\", \"target_genesymbol\")]))"
   ]
  },
  {
   "cell_type": "code",
   "execution_count": null,
   "id": "b88aae55",
   "metadata": {},
   "outputs": [],
   "source": [
    "lr$pair <- paste(lr$source_genesymbol, lr$target_genesymbol, sep=\"_\")"
   ]
  },
  {
   "cell_type": "code",
   "execution_count": 132,
   "id": "38a892af",
   "metadata": {},
   "outputs": [],
   "source": [
    "curated$pair <- paste(curated$source_genesymbol, curated$target_genesymbol, sep=\"_\")"
   ]
  },
  {
   "cell_type": "code",
   "execution_count": 25,
   "id": "4670d419",
   "metadata": {},
   "outputs": [],
   "source": [
    "omni <- read.csv(\"L_R_OmniPathFull.csv\")"
   ]
  },
  {
   "cell_type": "code",
   "execution_count": null,
   "id": "bd848097",
   "metadata": {},
   "outputs": [],
   "source": [
    "length(intersect(lr$pair, curated$pair))"
   ]
  },
  {
   "cell_type": "code",
   "execution_count": null,
   "id": "740f9224",
   "metadata": {},
   "outputs": [],
   "source": [
    "length(setdiff(curated$pair,lr$pair))"
   ]
  },
  {
   "cell_type": "code",
   "execution_count": null,
   "id": "cebdee23",
   "metadata": {},
   "outputs": [],
   "source": [
    "setdiff(curated$pair,lr$pair)"
   ]
  },
  {
   "cell_type": "code",
   "execution_count": null,
   "id": "1a9868f2",
   "metadata": {},
   "outputs": [],
   "source": [
    "filter(curated, pair==\"EPOR_EPO\")"
   ]
  },
  {
   "cell_type": "code",
   "execution_count": null,
   "id": "3cd35405",
   "metadata": {},
   "outputs": [],
   "source": [
    "filter(curated, source_genesymbol==\"EPOR\")"
   ]
  },
  {
   "cell_type": "code",
   "execution_count": null,
   "id": "9578a883",
   "metadata": {},
   "outputs": [],
   "source": [
    "length(intersect(omni$Pair.Name, curated$pair))"
   ]
  },
  {
   "cell_type": "code",
   "execution_count": null,
   "id": "1bb7086c",
   "metadata": {},
   "outputs": [],
   "source": [
    "length(setdiff(curated$pair,omni$Pair.Name))"
   ]
  },
  {
   "cell_type": "markdown",
   "id": "f857adb3",
   "metadata": {},
   "source": [
    "*************************"
   ]
  },
  {
   "cell_type": "code",
   "execution_count": 26,
   "id": "874057c0",
   "metadata": {},
   "outputs": [],
   "source": [
    "anno_raw <- import_omnipath_intercell()\n",
    "#subset annotation DB to only ligand and receptors\n",
    "anno_lig <- anno_raw %>%\n",
    "    dplyr::filter(category %in% c(\"receptor\",\"ligand\"))\n",
    "# Drop rows where the values in the \"parent\", \"database\", and \"uniprot\" columns are duplicated\n",
    "anno_raw <- anno_raw %>% filter(!duplicated(anno_raw[, c(\"parent\", \"database\", \"uniprot\")]))"
   ]
  },
  {
   "cell_type": "code",
   "execution_count": 27,
   "id": "e5a55bbf",
   "metadata": {},
   "outputs": [],
   "source": [
    "#filter only those are in complex\n",
    "complex <- filter(curated, grepl('COMPLEX', target) | grepl('COMPLEX',source))\n",
    "complex$source <- sub(\"COMPLEX:\", \"\", complex$source)\n",
    "complex$target <- sub(\"COMPLEX:\", \"\", complex$target)"
   ]
  },
  {
   "cell_type": "code",
   "execution_count": 28,
   "id": "b3db3081",
   "metadata": {},
   "outputs": [],
   "source": [
    "#complexes are seperated into individual components\n",
    "components_target <- unique(unlist(strsplit(complex$source_genesymbol,\"_\")))\n",
    "components_source <- unique(unlist(strsplit(complex$target_genesymbol,\"_\")))\n",
    "components_both <- c(components_target,components_source)\n",
    "components_both <- unique(components_both)"
   ]
  },
  {
   "cell_type": "code",
   "execution_count": 29,
   "id": "2aa8ed53",
   "metadata": {},
   "outputs": [
    {
     "name": "stdout",
     "output_type": "stream",
     "text": [
      "'data.frame':\t2185 obs. of  3 variables:\n",
      " $ source      : chr  \"IL17A\" \"IL17A\" \"IL17RA\" \"ITGAL\" ...\n",
      " $ target      : chr  \"IL17RA\" \"IL17RC\" \"IL17RC\" \"ITGB2\" ...\n",
      " $ complex_pair: chr  \"IL17A_IL17RA_IL17RC\" \"IL17A_IL17RA_IL17RC\" \"IL17A_IL17RA_IL17RC\" \"ITGAL_ITGB2_ICAM1\" ...\n"
     ]
    }
   ],
   "source": [
    "# Produce all the possbile pairwise pairs\n",
    "\n",
    "results <- list()\n",
    "\n",
    "# Loop through each row of the data frame\n",
    "for (i in 1:nrow(complex)) {\n",
    "  # Extract the values from the first column\n",
    "  values1 <- unlist(strsplit(as.character(complex[i, \"source_genesymbol\"]), \"_\"))\n",
    "  # Extract the values from the second column\n",
    "  values2 <- unlist(strsplit(as.character(complex[i, \"target_genesymbol\"]), \"_\"))\n",
    "  # Keep the original pair\n",
    "  original <- paste(complex[i, \"source_genesymbol\"],complex[i, \"target_genesymbol\"],sep=\"_\")\n",
    "  # Generate all the pairwise combinations using combn\n",
    "  pairs <- combn(c(values1, values2), 2)\n",
    "  pairs <- t(pairs)\n",
    "  pairs <- cbind(pairs,original)\n",
    "  # Append the results to the list\n",
    "  results[[i]] <- as.data.frame(pairs)\n",
    "    colnames(results[[i]]) = c(\"source\",\"target\",\"complex_pair\")\n",
    "    row.names(results[[i]]) <- NULL\n",
    "}\n",
    "\n",
    "# Bind the results into a single data frame\n",
    "result_df2 <- as.data.frame(do.call(rbind, results))\n",
    "\n",
    "# Switch the values in the \"col1\" and \"col2\" columns\n",
    "df1 <- cbind(result_df2[,2], result_df2[,1], result_df2[,3])\n",
    "colnames(df1) <- names(result_df2)\n",
    "# Bind the rows into a single data frame\n",
    "result_df <- rbind(result_df2, df1)\n",
    "\n",
    "\n",
    "# Drop the self links\n",
    "result_df <- result_df %>% filter(!duplicated(result_df[, c(\"source\", \"target\")]))\n",
    "\n",
    "# View the resulting data frame\n",
    "str(result_df)"
   ]
  },
  {
   "cell_type": "code",
   "execution_count": 30,
   "id": "5f0eaa77",
   "metadata": {},
   "outputs": [],
   "source": [
    "#create a df to store annotation\n",
    "df <- data.frame(genesymbol = character(length(components_both)), score = numeric(length(components_both)), parent = character(length(components_both)), stringsAsFactors = FALSE)"
   ]
  },
  {
   "cell_type": "code",
   "execution_count": 31,
   "id": "49da29a6",
   "metadata": {},
   "outputs": [
    {
     "data": {
      "text/plain": [
       "\n",
       "  ligand       NA receptor \n",
       "     192       32      154 "
      ]
     },
     "metadata": {},
     "output_type": "display_data"
    }
   ],
   "source": [
    "# Check if the components are categorized as ligands or receptors\n",
    "\n",
    "for (x in 1:length(components_both)) {\n",
    "#     maxvalue=max(filter(anno, uniprot==components[x])$consensus_score)\n",
    "    genename <- components_both[x]\n",
    "    parent_score <- sort(table(filter(anno_lig, genesymbol==components_both[x])$parent), decreasing = T, na.last = T)[1]\n",
    "    parent_category <- names(parent_score)\n",
    "    \n",
    "    if (is.null(parent_category)) {\n",
    "      parent_category <- \"NA\"\n",
    "      parent_score <- 0\n",
    "    }\n",
    "    \n",
    "    df[x, \"genesymbol\"] <- genename\n",
    "    df[x, \"score\"] <- parent_score\n",
    "    df[x, \"parent\"] <- parent_category\n",
    "\n",
    "#     df$genesymbol[x] <- genename\n",
    "#     df$score[x] <- parent_score\n",
    "#     df$parent[x] <- parent_category\n",
    "}\n",
    "\n",
    "table(df$parent)"
   ]
  },
  {
   "cell_type": "code",
   "execution_count": 32,
   "id": "b2893458",
   "metadata": {},
   "outputs": [
    {
     "data": {
      "text/plain": [
       "\n",
       "          ecm        ligand      receptor      secreted transmembrane \n",
       "           22           192           154             7             3 "
      ]
     },
     "metadata": {},
     "output_type": "display_data"
    }
   ],
   "source": [
    "# If a component is not classified as a ligand or receptor, we may consider other categories such as \n",
    "# extracellular matrix, secreted, and transmembrane.# annotated others such as secreted, ecm etc\n",
    "\n",
    "df_na <- filter(df, parent==\"NA\")$genesymbol\n",
    "\n",
    "for (x in 1:length(df_na)) {\n",
    "#     maxvalue=max(filter(anno, uniprot==components[x])$consensus_score)\n",
    "    genesymbol <- df_na[x]\n",
    "    parent_score <- sort(table(filter(anno_raw, genesymbol==df_na[x])$parent), decreasing = T, na.last = T)[1]\n",
    "    parent_category <- names(parent_score)\n",
    "\n",
    "    df <- df %>% mutate(parent = ifelse(genesymbol == df_na[x], parent_category, parent))\n",
    "    df <- df %>% mutate(score = ifelse(genesymbol == df_na[x], parent_score, score))\n",
    "\n",
    "}\n",
    "\n",
    "table(df$parent)"
   ]
  },
  {
   "cell_type": "code",
   "execution_count": 33,
   "id": "7c81d5c2",
   "metadata": {},
   "outputs": [],
   "source": [
    "# categorize ecm/secreted as ligand\n",
    "df$parent <- replace(df$parent, df$parent == \"ecm\", \"ligand\")\n",
    "df$parent <- replace(df$parent, df$parent == \"secreted\", \"ligand\")"
   ]
  },
  {
   "cell_type": "code",
   "execution_count": 34,
   "id": "cd679afa",
   "metadata": {},
   "outputs": [],
   "source": [
    "# Import All post-translational interactions\n",
    "pt <- import_post_translational_interactions()"
   ]
  },
  {
   "cell_type": "code",
   "execution_count": 35,
   "id": "f98b8313",
   "metadata": {},
   "outputs": [],
   "source": [
    "# \"Separate the annotated components of complexes based on their type.\"\n",
    "ligands <- filter(df, parent==\"ligand\")\n",
    "receptors <- filter(df, parent==\"receptor\")"
   ]
  },
  {
   "cell_type": "code",
   "execution_count": 36,
   "id": "6dc78481",
   "metadata": {},
   "outputs": [],
   "source": [
    "# Filter the PT network to include only the components of the complexes\n",
    "pt <- pt %>%\n",
    "    dplyr::filter(source_genesymbol %in% ligands$genesymbol) %>%\n",
    "    dplyr::filter(target_genesymbol %in% receptors$genesymbol) %>%\n",
    "    dplyr::distinct()"
   ]
  },
  {
   "cell_type": "code",
   "execution_count": 37,
   "id": "7b030d8a",
   "metadata": {},
   "outputs": [],
   "source": [
    "# remove duplicated\n",
    "pt <- pt %>% filter(!duplicated(pt[, c(\"source_genesymbol\", \"target_genesymbol\")]))"
   ]
  },
  {
   "cell_type": "code",
   "execution_count": 38,
   "id": "ede57be6",
   "metadata": {},
   "outputs": [],
   "source": [
    "# create the pairs\n",
    "pt$pair=paste(pt$source_genesymbol, pt$target_genesymbol,sep=\"_\")\n",
    "result_df$pair=paste(result_df$source, result_df$target,sep=\"_\")"
   ]
  },
  {
   "cell_type": "code",
   "execution_count": 39,
   "id": "d089e1bf",
   "metadata": {},
   "outputs": [
    {
     "name": "stdout",
     "output_type": "stream",
     "text": [
      "'data.frame':\t662 obs. of  4 variables:\n",
      " $ source      : chr  \"IL17A\" \"IL17A\" \"IFNW1\" \"IFNW1\" ...\n",
      " $ target      : chr  \"IL17RA\" \"IL17RC\" \"IFNAR1\" \"IFNAR2\" ...\n",
      " $ complex_pair: chr  \"IL17A_IL17RA_IL17RC\" \"IL17A_IL17RA_IL17RC\" \"IFNW1_IFNAR1_IFNAR2\" \"IFNW1_IFNAR1_IFNAR2\" ...\n",
      " $ pair        : chr  \"IL17A_IL17RA\" \"IL17A_IL17RC\" \"IFNW1_IFNAR1\" \"IFNW1_IFNAR2\" ...\n"
     ]
    }
   ],
   "source": [
    "# The data frame result_df consists of all the pairwise pair combinations, \n",
    "# and we are checking if those pairs exist in the PT network\n",
    "pt_edges <- result_df %>%\n",
    "    filter(pair %in% pt$pair)\n",
    "\n",
    "str(pt_edges)"
   ]
  },
  {
   "cell_type": "code",
   "execution_count": 40,
   "id": "2f1a23db",
   "metadata": {},
   "outputs": [],
   "source": [
    "single_components = filter(curated, !grepl('COMPLEX', target) & !grepl('COMPLEX',source))"
   ]
  },
  {
   "cell_type": "code",
   "execution_count": 41,
   "id": "678bbcb8",
   "metadata": {},
   "outputs": [],
   "source": [
    "single_components <- single_components %>%\n",
    "  select(source_genesymbol, target_genesymbol) %>%\n",
    "  rename(source=source_genesymbol, target=target_genesymbol) %>%\n",
    "  mutate(complex_pair = NA)"
   ]
  },
  {
   "cell_type": "code",
   "execution_count": 109,
   "id": "08830301",
   "metadata": {},
   "outputs": [],
   "source": [
    "single_components$pair <- paste(single_components$source, single_components$target, sep=\"_\")"
   ]
  },
  {
   "cell_type": "code",
   "execution_count": 110,
   "id": "7a58030f",
   "metadata": {},
   "outputs": [],
   "source": [
    "#merge the single ones, with complexes componenets that are detected via PT_DB\n",
    "complete <- rbind(single_components, pt_edges)"
   ]
  },
  {
   "cell_type": "code",
   "execution_count": 111,
   "id": "ae6f6123",
   "metadata": {},
   "outputs": [],
   "source": [
    "#remove the duplicated ones, and drop the last ones, which are coming from the complexes\n",
    "complete <- complete[ !duplicated(complete[, \"pair\"], fromLast=F),]"
   ]
  },
  {
   "cell_type": "code",
   "execution_count": 112,
   "id": "3a5ae604",
   "metadata": {},
   "outputs": [],
   "source": [
    "complex$pair <- paste(complex$source_genesymbol, complex$target_genesymbol, sep=\"_\")"
   ]
  },
  {
   "cell_type": "code",
   "execution_count": 113,
   "id": "59ab435a",
   "metadata": {},
   "outputs": [
    {
     "data": {
      "text/html": [
       "269"
      ],
      "text/latex": [
       "269"
      ],
      "text/markdown": [
       "269"
      ],
      "text/plain": [
       "[1] 269"
      ]
     },
     "metadata": {},
     "output_type": "display_data"
    }
   ],
   "source": [
    "length(setdiff(complex$pair, pt_edges$complex_pair))"
   ]
  },
  {
   "cell_type": "code",
   "execution_count": 114,
   "id": "a54332d1",
   "metadata": {},
   "outputs": [
    {
     "data": {
      "text/html": [
       "269"
      ],
      "text/latex": [
       "269"
      ],
      "text/markdown": [
       "269"
      ],
      "text/plain": [
       "[1] 269"
      ]
     },
     "metadata": {},
     "output_type": "display_data"
    }
   ],
   "source": [
    "length(setdiff(complex$pair, pt_edges$complex_pair))"
   ]
  },
  {
   "cell_type": "code",
   "execution_count": 122,
   "id": "c34fcd03",
   "metadata": {},
   "outputs": [
    {
     "data": {
      "text/html": [
       "4407"
      ],
      "text/latex": [
       "4407"
      ],
      "text/markdown": [
       "4407"
      ],
      "text/plain": [
       "[1] 4407"
      ]
     },
     "metadata": {},
     "output_type": "display_data"
    }
   ],
   "source": [
    "length(intersect(complete$pair, omni$Pair.Name))"
   ]
  },
  {
   "cell_type": "code",
   "execution_count": 125,
   "id": "32f6839d",
   "metadata": {},
   "outputs": [
    {
     "data": {
      "text/html": [
       "55"
      ],
      "text/latex": [
       "55"
      ],
      "text/markdown": [
       "55"
      ],
      "text/plain": [
       "[1] 55"
      ]
     },
     "metadata": {},
     "output_type": "display_data"
    }
   ],
   "source": [
    "length(intersect(complete$complex_pair, omni$complex_pair))"
   ]
  },
  {
   "cell_type": "code",
   "execution_count": 126,
   "id": "0d1d6ab9",
   "metadata": {},
   "outputs": [],
   "source": [
    "a=intersect(complete$pair, omni$Pair.Name)"
   ]
  },
  {
   "cell_type": "code",
   "execution_count": 127,
   "id": "994451df",
   "metadata": {},
   "outputs": [],
   "source": [
    "b=intersect(complete$complex_pair, omni$complex_pair)"
   ]
  },
  {
   "cell_type": "code",
   "execution_count": null,
   "id": "3f8150e0",
   "metadata": {},
   "outputs": [],
   "source": [
    "length(intersect(complete$pair, omni$Pair.Name))"
   ]
  },
  {
   "cell_type": "code",
   "execution_count": 133,
   "id": "b7b5ae37",
   "metadata": {},
   "outputs": [
    {
     "data": {
      "text/html": [
       "4203"
      ],
      "text/latex": [
       "4203"
      ],
      "text/markdown": [
       "4203"
      ],
      "text/plain": [
       "[1] 4203"
      ]
     },
     "metadata": {},
     "output_type": "display_data"
    }
   ],
   "source": [
    "length(intersect(curated$pair, omni$Pair.Name))"
   ]
  },
  {
   "cell_type": "code",
   "execution_count": 134,
   "id": "a216836c",
   "metadata": {},
   "outputs": [
    {
     "data": {
      "text/html": [
       "57"
      ],
      "text/latex": [
       "57"
      ],
      "text/markdown": [
       "57"
      ],
      "text/plain": [
       "[1] 57"
      ]
     },
     "metadata": {},
     "output_type": "display_data"
    }
   ],
   "source": [
    "length(intersect(curated$pair, omni$complex_pair))"
   ]
  },
  {
   "cell_type": "code",
   "execution_count": null,
   "id": "7b32c0ff",
   "metadata": {},
   "outputs": [],
   "source": []
  }
 ],
 "metadata": {
  "kernelspec": {
   "display_name": "R",
   "language": "R",
   "name": "ir"
  },
  "language_info": {
   "codemirror_mode": "r",
   "file_extension": ".r",
   "mimetype": "text/x-r-source",
   "name": "R",
   "pygments_lexer": "r",
   "version": "4.1.2"
  }
 },
 "nbformat": 4,
 "nbformat_minor": 5
}
