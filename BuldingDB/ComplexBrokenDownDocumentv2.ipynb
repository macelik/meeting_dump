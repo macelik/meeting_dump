{
 "cells": [
  {
   "cell_type": "code",
   "execution_count": 1,
   "id": "b9588c7b",
   "metadata": {},
   "outputs": [
    {
     "name": "stderr",
     "output_type": "stream",
     "text": [
      "── \u001b[1mAttaching packages\u001b[22m ─────────────────────────────────────── tidyverse 1.3.2 ──\n",
      "\u001b[32m✔\u001b[39m \u001b[34mggplot2\u001b[39m 3.4.0      \u001b[32m✔\u001b[39m \u001b[34mpurrr  \u001b[39m 0.3.5 \n",
      "\u001b[32m✔\u001b[39m \u001b[34mtibble \u001b[39m 3.1.8      \u001b[32m✔\u001b[39m \u001b[34mdplyr  \u001b[39m 1.0.10\n",
      "\u001b[32m✔\u001b[39m \u001b[34mtidyr  \u001b[39m 1.2.1      \u001b[32m✔\u001b[39m \u001b[34mstringr\u001b[39m 1.5.0 \n",
      "\u001b[32m✔\u001b[39m \u001b[34mreadr  \u001b[39m 2.1.3      \u001b[32m✔\u001b[39m \u001b[34mforcats\u001b[39m 0.5.2 \n",
      "── \u001b[1mConflicts\u001b[22m ────────────────────────────────────────── tidyverse_conflicts() ──\n",
      "\u001b[31m✖\u001b[39m \u001b[34mdplyr\u001b[39m::\u001b[32mfilter()\u001b[39m masks \u001b[34mstats\u001b[39m::filter()\n",
      "\u001b[31m✖\u001b[39m \u001b[34mdplyr\u001b[39m::\u001b[32mlag()\u001b[39m    masks \u001b[34mstats\u001b[39m::lag()\n",
      "Loading required package: grid\n",
      "\n",
      "Loading required package: futile.logger\n",
      "\n"
     ]
    }
   ],
   "source": [
    "library(OmnipathR)\n",
    "# library(nichenetr)\n",
    "library(tidyverse)\n",
    "library(dplyr)\n",
    "library(VennDiagram)\n",
    "library(ggplot2)\n",
    "library(utils)"
   ]
  },
  {
   "cell_type": "markdown",
   "id": "3a92e329",
   "metadata": {},
   "source": [
    "```import_ligrecextra_interactions```\n",
    "\n",
    "link: to documentation <https://r.omnipathdb.org/reference/import_ligrecextra_interactions.html>\n",
    "\n",
    "This LR dataset contains ligand-receptor interactions without literature reference. The ligand-receptor interactions supported by literature references are part of the `omnipath` dataset.\n",
    "\n",
    "\n",
    "Default params(without filtering resources) has 8350 edges. The table includes columns as follows. \n",
    "\n",
    "'source' 'target' 'source_genesymbol' 'target_genesymbol' 'is_directed' 'is_stimulation' 'is_inhibition' 'consensus_direction' 'consensus_stimulation' 'consensus_inhibition' 'sources' 'references' 'curation_effort' 'n_references' 'n_resources'\n",
    "\n",
    "**The consensus score is if resources supporting the classification of an entity into a category based on combined information of many resources.**\n",
    "\n",
    "<span style=\"color:red\">I do not undertand how it can have sources but no references.</span>\n",
    "\n",
    "| sources                                                         | ref | cur_effort | n_ref | n_source |\n",
    "|-----------------------------------------------------------------|-----|------------|-------|----------|\n",
    "|      Baccin2019;CellCall;PhosphoPoint;Ramilowski2015_Baccin2019 | NA  | 0          | 0     | 3        |\n",
    "| Baccin2019;CellCall;PhosphoPoint;Ramilowski2015_Baccin2019;Wang | NA  | 0          | 0     | 4        |\n",
    "|                                                                 |     |            |       |          |"
   ]
  },
  {
   "cell_type": "code",
   "execution_count": 2,
   "id": "f5706a98",
   "metadata": {},
   "outputs": [],
   "source": [
    "# https://r.omnipathdb.org/reference/curated_ligand_receptor_interactions.html\n",
    "# curated=curated_ligand_receptor_interactions()\n",
    "lr <- import_ligrecextra_interactions()"
   ]
  },
  {
   "cell_type": "code",
   "execution_count": 3,
   "id": "a02edd1c",
   "metadata": {},
   "outputs": [],
   "source": [
    "lr <- lr %>% filter(!duplicated(lr[, c(\"source_genesymbol\", \"target_genesymbol\")]))"
   ]
  },
  {
   "cell_type": "markdown",
   "id": "948f4091",
   "metadata": {},
   "source": [
    "```import_omnipath_intercell``` Imports the OmniPath intercellular **communication role annotation** database. It provides information on the roles in inter-cellular signaling. E.g. if a protein is a ligand, a receptor, an extracellular matrix (ECM) component, etc."
   ]
  },
  {
   "cell_type": "code",
   "execution_count": 4,
   "id": "052e01e2",
   "metadata": {},
   "outputs": [],
   "source": [
    "anno <- import_omnipath_intercell()\n",
    "anno_raw <- import_omnipath_intercell()\n",
    "anno_lig <- anno_raw %>%\n",
    "    dplyr::filter(category %in% c(\"receptor\",\"ligand\"))\n",
    "# Drop rows where the values in the \"parent\", \"database\", and \"uniprot\" columns are duplicated\n",
    "anno_raw <- anno_raw %>% filter(!duplicated(anno_raw[, c(\"parent\", \"database\", \"uniprot\")]))"
   ]
  },
  {
   "cell_type": "markdown",
   "id": "3a6d1b10",
   "metadata": {},
   "source": [
    "# Breaking down complexes"
   ]
  },
  {
   "cell_type": "code",
   "execution_count": 5,
   "id": "d2eb5d75",
   "metadata": {},
   "outputs": [],
   "source": [
    "#filter only those are in complex\n",
    "complex <- filter(lr, grepl('COMPLEX', target) | grepl('COMPLEX',source))\n",
    "complex$source <- sub(\"COMPLEX:\", \"\", complex$source)\n",
    "complex$target <- sub(\"COMPLEX:\", \"\", complex$target)"
   ]
  },
  {
   "cell_type": "code",
   "execution_count": 6,
   "id": "f7414963",
   "metadata": {},
   "outputs": [],
   "source": [
    "#complexes are seperated into individual components\n",
    "components_target <- unique(unlist(strsplit(complex$source_genesymbol,\"_\")))\n",
    "components_source <- unique(unlist(strsplit(complex$target_genesymbol,\"_\")))\n",
    "components_both <- c(components_target,components_source)\n",
    "components_both <- unique(components_both)"
   ]
  },
  {
   "cell_type": "markdown",
   "id": "fc22ced2",
   "metadata": {},
   "source": [
    "Below, we produce all the the possible pairs. \n",
    "\n",
    "Example: lets assume complex G1_G2_G3 is linked to another complex G4_G5_G6\n",
    "\n",
    "| c1 | c2 | complex_origin    |\n",
    "|----|----|-------------------|\n",
    "| G1 | G2 | G1_G2_G3_G4_G5_G6 |\n",
    "| G1 | G3 | G1_G2_G3_G4_G5_G6 |\n",
    "| G1 | G4 | G1_G2_G3_G4_G5_G6 |\n",
    "| G1 | G5 | G1_G2_G3_G4_G5_G6 |\n",
    "| G1 | G6 | G1_G2_G3_G4_G5_G6 |\n",
    "| G2 | G1 | G1_G2_G3_G4_G5_G6 |\n",
    "| G2 | G3 | G1_G2_G3_G4_G5_G6 |\n",
    "| .. | .. | G1_G2_G3_G4_G5_G6 |"
   ]
  },
  {
   "cell_type": "code",
   "execution_count": 7,
   "id": "e040e743",
   "metadata": {},
   "outputs": [
    {
     "name": "stdout",
     "output_type": "stream",
     "text": [
      "'data.frame':\t3272 obs. of  3 variables:\n",
      " $ source      : chr  \"IL17A\" \"IL17A\" \"IL17RA\" \"NPNT\" ...\n",
      " $ target      : chr  \"IL17RA\" \"IL17RC\" \"IL17RC\" \"ITGA8\" ...\n",
      " $ complex_pair: chr  \"IL17A_IL17RA_IL17RC\" \"IL17A_IL17RA_IL17RC\" \"IL17A_IL17RA_IL17RC\" \"NPNT_ITGA8_ITGB1\" ...\n"
     ]
    }
   ],
   "source": [
    "# Produce all the possbile pairwise pairs\n",
    "\n",
    "results <- list()\n",
    "\n",
    "# Loop through each row of the data frame\n",
    "for (i in 1:nrow(complex)) {\n",
    "  # Extract the values from the first column\n",
    "  values1 <- unlist(strsplit(as.character(complex[i, \"source_genesymbol\"]), \"_\"))\n",
    "  # Extract the values from the second column\n",
    "  values2 <- unlist(strsplit(as.character(complex[i, \"target_genesymbol\"]), \"_\"))\n",
    "  # Keep the original pair\n",
    "  original <- paste(complex[i, \"source_genesymbol\"],complex[i, \"target_genesymbol\"],sep=\"_\")\n",
    "  # Generate all the pairwise combinations using combn\n",
    "  pairs <- combn(c(values1, values2), 2)\n",
    "  pairs <- t(pairs)\n",
    "  pairs <- cbind(pairs,original)\n",
    "  # Append the results to the list\n",
    "  results[[i]] <- as.data.frame(pairs)\n",
    "    colnames(results[[i]]) = c(\"source\",\"target\",\"complex_pair\")\n",
    "    row.names(results[[i]]) <- NULL\n",
    "}\n",
    "\n",
    "# Bind the results into a single data frame\n",
    "result_df2 <- as.data.frame(do.call(rbind, results))\n",
    "\n",
    "# Switch the values in the \"col1\" and \"col2\" columns\n",
    "df1 <- cbind(result_df2[,2], result_df2[,1], result_df2[,3])\n",
    "colnames(df1) <- names(result_df2)\n",
    "# Bind the rows into a single data frame\n",
    "result_df <- rbind(result_df2, df1)\n",
    "\n",
    "\n",
    "# Drop the self links\n",
    "result_df <- result_df %>% filter(!duplicated(result_df[, c(\"source\", \"target\")]))\n",
    "\n",
    "# View the resulting data frame\n",
    "str(result_df)"
   ]
  },
  {
   "cell_type": "markdown",
   "id": "58c65842",
   "metadata": {},
   "source": [
    "# Annotation of components\n",
    "\n",
    "The complexes are decomposed into their individual components. The Omnipath Intercell annotation database is imported and used to annotate each component. If at least two databases categorize a component as a ligand or receptor, it is annotated as such. If not, we check other possible categories such as extracellular matrix, secreted, and transmembrane \n",
    "\n"
   ]
  },
  {
   "cell_type": "code",
   "execution_count": 8,
   "id": "99f88a36",
   "metadata": {},
   "outputs": [],
   "source": [
    "#create a df to store annotation\n",
    "df <- data.frame(genesymbol = character(length(components_both)), score = numeric(length(components_both)), parent = character(length(components_both)), stringsAsFactors = FALSE)"
   ]
  },
  {
   "cell_type": "code",
   "execution_count": 9,
   "id": "e22d3d9e",
   "metadata": {},
   "outputs": [
    {
     "data": {
      "text/plain": [
       "\n",
       "  ligand       NA receptor \n",
       "     238       46      198 "
      ]
     },
     "metadata": {},
     "output_type": "display_data"
    }
   ],
   "source": [
    "# Check if the components are categorized as ligands or receptors\n",
    "\n",
    "for (x in 1:length(components_both)) {\n",
    "#     maxvalue=max(filter(anno, uniprot==components[x])$consensus_score)\n",
    "    genename <- components_both[x]\n",
    "    parent_score <- sort(table(filter(anno_lig, genesymbol==components_both[x])$parent), decreasing = T, na.last = T)[1]\n",
    "    parent_category <- names(parent_score)\n",
    "    \n",
    "    if (is.null(parent_category)) {\n",
    "      parent_category <- \"NA\"\n",
    "      parent_score <- 0\n",
    "    }\n",
    "    \n",
    "    df[x, \"genesymbol\"] <- genename\n",
    "    df[x, \"score\"] <- parent_score\n",
    "    df[x, \"parent\"] <- parent_category\n",
    "\n",
    "#     df$genesymbol[x] <- genename\n",
    "#     df$score[x] <- parent_score\n",
    "#     df$parent[x] <- parent_category\n",
    "}\n",
    "\n",
    "table(df$parent)"
   ]
  },
  {
   "cell_type": "code",
   "execution_count": 10,
   "id": "0b4792de",
   "metadata": {},
   "outputs": [
    {
     "data": {
      "text/plain": [
       "\n",
       "          ecm        ligand      receptor      secreted transmembrane \n",
       "           29           238           198             8             9 "
      ]
     },
     "metadata": {},
     "output_type": "display_data"
    }
   ],
   "source": [
    "# If a component is not classified as a ligand or receptor, we may consider other categories such as \n",
    "# extracellular matrix, secreted, and transmembrane.# annotated others such as secreted, ecm etc\n",
    "\n",
    "df_na <- filter(df, parent==\"NA\")$genesymbol\n",
    "\n",
    "for (x in 1:length(df_na)) {\n",
    "#     maxvalue=max(filter(anno, uniprot==components[x])$consensus_score)\n",
    "    genesymbol <- df_na[x]\n",
    "    parent_score <- sort(table(filter(anno_raw, genesymbol==df_na[x])$parent), decreasing = T, na.last = T)[1]\n",
    "    parent_category <- names(parent_score)\n",
    "\n",
    "    df <- df %>% mutate(parent = ifelse(genesymbol == df_na[x], parent_category, parent))\n",
    "    df <- df %>% mutate(score = ifelse(genesymbol == df_na[x], parent_score, score))\n",
    "\n",
    "}\n",
    "\n",
    "table(df$parent)"
   ]
  },
  {
   "cell_type": "code",
   "execution_count": 11,
   "id": "ea3e4dc4",
   "metadata": {},
   "outputs": [],
   "source": [
    "# categorize ecm/secreted as ligand\n",
    "df$parent <- replace(df$parent, df$parent == \"ecm\", \"ligand\")\n",
    "df$parent <- replace(df$parent, df$parent == \"secreted\", \"ligand\")"
   ]
  },
  {
   "cell_type": "markdown",
   "id": "3ad1950d",
   "metadata": {},
   "source": [
    "# Linking 1"
   ]
  },
  {
   "cell_type": "markdown",
   "id": "db9969a1",
   "metadata": {},
   "source": [
    "We are using the Omnipath intercellular interaction network, which is the largest available network of its kind, to detect interactions rather than make predictions. The creators of the network have noted that it may contain a large number of false positives. Despite this, we are using it in combination with an annotations database to detect interactions. The network has a size of 98,165 edges."
   ]
  },
  {
   "cell_type": "code",
   "execution_count": 12,
   "id": "0e47e587",
   "metadata": {},
   "outputs": [],
   "source": [
    "# Import an intercellular interaction network\n",
    "ic <- import_intercell_network()"
   ]
  },
  {
   "cell_type": "code",
   "execution_count": 13,
   "id": "64f7f2a7",
   "metadata": {},
   "outputs": [],
   "source": [
    "# Import All post-translational interactions\n",
    "pt <- import_post_translational_interactions()"
   ]
  },
  {
   "cell_type": "code",
   "execution_count": 14,
   "id": "6d94e1a8",
   "metadata": {},
   "outputs": [],
   "source": [
    "# \"Separate the annotated components of complexes based on their type.\"\n",
    "ligands <- filter(df, parent==\"ligand\")\n",
    "receptors <- filter(df, parent==\"receptor\")"
   ]
  },
  {
   "cell_type": "code",
   "execution_count": 15,
   "id": "a69e5f28",
   "metadata": {},
   "outputs": [],
   "source": [
    "# Filter the IC network to include only the components of the complexes\n",
    "ic <- ic %>%\n",
    "    filter(source_genesymbol %in% ligands$genesymbol) %>%\n",
    "    filter(target_genesymbol %in% receptors$genesymbol) %>%\n",
    "    distinct()"
   ]
  },
  {
   "cell_type": "code",
   "execution_count": 16,
   "id": "6805b6e8",
   "metadata": {},
   "outputs": [],
   "source": [
    "# remove duplicated\n",
    "ic <- ic %>% filter(!duplicated(ic[, c(\"source_genesymbol\", \"target_genesymbol\")]))"
   ]
  },
  {
   "cell_type": "code",
   "execution_count": 17,
   "id": "cca20c21",
   "metadata": {},
   "outputs": [],
   "source": [
    "# create the edges\n",
    "ic$pair <- paste(ic$source_genesymbol, ic$target_genesymbol,sep=\"_\")\n",
    "result_df$pair=paste(result_df$source, result_df$target,sep=\"_\")"
   ]
  },
  {
   "cell_type": "code",
   "execution_count": 18,
   "id": "488db23e",
   "metadata": {},
   "outputs": [],
   "source": [
    "# repeat the above process for the PT database\n",
    "pt <- pt %>%\n",
    "    dplyr::filter(source_genesymbol %in% ligands$genesymbol) %>%\n",
    "    dplyr::filter(target_genesymbol %in% receptors$genesymbol) %>%\n",
    "    dplyr::distinct()"
   ]
  },
  {
   "cell_type": "code",
   "execution_count": 19,
   "id": "bd0ba1be",
   "metadata": {},
   "outputs": [],
   "source": [
    "pt <- pt %>% filter(!duplicated(pt[, c(\"source_genesymbol\", \"target_genesymbol\")]))"
   ]
  },
  {
   "cell_type": "code",
   "execution_count": 20,
   "id": "dbd94596",
   "metadata": {},
   "outputs": [],
   "source": [
    "pt$pair=paste(pt$source_genesymbol, pt$target_genesymbol,sep=\"_\")"
   ]
  },
  {
   "cell_type": "code",
   "execution_count": 21,
   "id": "abe832a2",
   "metadata": {},
   "outputs": [
    {
     "name": "stdout",
     "output_type": "stream",
     "text": [
      "'data.frame':\t978 obs. of  4 variables:\n",
      " $ source      : chr  \"IL17A\" \"IL17A\" \"NPNT\" \"NPNT\" ...\n",
      " $ target      : chr  \"IL17RA\" \"IL17RC\" \"ITGA8\" \"ITGB1\" ...\n",
      " $ complex_pair: chr  \"IL17A_IL17RA_IL17RC\" \"IL17A_IL17RA_IL17RC\" \"NPNT_ITGA8_ITGB1\" \"NPNT_ITGA8_ITGB1\" ...\n",
      " $ pair        : chr  \"IL17A_IL17RA\" \"IL17A_IL17RC\" \"NPNT_ITGA8\" \"NPNT_ITGB1\" ...\n"
     ]
    }
   ],
   "source": [
    "# The data frame result_df consists of all the pairwise edges, \n",
    "# and we are checking if those edges exist in the IC network\n",
    "complex_edges_in_ic <- result_df %>%\n",
    "    filter(pair %in% ic$pair)\n",
    "\n",
    "str(complex_edges_in_ic)"
   ]
  },
  {
   "cell_type": "code",
   "execution_count": 22,
   "id": "a7148cf4",
   "metadata": {},
   "outputs": [
    {
     "data": {
      "text/html": [
       "<table class=\"dataframe\">\n",
       "<caption>A data.frame: 6 × 4</caption>\n",
       "<thead>\n",
       "\t<tr><th scope=col>source</th><th scope=col>target</th><th scope=col>complex_pair</th><th scope=col>pair</th></tr>\n",
       "\t<tr><th scope=col>&lt;chr&gt;</th><th scope=col>&lt;chr&gt;</th><th scope=col>&lt;chr&gt;</th><th scope=col>&lt;chr&gt;</th></tr>\n",
       "</thead>\n",
       "<tbody>\n",
       "\t<tr><td>IL17A </td><td>IL17RA</td><td>IL17A_IL17RA_IL17RC</td><td>IL17A_IL17RA </td></tr>\n",
       "\t<tr><td>IL17A </td><td>IL17RC</td><td>IL17A_IL17RA_IL17RC</td><td>IL17A_IL17RC </td></tr>\n",
       "\t<tr><td>IL17RA</td><td>IL17RC</td><td>IL17A_IL17RA_IL17RC</td><td>IL17RA_IL17RC</td></tr>\n",
       "\t<tr><td>IL17RA</td><td>IL17A </td><td>IL17A_IL17RA_IL17RC</td><td>IL17RA_IL17A </td></tr>\n",
       "\t<tr><td>IL17RC</td><td>IL17A </td><td>IL17A_IL17RA_IL17RC</td><td>IL17RC_IL17A </td></tr>\n",
       "\t<tr><td>IL17RC</td><td>IL17RA</td><td>IL17A_IL17RA_IL17RC</td><td>IL17RC_IL17RA</td></tr>\n",
       "</tbody>\n",
       "</table>\n"
      ],
      "text/latex": [
       "A data.frame: 6 × 4\n",
       "\\begin{tabular}{llll}\n",
       " source & target & complex\\_pair & pair\\\\\n",
       " <chr> & <chr> & <chr> & <chr>\\\\\n",
       "\\hline\n",
       "\t IL17A  & IL17RA & IL17A\\_IL17RA\\_IL17RC & IL17A\\_IL17RA \\\\\n",
       "\t IL17A  & IL17RC & IL17A\\_IL17RA\\_IL17RC & IL17A\\_IL17RC \\\\\n",
       "\t IL17RA & IL17RC & IL17A\\_IL17RA\\_IL17RC & IL17RA\\_IL17RC\\\\\n",
       "\t IL17RA & IL17A  & IL17A\\_IL17RA\\_IL17RC & IL17RA\\_IL17A \\\\\n",
       "\t IL17RC & IL17A  & IL17A\\_IL17RA\\_IL17RC & IL17RC\\_IL17A \\\\\n",
       "\t IL17RC & IL17RA & IL17A\\_IL17RA\\_IL17RC & IL17RC\\_IL17RA\\\\\n",
       "\\end{tabular}\n"
      ],
      "text/markdown": [
       "\n",
       "A data.frame: 6 × 4\n",
       "\n",
       "| source &lt;chr&gt; | target &lt;chr&gt; | complex_pair &lt;chr&gt; | pair &lt;chr&gt; |\n",
       "|---|---|---|---|\n",
       "| IL17A  | IL17RA | IL17A_IL17RA_IL17RC | IL17A_IL17RA  |\n",
       "| IL17A  | IL17RC | IL17A_IL17RA_IL17RC | IL17A_IL17RC  |\n",
       "| IL17RA | IL17RC | IL17A_IL17RA_IL17RC | IL17RA_IL17RC |\n",
       "| IL17RA | IL17A  | IL17A_IL17RA_IL17RC | IL17RA_IL17A  |\n",
       "| IL17RC | IL17A  | IL17A_IL17RA_IL17RC | IL17RC_IL17A  |\n",
       "| IL17RC | IL17RA | IL17A_IL17RA_IL17RC | IL17RC_IL17RA |\n",
       "\n"
      ],
      "text/plain": [
       "  source target complex_pair        pair         \n",
       "1 IL17A  IL17RA IL17A_IL17RA_IL17RC IL17A_IL17RA \n",
       "2 IL17A  IL17RC IL17A_IL17RA_IL17RC IL17A_IL17RC \n",
       "3 IL17RA IL17RC IL17A_IL17RA_IL17RC IL17RA_IL17RC\n",
       "4 IL17RA IL17A  IL17A_IL17RA_IL17RC IL17RA_IL17A \n",
       "5 IL17RC IL17A  IL17A_IL17RA_IL17RC IL17RC_IL17A \n",
       "6 IL17RC IL17RA IL17A_IL17RA_IL17RC IL17RC_IL17RA"
      ]
     },
     "metadata": {},
     "output_type": "display_data"
    }
   ],
   "source": [
    "filter(result_df, complex_pair==\"IL17A_IL17RA_IL17RC\")"
   ]
  },
  {
   "cell_type": "code",
   "execution_count": 23,
   "id": "e5a34849",
   "metadata": {},
   "outputs": [
    {
     "data": {
      "text/html": [
       "<table class=\"dataframe\">\n",
       "<caption>A data.frame: 2 × 4</caption>\n",
       "<thead>\n",
       "\t<tr><th scope=col>source</th><th scope=col>target</th><th scope=col>complex_pair</th><th scope=col>pair</th></tr>\n",
       "\t<tr><th scope=col>&lt;chr&gt;</th><th scope=col>&lt;chr&gt;</th><th scope=col>&lt;chr&gt;</th><th scope=col>&lt;chr&gt;</th></tr>\n",
       "</thead>\n",
       "<tbody>\n",
       "\t<tr><td>IL17A</td><td>IL17RA</td><td>IL17A_IL17RA_IL17RC</td><td>IL17A_IL17RA</td></tr>\n",
       "\t<tr><td>IL17A</td><td>IL17RC</td><td>IL17A_IL17RA_IL17RC</td><td>IL17A_IL17RC</td></tr>\n",
       "</tbody>\n",
       "</table>\n"
      ],
      "text/latex": [
       "A data.frame: 2 × 4\n",
       "\\begin{tabular}{llll}\n",
       " source & target & complex\\_pair & pair\\\\\n",
       " <chr> & <chr> & <chr> & <chr>\\\\\n",
       "\\hline\n",
       "\t IL17A & IL17RA & IL17A\\_IL17RA\\_IL17RC & IL17A\\_IL17RA\\\\\n",
       "\t IL17A & IL17RC & IL17A\\_IL17RA\\_IL17RC & IL17A\\_IL17RC\\\\\n",
       "\\end{tabular}\n"
      ],
      "text/markdown": [
       "\n",
       "A data.frame: 2 × 4\n",
       "\n",
       "| source &lt;chr&gt; | target &lt;chr&gt; | complex_pair &lt;chr&gt; | pair &lt;chr&gt; |\n",
       "|---|---|---|---|\n",
       "| IL17A | IL17RA | IL17A_IL17RA_IL17RC | IL17A_IL17RA |\n",
       "| IL17A | IL17RC | IL17A_IL17RA_IL17RC | IL17A_IL17RC |\n",
       "\n"
      ],
      "text/plain": [
       "  source target complex_pair        pair        \n",
       "1 IL17A  IL17RA IL17A_IL17RA_IL17RC IL17A_IL17RA\n",
       "2 IL17A  IL17RC IL17A_IL17RA_IL17RC IL17A_IL17RC"
      ]
     },
     "metadata": {},
     "output_type": "display_data"
    }
   ],
   "source": [
    "filter(complex_edges_in_ic, complex_pair==\"IL17A_IL17RA_IL17RC\")"
   ]
  },
  {
   "cell_type": "code",
   "execution_count": 24,
   "id": "acfa8aaa",
   "metadata": {},
   "outputs": [
    {
     "name": "stdout",
     "output_type": "stream",
     "text": [
      "'data.frame':\t983 obs. of  4 variables:\n",
      " $ source      : chr  \"IL17A\" \"IL17A\" \"NPNT\" \"NPNT\" ...\n",
      " $ target      : chr  \"IL17RA\" \"IL17RC\" \"ITGA8\" \"ITGB1\" ...\n",
      " $ complex_pair: chr  \"IL17A_IL17RA_IL17RC\" \"IL17A_IL17RA_IL17RC\" \"NPNT_ITGA8_ITGB1\" \"NPNT_ITGA8_ITGB1\" ...\n",
      " $ pair        : chr  \"IL17A_IL17RA\" \"IL17A_IL17RC\" \"NPNT_ITGA8\" \"NPNT_ITGB1\" ...\n"
     ]
    }
   ],
   "source": [
    "# repeat the previous process for PT\n",
    "pt_edges <- result_df %>%\n",
    "    filter(pair %in% pt$pair)\n",
    "\n",
    "str(pt_edges)"
   ]
  },
  {
   "cell_type": "markdown",
   "id": "e08d3f57",
   "metadata": {},
   "source": [
    "# Method 2"
   ]
  },
  {
   "cell_type": "code",
   "execution_count": 25,
   "id": "011c8509",
   "metadata": {},
   "outputs": [
    {
     "name": "stdout",
     "output_type": "stream",
     "text": [
      "'data.frame':\t1237 obs. of  4 variables:\n",
      " $ source      : chr  \"IL17A\" \"IL17A\" \"NPNT\" \"NPNT\" ...\n",
      " $ target      : chr  \"IL17RA\" \"IL17RC\" \"ITGA8\" \"ITGB1\" ...\n",
      " $ complex_pair: chr  \"IL17A_IL17RA_IL17RC\" \"IL17A_IL17RA_IL17RC\" \"NPNT_ITGA8_ITGB1\" \"NPNT_ITGA8_ITGB1\" ...\n",
      " $ pair        : chr  \"IL17A_IL17RA\" \"IL17A_IL17RC\" \"NPNT_ITGA8\" \"NPNT_ITGB1\" ...\n"
     ]
    }
   ],
   "source": [
    "# Manual detection of edges through annotation\n",
    "complex_edges_custom_detect <-result_df %>%\n",
    "    filter(source %in% ligands$genesymbol) %>%\n",
    "    filter(target %in% receptors$genesymbol) %>%\n",
    "    distinct()\n",
    "\n",
    "str(complex_edges_custom_detect)"
   ]
  },
  {
   "cell_type": "code",
   "execution_count": 26,
   "id": "45accc95",
   "metadata": {},
   "outputs": [
    {
     "data": {
      "text/html": [
       "<table class=\"dataframe\">\n",
       "<caption>A data.frame: 2 × 4</caption>\n",
       "<thead>\n",
       "\t<tr><th scope=col>source</th><th scope=col>target</th><th scope=col>complex_pair</th><th scope=col>pair</th></tr>\n",
       "\t<tr><th scope=col>&lt;chr&gt;</th><th scope=col>&lt;chr&gt;</th><th scope=col>&lt;chr&gt;</th><th scope=col>&lt;chr&gt;</th></tr>\n",
       "</thead>\n",
       "<tbody>\n",
       "\t<tr><td>IL17A</td><td>IL17RA</td><td>IL17A_IL17RA_IL17RC</td><td>IL17A_IL17RA</td></tr>\n",
       "\t<tr><td>IL17A</td><td>IL17RC</td><td>IL17A_IL17RA_IL17RC</td><td>IL17A_IL17RC</td></tr>\n",
       "</tbody>\n",
       "</table>\n"
      ],
      "text/latex": [
       "A data.frame: 2 × 4\n",
       "\\begin{tabular}{llll}\n",
       " source & target & complex\\_pair & pair\\\\\n",
       " <chr> & <chr> & <chr> & <chr>\\\\\n",
       "\\hline\n",
       "\t IL17A & IL17RA & IL17A\\_IL17RA\\_IL17RC & IL17A\\_IL17RA\\\\\n",
       "\t IL17A & IL17RC & IL17A\\_IL17RA\\_IL17RC & IL17A\\_IL17RC\\\\\n",
       "\\end{tabular}\n"
      ],
      "text/markdown": [
       "\n",
       "A data.frame: 2 × 4\n",
       "\n",
       "| source &lt;chr&gt; | target &lt;chr&gt; | complex_pair &lt;chr&gt; | pair &lt;chr&gt; |\n",
       "|---|---|---|---|\n",
       "| IL17A | IL17RA | IL17A_IL17RA_IL17RC | IL17A_IL17RA |\n",
       "| IL17A | IL17RC | IL17A_IL17RA_IL17RC | IL17A_IL17RC |\n",
       "\n"
      ],
      "text/plain": [
       "  source target complex_pair        pair        \n",
       "1 IL17A  IL17RA IL17A_IL17RA_IL17RC IL17A_IL17RA\n",
       "2 IL17A  IL17RC IL17A_IL17RA_IL17RC IL17A_IL17RC"
      ]
     },
     "metadata": {},
     "output_type": "display_data"
    }
   ],
   "source": [
    "filter(complex_edges_custom_detect, complex_pair==\"IL17A_IL17RA_IL17RC\")"
   ]
  },
  {
   "cell_type": "code",
   "execution_count": 27,
   "id": "2048e9a5",
   "metadata": {},
   "outputs": [
    {
     "name": "stdout",
     "output_type": "stream",
     "text": [
      "Number of edges that are detected through intercellula network of Omnipath 978\n",
      "\n",
      "Number of edges that are detected through annotations 1237\n",
      "\n",
      "Number of edges that are detected through post-translational interactions from OmniPath 983"
     ]
    }
   ],
   "source": [
    "cat(\"Number of edges that are detected through intercellula network of Omnipath\", nrow(complex_edges_in_ic))\n",
    "cat(\"\\n\\nNumber of edges that are detected through annotations\", nrow(complex_edges_custom_detect))\n",
    "cat(\"\\n\\nNumber of edges that are detected through post-translational interactions from OmniPath\", nrow(pt_edges))"
   ]
  },
  {
   "cell_type": "code",
   "execution_count": 28,
   "id": "9158c2d9",
   "metadata": {},
   "outputs": [
    {
     "data": {
      "image/png": "[encoded data removed]",
      "text/plain": [
       "plot without title"
      ]
     },
     "metadata": {
      "image/png": {
       "height": 420,
       "width": 420
      }
     },
     "output_type": "display_data"
    }
   ],
   "source": [
    "# Lets plot the edges\n",
    "Venn_plot <- draw.triple.venn(length(complex_edges_in_ic$pair), \n",
    "    length(complex_edges_custom_detect$pair), \n",
    "    length(pt_edges$pair), \n",
    "    n12 = length(intersect(complex_edges_in_ic$pair,\n",
    "        complex_edges_custom_detect$pair)), \n",
    "    n23 = length(intersect(complex_edges_custom_detect$pair, \n",
    "        pt_edges$pair)),\n",
    "    n13 = length(intersect(complex_edges_in_ic$pair, \n",
    "        pt_edges$pair)), \n",
    "    n123 = length(intersect(dplyr::intersect(complex_edges_in_ic$pair, \n",
    "        complex_edges_custom_detect$pair), \n",
    "        pt_edges$pair)),\n",
    "    category = c(\"Edges through IC\", \"Edges through Anno\",\n",
    "        \"Edges through PT\"), \n",
    "    lty = rep(\"blank\", 3), fill = c(\"light blue\", \"red\",\"purple\"), \n",
    "    alpha = rep(0.50), euler.d = TRUE, scaled=TRUE)\n",
    "grid.draw(Venn_plot)"
   ]
  },
  {
   "cell_type": "markdown",
   "id": "58aedb56",
   "metadata": {},
   "source": [
    "There is a large overlap between the edges detected through. As a result, the triple Euler diagram may not be very useful for visualizing the data. Instead, we will focus on plotting the first set of edges between IC and PT and then after that manual detected one."
   ]
  },
  {
   "cell_type": "code",
   "execution_count": 29,
   "id": "5e20ad01",
   "metadata": {},
   "outputs": [
    {
     "data": {
      "image/png": "[encoded data removed]",
      "text/plain": [
       "plot without title"
      ]
     },
     "metadata": {
      "image/png": {
       "height": 420,
       "width": 420
      }
     },
     "output_type": "display_data"
    }
   ],
   "source": [
    "Venn_plot <- draw.pairwise.venn(length(complex_edges_in_ic$pair), \n",
    "    length(pt_edges$pair), \n",
    "    length(intersect(complex_edges_in_ic$pair,\n",
    "    pt_edges$pair)), \n",
    "    category = c(\"Big Network of IC vs\", \"\\n\\n               PT\"), \n",
    "    lty = rep(\"blank\", 2), fill = c(\"light blue\", \"red\"), alpha = rep(0.4, 2), \n",
    "    cat.pos = c(0, 0), cat.dist = rep(0.025, 2), cex= 1.5, cat.cex=1.5, \n",
    "    verbose = FALSE)\n",
    "grid.draw(Venn_plot)"
   ]
  },
  {
   "cell_type": "markdown",
   "id": "e6e3dca3",
   "metadata": {},
   "source": [
    "Since all the edges in the IC network overlap with the edges detected through the PT and manual methods, \n",
    "\n",
    "we will drop the IC network and instead focus on plotting the edges detected through the PT and manual methods."
   ]
  },
  {
   "cell_type": "code",
   "execution_count": 30,
   "id": "7a086dc9",
   "metadata": {},
   "outputs": [
    {
     "data": {
      "image/png": "[encoded data removed]",
      "text/plain": [
       "plot without title"
      ]
     },
     "metadata": {
      "image/png": {
       "height": 420,
       "width": 420
      }
     },
     "output_type": "display_data"
    }
   ],
   "source": [
    "Venn_plot <- draw.pairwise.venn(length(complex_edges_custom_detect$pair), \n",
    "    length(pt_edges$pair), \n",
    "    length(intersect(complex_edges_custom_detect$pair,\n",
    "    pt_edges$pair)), \n",
    "    category = c(\"PT\", \"Custom: through annotation\"), \n",
    "    lty = rep(\"blank\", 2), fill = c(\"light blue\", \"red\"), alpha = rep(0.4, 2), \n",
    "    cat.pos = c(0, 0), cat.dist = rep(0.025, 2), cex= 1.5, cat.cex=1.5, \n",
    "    verbose = FALSE)\n",
    "grid.draw(Venn_plot)"
   ]
  },
  {
   "cell_type": "markdown",
   "id": "1fe0d6f2",
   "metadata": {},
   "source": [
    "# Complexes are broken down, now we can combine with the rest of the db"
   ]
  },
  {
   "cell_type": "code",
   "execution_count": 31,
   "id": "c7a6e5be",
   "metadata": {},
   "outputs": [],
   "source": [
    "single_components = filter(lr, !grepl('COMPLEX', target) & !grepl('COMPLEX',source))"
   ]
  },
  {
   "cell_type": "code",
   "execution_count": 32,
   "id": "c7a925be",
   "metadata": {},
   "outputs": [],
   "source": [
    "single_components <- single_components %>%\n",
    "  select(source_genesymbol, target_genesymbol) %>%\n",
    "  rename(source=source_genesymbol, target=target_genesymbol) %>%\n",
    "  mutate(complex_pair = NA)"
   ]
  },
  {
   "cell_type": "code",
   "execution_count": 33,
   "id": "1ec958f0",
   "metadata": {},
   "outputs": [],
   "source": [
    "single_components$pair <- paste(single_components$source, single_components$target, sep=\"_\")"
   ]
  },
  {
   "cell_type": "code",
   "execution_count": 34,
   "id": "e7b88cae",
   "metadata": {},
   "outputs": [],
   "source": [
    "#merge the single ones, with complexes componenets that are detected via PT_DB\n",
    "complete <- rbind(single_components, pt_edges)"
   ]
  },
  {
   "cell_type": "code",
   "execution_count": 35,
   "id": "d6797141",
   "metadata": {},
   "outputs": [],
   "source": [
    "#remove the duplicated ones, and drop the last ones, which are coming from the complexes\n",
    "complete <- complete[ !duplicated(complete[, \"pair\"], fromLast=F),]"
   ]
  },
  {
   "cell_type": "markdown",
   "id": "bed02943",
   "metadata": {},
   "source": [
    "# Protein Descriptions"
   ]
  },
  {
   "cell_type": "code",
   "execution_count": 36,
   "id": "25668ed6",
   "metadata": {},
   "outputs": [
    {
     "name": "stderr",
     "output_type": "stream",
     "text": [
      "Loading required package: GenomicFeatures\n",
      "\n",
      "Loading required package: BiocGenerics\n",
      "\n",
      "\n",
      "Attaching package: ‘BiocGenerics’\n",
      "\n",
      "\n",
      "The following objects are masked from ‘package:dplyr’:\n",
      "\n",
      "    combine, intersect, setdiff, union\n",
      "\n",
      "\n",
      "The following objects are masked from ‘package:stats’:\n",
      "\n",
      "    IQR, mad, sd, var, xtabs\n",
      "\n",
      "\n",
      "The following objects are masked from ‘package:base’:\n",
      "\n",
      "    anyDuplicated, append, as.data.frame, basename, cbind, colnames,\n",
      "    dirname, do.call, duplicated, eval, evalq, Filter, Find, get, grep,\n",
      "    grepl, intersect, is.unsorted, lapply, Map, mapply, match, mget,\n",
      "    order, paste, pmax, pmax.int, pmin, pmin.int, Position, rank,\n",
      "    rbind, Reduce, rownames, sapply, setdiff, sort, table, tapply,\n",
      "    union, unique, unsplit, which.max, which.min\n",
      "\n",
      "\n",
      "Loading required package: S4Vectors\n",
      "\n",
      "Loading required package: stats4\n",
      "\n",
      "\n",
      "Attaching package: ‘S4Vectors’\n",
      "\n",
      "\n",
      "The following objects are masked from ‘package:dplyr’:\n",
      "\n",
      "    first, rename\n",
      "\n",
      "\n",
      "The following object is masked from ‘package:tidyr’:\n",
      "\n",
      "    expand\n",
      "\n",
      "\n",
      "The following objects are masked from ‘package:base’:\n",
      "\n",
      "    expand.grid, I, unname\n",
      "\n",
      "\n",
      "Loading required package: IRanges\n",
      "\n",
      "\n",
      "Attaching package: ‘IRanges’\n",
      "\n",
      "\n",
      "The following objects are masked from ‘package:dplyr’:\n",
      "\n",
      "    collapse, desc, slice\n",
      "\n",
      "\n",
      "The following object is masked from ‘package:purrr’:\n",
      "\n",
      "    reduce\n",
      "\n",
      "\n",
      "Loading required package: GenomeInfoDb\n",
      "\n",
      "Loading required package: GenomicRanges\n",
      "\n",
      "Loading required package: AnnotationDbi\n",
      "\n",
      "Loading required package: Biobase\n",
      "\n",
      "Welcome to Bioconductor\n",
      "\n",
      "    Vignettes contain introductory material; view with\n",
      "    'browseVignettes()'. To cite Bioconductor, see\n",
      "    'citation(\"Biobase\")', and for packages 'citation(\"pkgname\")'.\n",
      "\n",
      "\n",
      "\n",
      "Attaching package: ‘AnnotationDbi’\n",
      "\n",
      "\n",
      "The following object is masked from ‘package:dplyr’:\n",
      "\n",
      "    select\n",
      "\n",
      "\n"
     ]
    }
   ],
   "source": [
    "library(mygene)"
   ]
  },
  {
   "cell_type": "code",
   "execution_count": 37,
   "id": "e78f75f6",
   "metadata": {},
   "outputs": [],
   "source": [
    "# get gene symbols\n",
    "gene_symbols <- unique(c(complete$source,complete$target))"
   ]
  },
  {
   "cell_type": "code",
   "execution_count": 38,
   "id": "0e9a23f6",
   "metadata": {},
   "outputs": [
    {
     "name": "stderr",
     "output_type": "stream",
     "text": [
      "Querying chunk 1\n",
      "\n",
      "Querying chunk 2\n",
      "\n",
      "Querying chunk 3\n",
      "\n"
     ]
    },
    {
     "name": "stdout",
     "output_type": "stream",
     "text": [
      "Finished\n",
      "Pass returnall=TRUE to return lists of duplicate or missing query terms.\n"
     ]
    }
   ],
   "source": [
    "prot_descriptions <- queryMany(gene_symbols, scopes = \"symbol\", \n",
    "                              fields = c(\"name\"), \n",
    "                              species = \"human\", as_dataframe = \"True\")"
   ]
  },
  {
   "cell_type": "code",
   "execution_count": 39,
   "id": "d2246b2f",
   "metadata": {},
   "outputs": [],
   "source": [
    "prot_descriptions <- as.data.frame(prot_descriptions)"
   ]
  },
  {
   "cell_type": "code",
   "execution_count": 40,
   "id": "f3a33420",
   "metadata": {},
   "outputs": [],
   "source": [
    "#map protein descriptions to complete set\n",
    "\n",
    "for (x in 1:nrow(complete)) {\n",
    "    ligand_symbol=complete[x,]$source\n",
    "    receptor_symbol=complete[x,]$target\n",
    "    ligand_description=filter(prot_descriptions, query==ligand_symbol)$name\n",
    "    receptor_description=filter(prot_descriptions, query==receptor_symbol)$name\n",
    "    \n",
    "#     if (is.null(ligand_description)) {\n",
    "#       ligand_description <- \"NA\"\n",
    "#     }\n",
    "    \n",
    "#     if (is.null(receptor_description)) {\n",
    "#       receptor_description <- \"NA\"\n",
    "#     }\n",
    "    \n",
    "\n",
    "    complete[x, \"ligand.name\"] = ligand_description[1]\n",
    "    complete[x, \"receptor.name\"] = receptor_description[1]\n",
    "}"
   ]
  },
  {
   "cell_type": "code",
   "execution_count": 41,
   "id": "a158e354",
   "metadata": {},
   "outputs": [],
   "source": [
    "#reorder columns\n",
    "complete <- complete[, c(\"pair\", \"source\", \"ligand.name\", \"target\", \"receptor.name\", \"complex_pair\")]\n",
    "#rename column names\n",
    "names(complete) <- c(\"Pair.Name\", \"Ligand\", \"Ligand.Name\", \"Receptor\", \"Receptor.Name\", \"complex_pair\")"
   ]
  },
  {
   "cell_type": "code",
   "execution_count": 42,
   "id": "85a1e949",
   "metadata": {},
   "outputs": [
    {
     "data": {
      "text/html": [
       "<table class=\"dataframe\">\n",
       "<caption>A tibble: 6 × 6</caption>\n",
       "<thead>\n",
       "\t<tr><th scope=col>Pair.Name</th><th scope=col>Ligand</th><th scope=col>Ligand.Name</th><th scope=col>Receptor</th><th scope=col>Receptor.Name</th><th scope=col>complex_pair</th></tr>\n",
       "\t<tr><th scope=col>&lt;chr&gt;</th><th scope=col>&lt;chr&gt;</th><th scope=col>&lt;chr&gt;</th><th scope=col>&lt;chr&gt;</th><th scope=col>&lt;chr&gt;</th><th scope=col>&lt;chr&gt;</th></tr>\n",
       "</thead>\n",
       "<tbody>\n",
       "\t<tr><td>CALM1_TRPC3  </td><td>CALM1  </td><td>calmodulin 1                       </td><td>TRPC3 </td><td>transient receptor potential cation channel subfamily C member 3</td><td>NA</td></tr>\n",
       "\t<tr><td>S100A10_TRPV6</td><td>S100A10</td><td>S100 calcium binding protein A10   </td><td>TRPV6 </td><td>transient receptor potential cation channel subfamily V member 6</td><td>NA</td></tr>\n",
       "\t<tr><td>JAK2_EPOR    </td><td>JAK2   </td><td>Janus kinase 2                     </td><td>EPOR  </td><td>erythropoietin receptor                                         </td><td>NA</td></tr>\n",
       "\t<tr><td>NOTCH1_JAG2  </td><td>NOTCH1 </td><td>notch receptor 1                   </td><td>JAG2  </td><td>jagged canonical Notch ligand 2                                 </td><td>NA</td></tr>\n",
       "\t<tr><td>JAG2_NOTCH1  </td><td>JAG2   </td><td>jagged canonical Notch ligand 2    </td><td>NOTCH1</td><td>notch receptor 1                                                </td><td>NA</td></tr>\n",
       "\t<tr><td>DLL1_NOTCH1  </td><td>DLL1   </td><td>delta like canonical Notch ligand 1</td><td>NOTCH1</td><td>notch receptor 1                                                </td><td>NA</td></tr>\n",
       "</tbody>\n",
       "</table>\n"
      ],
      "text/latex": [
       "A tibble: 6 × 6\n",
       "\\begin{tabular}{llllll}\n",
       " Pair.Name & Ligand & Ligand.Name & Receptor & Receptor.Name & complex\\_pair\\\\\n",
       " <chr> & <chr> & <chr> & <chr> & <chr> & <chr>\\\\\n",
       "\\hline\n",
       "\t CALM1\\_TRPC3   & CALM1   & calmodulin 1                        & TRPC3  & transient receptor potential cation channel subfamily C member 3 & NA\\\\\n",
       "\t S100A10\\_TRPV6 & S100A10 & S100 calcium binding protein A10    & TRPV6  & transient receptor potential cation channel subfamily V member 6 & NA\\\\\n",
       "\t JAK2\\_EPOR     & JAK2    & Janus kinase 2                      & EPOR   & erythropoietin receptor                                          & NA\\\\\n",
       "\t NOTCH1\\_JAG2   & NOTCH1  & notch receptor 1                    & JAG2   & jagged canonical Notch ligand 2                                  & NA\\\\\n",
       "\t JAG2\\_NOTCH1   & JAG2    & jagged canonical Notch ligand 2     & NOTCH1 & notch receptor 1                                                 & NA\\\\\n",
       "\t DLL1\\_NOTCH1   & DLL1    & delta like canonical Notch ligand 1 & NOTCH1 & notch receptor 1                                                 & NA\\\\\n",
       "\\end{tabular}\n"
      ],
      "text/markdown": [
       "\n",
       "A tibble: 6 × 6\n",
       "\n",
       "| Pair.Name &lt;chr&gt; | Ligand &lt;chr&gt; | Ligand.Name &lt;chr&gt; | Receptor &lt;chr&gt; | Receptor.Name &lt;chr&gt; | complex_pair &lt;chr&gt; |\n",
       "|---|---|---|---|---|---|\n",
       "| CALM1_TRPC3   | CALM1   | calmodulin 1                        | TRPC3  | transient receptor potential cation channel subfamily C member 3 | NA |\n",
       "| S100A10_TRPV6 | S100A10 | S100 calcium binding protein A10    | TRPV6  | transient receptor potential cation channel subfamily V member 6 | NA |\n",
       "| JAK2_EPOR     | JAK2    | Janus kinase 2                      | EPOR   | erythropoietin receptor                                          | NA |\n",
       "| NOTCH1_JAG2   | NOTCH1  | notch receptor 1                    | JAG2   | jagged canonical Notch ligand 2                                  | NA |\n",
       "| JAG2_NOTCH1   | JAG2    | jagged canonical Notch ligand 2     | NOTCH1 | notch receptor 1                                                 | NA |\n",
       "| DLL1_NOTCH1   | DLL1    | delta like canonical Notch ligand 1 | NOTCH1 | notch receptor 1                                                 | NA |\n",
       "\n"
      ],
      "text/plain": [
       "  Pair.Name     Ligand  Ligand.Name                         Receptor\n",
       "1 CALM1_TRPC3   CALM1   calmodulin 1                        TRPC3   \n",
       "2 S100A10_TRPV6 S100A10 S100 calcium binding protein A10    TRPV6   \n",
       "3 JAK2_EPOR     JAK2    Janus kinase 2                      EPOR    \n",
       "4 NOTCH1_JAG2   NOTCH1  notch receptor 1                    JAG2    \n",
       "5 JAG2_NOTCH1   JAG2    jagged canonical Notch ligand 2     NOTCH1  \n",
       "6 DLL1_NOTCH1   DLL1    delta like canonical Notch ligand 1 NOTCH1  \n",
       "  Receptor.Name                                                    complex_pair\n",
       "1 transient receptor potential cation channel subfamily C member 3 NA          \n",
       "2 transient receptor potential cation channel subfamily V member 6 NA          \n",
       "3 erythropoietin receptor                                          NA          \n",
       "4 jagged canonical Notch ligand 2                                  NA          \n",
       "5 notch receptor 1                                                 NA          \n",
       "6 notch receptor 1                                                 NA          "
      ]
     },
     "metadata": {},
     "output_type": "display_data"
    }
   ],
   "source": [
    "head(complete)"
   ]
  },
  {
   "cell_type": "markdown",
   "id": "ae008fb7",
   "metadata": {},
   "source": [
    "# Comparing with the previous version of the database"
   ]
  },
  {
   "cell_type": "code",
   "execution_count": 43,
   "id": "4869db60",
   "metadata": {},
   "outputs": [],
   "source": [
    "# here is the previous version\n",
    "previous_db <- read.csv(\"L_R_Database_Maria.csv\")"
   ]
  },
  {
   "cell_type": "markdown",
   "id": "b5166569",
   "metadata": {},
   "source": [
    "we first compare gene spaces between these two DBs"
   ]
  },
  {
   "cell_type": "code",
   "execution_count": 44,
   "id": "7d376cc9",
   "metadata": {},
   "outputs": [
    {
     "data": {
      "image/png": "[encoded data removed]",
      "text/plain": [
       "plot without title"
      ]
     },
     "metadata": {
      "image/png": {
       "height": 420,
       "width": 420
      }
     },
     "output_type": "display_data"
    }
   ],
   "source": [
    "new_gene_space <- unique(c(complete$Ligand,complete$Receptor))\n",
    "previous_gene_space <- unique(c(previous_db$Ligand,previous_db$Receptor))\n",
    "\n",
    "Venn_plot <- draw.pairwise.venn(length(new_gene_space), \n",
    "    length(previous_gene_space), \n",
    "    length(intersect(new_gene_space,\n",
    "    previous_gene_space)), \n",
    "    category = c(\"New Gene Space\", \"Previous Gene Space\"), \n",
    "    lty = rep(\"blank\", 2), fill = c(\"light blue\", \"red\"), alpha = rep(0.4, 2), \n",
    "    cat.pos = c(0, 0), cat.dist = rep(0.025, 2), cex= 1.5, cat.cex=1.5, \n",
    "    verbose = FALSE)\n",
    "grid.draw(Venn_plot)"
   ]
  },
  {
   "cell_type": "code",
   "execution_count": 45,
   "id": "cb0fc4d5",
   "metadata": {},
   "outputs": [
    {
     "data": {
      "text/html": [
       "<style>\n",
       ".list-inline {list-style: none; margin:0; padding: 0}\n",
       ".list-inline>li {display: inline-block}\n",
       ".list-inline>li:not(:last-child)::after {content: \"\\00b7\"; padding: 0 .5ex}\n",
       "</style>\n",
       "<ol class=list-inline><li>'AREGB'</li><li>'C1orf200'</li><li>'C4B'</li><li>'C5orf55'</li><li>'CCL3L3'</li><li>'CGB'</li><li>'CTGF'</li><li>'CYR61'</li><li>'DEFB103B'</li><li>'DEFB4A'</li><li>'FIGF'</li><li>'IFNA13'</li><li>'IL8'</li><li>'KAL1'</li><li>'MFI2'</li><li>'MLLT4'</li><li>'NOV'</li><li>'YARS'</li><li>'CCL12'</li><li>'NGFRAP1'</li><li>'HFE2'</li><li>'PPAPDC2'</li><li>'DARC'</li><li>'C14orf1'</li><li>'CD97'</li><li>'EMR2'</li><li>'ELTD1'</li><li>'TMEM8A'</li><li>'PVRL1'</li><li>'PVRL2'</li><li>'PVRL3'</li><li>'PVRL4'</li><li>'GPR1'</li><li>'BAI2'</li><li>'LPHN1'</li><li>'LPHN2'</li><li>'GPR56'</li><li>NA</li></ol>\n"
      ],
      "text/latex": [
       "\\begin{enumerate*}\n",
       "\\item 'AREGB'\n",
       "\\item 'C1orf200'\n",
       "\\item 'C4B'\n",
       "\\item 'C5orf55'\n",
       "\\item 'CCL3L3'\n",
       "\\item 'CGB'\n",
       "\\item 'CTGF'\n",
       "\\item 'CYR61'\n",
       "\\item 'DEFB103B'\n",
       "\\item 'DEFB4A'\n",
       "\\item 'FIGF'\n",
       "\\item 'IFNA13'\n",
       "\\item 'IL8'\n",
       "\\item 'KAL1'\n",
       "\\item 'MFI2'\n",
       "\\item 'MLLT4'\n",
       "\\item 'NOV'\n",
       "\\item 'YARS'\n",
       "\\item 'CCL12'\n",
       "\\item 'NGFRAP1'\n",
       "\\item 'HFE2'\n",
       "\\item 'PPAPDC2'\n",
       "\\item 'DARC'\n",
       "\\item 'C14orf1'\n",
       "\\item 'CD97'\n",
       "\\item 'EMR2'\n",
       "\\item 'ELTD1'\n",
       "\\item 'TMEM8A'\n",
       "\\item 'PVRL1'\n",
       "\\item 'PVRL2'\n",
       "\\item 'PVRL3'\n",
       "\\item 'PVRL4'\n",
       "\\item 'GPR1'\n",
       "\\item 'BAI2'\n",
       "\\item 'LPHN1'\n",
       "\\item 'LPHN2'\n",
       "\\item 'GPR56'\n",
       "\\item NA\n",
       "\\end{enumerate*}\n"
      ],
      "text/markdown": [
       "1. 'AREGB'\n",
       "2. 'C1orf200'\n",
       "3. 'C4B'\n",
       "4. 'C5orf55'\n",
       "5. 'CCL3L3'\n",
       "6. 'CGB'\n",
       "7. 'CTGF'\n",
       "8. 'CYR61'\n",
       "9. 'DEFB103B'\n",
       "10. 'DEFB4A'\n",
       "11. 'FIGF'\n",
       "12. 'IFNA13'\n",
       "13. 'IL8'\n",
       "14. 'KAL1'\n",
       "15. 'MFI2'\n",
       "16. 'MLLT4'\n",
       "17. 'NOV'\n",
       "18. 'YARS'\n",
       "19. 'CCL12'\n",
       "20. 'NGFRAP1'\n",
       "21. 'HFE2'\n",
       "22. 'PPAPDC2'\n",
       "23. 'DARC'\n",
       "24. 'C14orf1'\n",
       "25. 'CD97'\n",
       "26. 'EMR2'\n",
       "27. 'ELTD1'\n",
       "28. 'TMEM8A'\n",
       "29. 'PVRL1'\n",
       "30. 'PVRL2'\n",
       "31. 'PVRL3'\n",
       "32. 'PVRL4'\n",
       "33. 'GPR1'\n",
       "34. 'BAI2'\n",
       "35. 'LPHN1'\n",
       "36. 'LPHN2'\n",
       "37. 'GPR56'\n",
       "38. NA\n",
       "\n",
       "\n"
      ],
      "text/plain": [
       " [1] \"AREGB\"    \"C1orf200\" \"C4B\"      \"C5orf55\"  \"CCL3L3\"   \"CGB\"     \n",
       " [7] \"CTGF\"     \"CYR61\"    \"DEFB103B\" \"DEFB4A\"   \"FIGF\"     \"IFNA13\"  \n",
       "[13] \"IL8\"      \"KAL1\"     \"MFI2\"     \"MLLT4\"    \"NOV\"      \"YARS\"    \n",
       "[19] \"CCL12\"    \"NGFRAP1\"  \"HFE2\"     \"PPAPDC2\"  \"DARC\"     \"C14orf1\" \n",
       "[25] \"CD97\"     \"EMR2\"     \"ELTD1\"    \"TMEM8A\"   \"PVRL1\"    \"PVRL2\"   \n",
       "[31] \"PVRL3\"    \"PVRL4\"    \"GPR1\"     \"BAI2\"     \"LPHN1\"    \"LPHN2\"   \n",
       "[37] \"GPR56\"    NA        "
      ]
     },
     "metadata": {},
     "output_type": "display_data"
    }
   ],
   "source": [
    "setdiff(previous_gene_space, new_gene_space)"
   ]
  },
  {
   "cell_type": "markdown",
   "id": "36ae9ec5",
   "metadata": {},
   "source": [
    "The difference is due to the use of different gene symbols. Some of the gene symbols used in the previous database may not be recognized as official or approved gene symbols.\n",
    "\n",
    "See example below"
   ]
  },
  {
   "cell_type": "code",
   "execution_count": 46,
   "id": "e39635ec",
   "metadata": {},
   "outputs": [
    {
     "data": {
      "text/html": [
       "<table class=\"dataframe\">\n",
       "<caption>A data.frame: 1 × 6</caption>\n",
       "<thead>\n",
       "\t<tr><th scope=col>Pair.Name</th><th scope=col>Ligand</th><th scope=col>Ligand.Name</th><th scope=col>Receptor</th><th scope=col>Receptor.Name</th><th scope=col>Classification</th></tr>\n",
       "\t<tr><th scope=col>&lt;chr&gt;</th><th scope=col>&lt;chr&gt;</th><th scope=col>&lt;chr&gt;</th><th scope=col>&lt;chr&gt;</th><th scope=col>&lt;chr&gt;</th><th scope=col>&lt;chr&gt;</th></tr>\n",
       "</thead>\n",
       "<tbody>\n",
       "\t<tr><td>SHANK1_LPHN2</td><td>SHANK1</td><td>SH3 and multiple ankyrin repeat domains 1</td><td>LPHN2</td><td>latrophilin 2</td><td>other</td></tr>\n",
       "</tbody>\n",
       "</table>\n"
      ],
      "text/latex": [
       "A data.frame: 1 × 6\n",
       "\\begin{tabular}{llllll}\n",
       " Pair.Name & Ligand & Ligand.Name & Receptor & Receptor.Name & Classification\\\\\n",
       " <chr> & <chr> & <chr> & <chr> & <chr> & <chr>\\\\\n",
       "\\hline\n",
       "\t SHANK1\\_LPHN2 & SHANK1 & SH3 and multiple ankyrin repeat domains 1 & LPHN2 & latrophilin 2 & other\\\\\n",
       "\\end{tabular}\n"
      ],
      "text/markdown": [
       "\n",
       "A data.frame: 1 × 6\n",
       "\n",
       "| Pair.Name &lt;chr&gt; | Ligand &lt;chr&gt; | Ligand.Name &lt;chr&gt; | Receptor &lt;chr&gt; | Receptor.Name &lt;chr&gt; | Classification &lt;chr&gt; |\n",
       "|---|---|---|---|---|---|\n",
       "| SHANK1_LPHN2 | SHANK1 | SH3 and multiple ankyrin repeat domains 1 | LPHN2 | latrophilin 2 | other |\n",
       "\n"
      ],
      "text/plain": [
       "  Pair.Name    Ligand Ligand.Name                               Receptor\n",
       "1 SHANK1_LPHN2 SHANK1 SH3 and multiple ankyrin repeat domains 1 LPHN2   \n",
       "  Receptor.Name Classification\n",
       "1 latrophilin 2 other         "
      ]
     },
     "metadata": {},
     "output_type": "display_data"
    }
   ],
   "source": [
    "# In the previous version of the database, the gene symbol LPHN2 was used, \n",
    "# which is not an approved gene symbol\n",
    "filter(previous_db, Receptor==\"LPHN2\")"
   ]
  },
  {
   "cell_type": "code",
   "execution_count": 47,
   "id": "0ffcf0f4",
   "metadata": {},
   "outputs": [
    {
     "data": {
      "text/html": [
       "<table class=\"dataframe\">\n",
       "<caption>A tibble: 2 × 6</caption>\n",
       "<thead>\n",
       "\t<tr><th scope=col>Pair.Name</th><th scope=col>Ligand</th><th scope=col>Ligand.Name</th><th scope=col>Receptor</th><th scope=col>Receptor.Name</th><th scope=col>complex_pair</th></tr>\n",
       "\t<tr><th scope=col>&lt;chr&gt;</th><th scope=col>&lt;chr&gt;</th><th scope=col>&lt;chr&gt;</th><th scope=col>&lt;chr&gt;</th><th scope=col>&lt;chr&gt;</th><th scope=col>&lt;chr&gt;</th></tr>\n",
       "</thead>\n",
       "<tbody>\n",
       "\t<tr><td>SHANK1_ADGRL2</td><td>SHANK1</td><td>SH3 and multiple ankyrin repeat domains 1</td><td>ADGRL2</td><td>adhesion G protein-coupled receptor L2</td><td>NA</td></tr>\n",
       "\t<tr><td>SHANK2_ADGRL2</td><td>SHANK2</td><td>SH3 and multiple ankyrin repeat domains 2</td><td>ADGRL2</td><td>adhesion G protein-coupled receptor L2</td><td>NA</td></tr>\n",
       "</tbody>\n",
       "</table>\n"
      ],
      "text/latex": [
       "A tibble: 2 × 6\n",
       "\\begin{tabular}{llllll}\n",
       " Pair.Name & Ligand & Ligand.Name & Receptor & Receptor.Name & complex\\_pair\\\\\n",
       " <chr> & <chr> & <chr> & <chr> & <chr> & <chr>\\\\\n",
       "\\hline\n",
       "\t SHANK1\\_ADGRL2 & SHANK1 & SH3 and multiple ankyrin repeat domains 1 & ADGRL2 & adhesion G protein-coupled receptor L2 & NA\\\\\n",
       "\t SHANK2\\_ADGRL2 & SHANK2 & SH3 and multiple ankyrin repeat domains 2 & ADGRL2 & adhesion G protein-coupled receptor L2 & NA\\\\\n",
       "\\end{tabular}\n"
      ],
      "text/markdown": [
       "\n",
       "A tibble: 2 × 6\n",
       "\n",
       "| Pair.Name &lt;chr&gt; | Ligand &lt;chr&gt; | Ligand.Name &lt;chr&gt; | Receptor &lt;chr&gt; | Receptor.Name &lt;chr&gt; | complex_pair &lt;chr&gt; |\n",
       "|---|---|---|---|---|---|\n",
       "| SHANK1_ADGRL2 | SHANK1 | SH3 and multiple ankyrin repeat domains 1 | ADGRL2 | adhesion G protein-coupled receptor L2 | NA |\n",
       "| SHANK2_ADGRL2 | SHANK2 | SH3 and multiple ankyrin repeat domains 2 | ADGRL2 | adhesion G protein-coupled receptor L2 | NA |\n",
       "\n"
      ],
      "text/plain": [
       "  Pair.Name     Ligand Ligand.Name                               Receptor\n",
       "1 SHANK1_ADGRL2 SHANK1 SH3 and multiple ankyrin repeat domains 1 ADGRL2  \n",
       "2 SHANK2_ADGRL2 SHANK2 SH3 and multiple ankyrin repeat domains 2 ADGRL2  \n",
       "  Receptor.Name                          complex_pair\n",
       "1 adhesion G protein-coupled receptor L2 NA          \n",
       "2 adhesion G protein-coupled receptor L2 NA          "
      ]
     },
     "metadata": {},
     "output_type": "display_data"
    }
   ],
   "source": [
    "# The approved gene symbol for LPHN2 is ADGRL2. In the current version of the database, \n",
    "# we can see that this gene is included and represented using its approved gene symbol\n",
    "filter(complete, Receptor==\"ADGRL2\")"
   ]
  },
  {
   "cell_type": "code",
   "execution_count": 48,
   "id": "b0c73091",
   "metadata": {},
   "outputs": [],
   "source": [
    "# Convert the non-approved gene symbols to their approved counterparts"
   ]
  },
  {
   "cell_type": "code",
   "execution_count": 49,
   "id": "1ba2e547",
   "metadata": {},
   "outputs": [],
   "source": [
    "difference <- as.data.frame(setdiff(previous_gene_space, new_gene_space))"
   ]
  },
  {
   "cell_type": "code",
   "execution_count": 50,
   "id": "c23a02c5",
   "metadata": {},
   "outputs": [],
   "source": [
    "colnames(difference) = \"previous_name\""
   ]
  },
  {
   "cell_type": "code",
   "execution_count": 51,
   "id": "951c6d56",
   "metadata": {},
   "outputs": [],
   "source": [
    "approved <- c(\"AREG\",\n",
    "\"PIK3CD-AS1\",\n",
    "\"C4B_2\",\n",
    "\"EXOC3-AS1\",\n",
    "\"CCL3L1\",\n",
    "\"CGB8\",\n",
    "\"CCN2\",\n",
    "\"CCN1\",\n",
    "\"DEFB103A\",\n",
    "\"DEFB4B\",\n",
    "\"VEGFD\",\n",
    "\"IFNA1\",\n",
    "\"CXCL8\",\n",
    "\"ANOS1\",\n",
    "\"MELTF\",\n",
    "\"AFDN\",\n",
    "\"PLXNA1\",\n",
    "\"YARS1\",\n",
    "\"CCL12_Mouse\",\n",
    "\"BEX3\",\n",
    "\"HJV\",\n",
    "\"PLPP6\",\n",
    "\"ACKR1\",\n",
    "\"ERG28\",\n",
    "\"ADGRE5\",\n",
    "\"ADGRE2\",\n",
    "\"ADGRL4\",\n",
    "\"PGAP6\",\n",
    "\"NECTIN1\",\n",
    "\"NECTIN2\",\n",
    "\"NECTIN3\",\n",
    "\"NECTIN4\",\n",
    "\"CMKLR2\",\n",
    "\"ADGRB2\",\n",
    "\"ADGRL1\",\n",
    "\"ADGRL2\",\n",
    "\"ADGRG1\",\n",
    "\"None\")"
   ]
  },
  {
   "cell_type": "code",
   "execution_count": 52,
   "id": "5bdd4bd6",
   "metadata": {},
   "outputs": [],
   "source": [
    "difference$new=approved"
   ]
  },
  {
   "cell_type": "code",
   "execution_count": 53,
   "id": "102af2b6",
   "metadata": {},
   "outputs": [],
   "source": [
    "replaced_gene_space <- replace(previous_gene_space, \n",
    "                               previous_gene_space %in% difference$previous_name, \n",
    "                               difference$new)"
   ]
  },
  {
   "cell_type": "code",
   "execution_count": 54,
   "id": "0546f474",
   "metadata": {},
   "outputs": [],
   "source": [
    "# lets plot the gene space again"
   ]
  },
  {
   "cell_type": "code",
   "execution_count": 55,
   "id": "cd32e1f4",
   "metadata": {},
   "outputs": [
    {
     "data": {
      "image/png": "[encoded data removed]",
      "text/plain": [
       "plot without title"
      ]
     },
     "metadata": {
      "image/png": {
       "height": 420,
       "width": 420
      }
     },
     "output_type": "display_data"
    }
   ],
   "source": [
    "Venn_plot <- draw.pairwise.venn(length(new_gene_space), \n",
    "    length(unique(replaced_gene_space)), \n",
    "    length(intersect(new_gene_space,\n",
    "    replaced_gene_space)), \n",
    "    category = c(\"New Gene Space\", \"Previous Gene Space with Approved Names\"), \n",
    "    lty = rep(\"blank\", 2), fill = c(\"light blue\", \"red\"), alpha = rep(0.4, 2), \n",
    "    cat.pos = c(0, 0), cat.dist = rep(0.025, 2), cex= 1.5, cat.cex=1.5, \n",
    "    verbose = FALSE)\n",
    "grid.draw(Venn_plot)"
   ]
  },
  {
   "cell_type": "code",
   "execution_count": 56,
   "id": "7fccf891",
   "metadata": {},
   "outputs": [
    {
     "data": {
      "text/html": [
       "<style>\n",
       ".list-inline {list-style: none; margin:0; padding: 0}\n",
       ".list-inline>li {display: inline-block}\n",
       ".list-inline>li:not(:last-child)::after {content: \"\\00b7\"; padding: 0 .5ex}\n",
       "</style>\n",
       "<ol class=list-inline><li>'CCL12_Mouse'</li><li>'None'</li></ol>\n"
      ],
      "text/latex": [
       "\\begin{enumerate*}\n",
       "\\item 'CCL12\\_Mouse'\n",
       "\\item 'None'\n",
       "\\end{enumerate*}\n"
      ],
      "text/markdown": [
       "1. 'CCL12_Mouse'\n",
       "2. 'None'\n",
       "\n",
       "\n"
      ],
      "text/plain": [
       "[1] \"CCL12_Mouse\" \"None\"       "
      ]
     },
     "metadata": {},
     "output_type": "display_data"
    }
   ],
   "source": [
    "setdiff(replaced_gene_space, new_gene_space)"
   ]
  },
  {
   "cell_type": "code",
   "execution_count": 57,
   "id": "d84ad2bf",
   "metadata": {},
   "outputs": [],
   "source": [
    "# Comparing Pairs"
   ]
  },
  {
   "cell_type": "markdown",
   "id": "c92602b3",
   "metadata": {},
   "source": []
  },
  {
   "cell_type": "code",
   "execution_count": 58,
   "id": "7894198a",
   "metadata": {},
   "outputs": [],
   "source": [
    "# Fix the Ligand/Receptor in the previous version of the database by replacing the non-approved gene symbols\n",
    "# with their approved counterparts\n",
    "\n",
    "# Loop through the rows of the difference data to replace the previous names with their approved counterparts.\n",
    "for (i in 1:nrow(difference)) {\n",
    "  # Check if the Ligand or Receptor values in previous_db are present in the previous value in difference\n",
    "  ligand_match <- previous_db$Ligand %in% difference$previous_name[i]\n",
    "  receptor_match <- previous_db$Receptor %in% difference$previous_name[i]\n",
    "  \n",
    "  # Update the Ligand and Receptor values in previous_db with the new value in difference if there is a match\n",
    "  previous_db$Ligand[ligand_match] <- difference$new[i]\n",
    "  previous_db$Receptor[receptor_match] <- difference$new[i]\n",
    "}"
   ]
  },
  {
   "cell_type": "code",
   "execution_count": 59,
   "id": "60caad84",
   "metadata": {},
   "outputs": [
    {
     "data": {
      "text/html": [
       "TRUE"
      ],
      "text/latex": [
       "TRUE"
      ],
      "text/markdown": [
       "TRUE"
      ],
      "text/plain": [
       "[1] TRUE"
      ]
     },
     "metadata": {},
     "output_type": "display_data"
    }
   ],
   "source": [
    "\"AREG\" %in% previous_db$Ligand & !\"AREGB\" %in% previous_db$Ligand"
   ]
  },
  {
   "cell_type": "code",
   "execution_count": 60,
   "id": "d7fe8e02",
   "metadata": {},
   "outputs": [],
   "source": [
    "# fix the edges with the approved gene symbols in the previous db\n",
    "previous_db$Pair.Name <- paste(previous_db$Ligand, previous_db$Receptor, sep = \"_\")"
   ]
  },
  {
   "cell_type": "code",
   "execution_count": 61,
   "id": "d8b5dbf6",
   "metadata": {},
   "outputs": [
    {
     "data": {
      "image/png": "[encoded data removed]",
      "text/plain": [
       "plot without title"
      ]
     },
     "metadata": {
      "image/png": {
       "height": 420,
       "width": 420
      }
     },
     "output_type": "display_data"
    }
   ],
   "source": [
    "#Finally plot'em\n",
    "\n",
    "Venn_plot <- draw.pairwise.venn(length(unique(previous_db$Pair.Name)), \n",
    "    length(complete$Pair.Name), \n",
    "    length(intersect(previous_db$Pair.Name,\n",
    "    complete$Pair.Name)), \n",
    "    category = c(\"Previous DB Pair\", \"New DB Pair\"), \n",
    "    lty = rep(\"blank\", 2), fill = c(\"light blue\", \"red\"), alpha = rep(0.4, 2), \n",
    "    cat.pos = c(0, 0), cat.dist = rep(0.025, 2), cex= 1.5, cat.cex=1.5, \n",
    "    verbose = FALSE)\n",
    "grid.draw(Venn_plot)"
   ]
  },
  {
   "cell_type": "code",
   "execution_count": 62,
   "id": "8b3df67d",
   "metadata": {},
   "outputs": [
    {
     "data": {
      "text/html": [
       "<style>\n",
       ".list-inline {list-style: none; margin:0; padding: 0}\n",
       ".list-inline>li {display: inline-block}\n",
       ".list-inline>li:not(:last-child)::after {content: \"\\00b7\"; padding: 0 .5ex}\n",
       "</style>\n",
       "<ol class=list-inline><li>'PLXNA1_PLXNA1'</li><li>'CCL12_Mouse_CCR2'</li><li>'CXCL1_None'</li><li>'CXCL5_None'</li><li>'PPBP_None'</li><li>'CCL2_None'</li><li>'CCL3_None'</li><li>'CCL4_None'</li><li>'CCL5_None'</li><li>'CCL7_None'</li><li>'CCL11_None'</li><li>'CXCL8_None'</li><li>'CXCL10_None'</li><li>'CXCL12_None'</li></ol>\n"
      ],
      "text/latex": [
       "\\begin{enumerate*}\n",
       "\\item 'PLXNA1\\_PLXNA1'\n",
       "\\item 'CCL12\\_Mouse\\_CCR2'\n",
       "\\item 'CXCL1\\_None'\n",
       "\\item 'CXCL5\\_None'\n",
       "\\item 'PPBP\\_None'\n",
       "\\item 'CCL2\\_None'\n",
       "\\item 'CCL3\\_None'\n",
       "\\item 'CCL4\\_None'\n",
       "\\item 'CCL5\\_None'\n",
       "\\item 'CCL7\\_None'\n",
       "\\item 'CCL11\\_None'\n",
       "\\item 'CXCL8\\_None'\n",
       "\\item 'CXCL10\\_None'\n",
       "\\item 'CXCL12\\_None'\n",
       "\\end{enumerate*}\n"
      ],
      "text/markdown": [
       "1. 'PLXNA1_PLXNA1'\n",
       "2. 'CCL12_Mouse_CCR2'\n",
       "3. 'CXCL1_None'\n",
       "4. 'CXCL5_None'\n",
       "5. 'PPBP_None'\n",
       "6. 'CCL2_None'\n",
       "7. 'CCL3_None'\n",
       "8. 'CCL4_None'\n",
       "9. 'CCL5_None'\n",
       "10. 'CCL7_None'\n",
       "11. 'CCL11_None'\n",
       "12. 'CXCL8_None'\n",
       "13. 'CXCL10_None'\n",
       "14. 'CXCL12_None'\n",
       "\n",
       "\n"
      ],
      "text/plain": [
       " [1] \"PLXNA1_PLXNA1\"    \"CCL12_Mouse_CCR2\" \"CXCL1_None\"       \"CXCL5_None\"      \n",
       " [5] \"PPBP_None\"        \"CCL2_None\"        \"CCL3_None\"        \"CCL4_None\"       \n",
       " [9] \"CCL5_None\"        \"CCL7_None\"        \"CCL11_None\"       \"CXCL8_None\"      \n",
       "[13] \"CXCL10_None\"      \"CXCL12_None\"     "
      ]
     },
     "metadata": {},
     "output_type": "display_data"
    }
   ],
   "source": [
    "setdiff(previous_db$Pair.Name, complete$Pair.Name)"
   ]
  },
  {
   "cell_type": "markdown",
   "id": "abe0fd7c",
   "metadata": {},
   "source": [
    "# merge the updated DB with omnipath_original"
   ]
  },
  {
   "cell_type": "code",
   "execution_count": 63,
   "id": "9b4b7187",
   "metadata": {},
   "outputs": [],
   "source": [
    "lr$pair <- paste(lr$source_genesymbol, lr$target_genesymbol, sep=\"_\")"
   ]
  },
  {
   "cell_type": "markdown",
   "id": "a74b7b5e",
   "metadata": {},
   "source": [
    "Create a column to merge with. We are doing this because the complex pairs in our data have been broken down, while they are not broken down in the original data. The new column will allow us to match and merge the broken-down pairs with the corresponding pairs in the original data"
   ]
  },
  {
   "cell_type": "code",
   "execution_count": 64,
   "id": "52641c4b",
   "metadata": {},
   "outputs": [],
   "source": [
    "complete <- complete %>% mutate(to_merge = ifelse(!is.na(complex_pair), complex_pair, paste(Ligand, Receptor, sep=\"_\")))"
   ]
  },
  {
   "cell_type": "code",
   "execution_count": 74,
   "id": "d7de62b4",
   "metadata": {},
   "outputs": [],
   "source": [
    "concatanated <- as.data.frame(merge(complete, lr, by.x = \"to_merge\", by.y = \"pair\"))"
   ]
  },
  {
   "cell_type": "code",
   "execution_count": 75,
   "id": "39379e58",
   "metadata": {},
   "outputs": [
    {
     "data": {
      "text/html": [
       "TRUE"
      ],
      "text/latex": [
       "TRUE"
      ],
      "text/markdown": [
       "TRUE"
      ],
      "text/plain": [
       "[1] TRUE"
      ]
     },
     "metadata": {},
     "output_type": "display_data"
    }
   ],
   "source": [
    "nrow(complete) == nrow(concatanated)"
   ]
  },
  {
   "cell_type": "code",
   "execution_count": 81,
   "id": "17379647",
   "metadata": {
    "scrolled": false
   },
   "outputs": [],
   "source": [
    "concatanated <- concatanated %>% dplyr::select(-to_merge)"
   ]
  },
  {
   "cell_type": "code",
   "execution_count": 82,
   "id": "09e47795",
   "metadata": {},
   "outputs": [
    {
     "data": {
      "text/html": [
       "<table class=\"dataframe\">\n",
       "<caption>A data.frame: 6 × 21</caption>\n",
       "<thead>\n",
       "\t<tr><th></th><th scope=col>Pair.Name</th><th scope=col>Ligand</th><th scope=col>Ligand.Name</th><th scope=col>Receptor</th><th scope=col>Receptor.Name</th><th scope=col>complex_pair</th><th scope=col>source</th><th scope=col>target</th><th scope=col>source_genesymbol</th><th scope=col>target_genesymbol</th><th scope=col>⋯</th><th scope=col>is_stimulation</th><th scope=col>is_inhibition</th><th scope=col>consensus_direction</th><th scope=col>consensus_stimulation</th><th scope=col>consensus_inhibition</th><th scope=col>sources</th><th scope=col>references</th><th scope=col>curation_effort</th><th scope=col>n_references</th><th scope=col>n_resources</th></tr>\n",
       "\t<tr><th></th><th scope=col>&lt;chr&gt;</th><th scope=col>&lt;chr&gt;</th><th scope=col>&lt;chr&gt;</th><th scope=col>&lt;chr&gt;</th><th scope=col>&lt;chr&gt;</th><th scope=col>&lt;chr&gt;</th><th scope=col>&lt;chr&gt;</th><th scope=col>&lt;chr&gt;</th><th scope=col>&lt;chr&gt;</th><th scope=col>&lt;chr&gt;</th><th scope=col>⋯</th><th scope=col>&lt;dbl&gt;</th><th scope=col>&lt;dbl&gt;</th><th scope=col>&lt;dbl&gt;</th><th scope=col>&lt;dbl&gt;</th><th scope=col>&lt;dbl&gt;</th><th scope=col>&lt;chr&gt;</th><th scope=col>&lt;chr&gt;</th><th scope=col>&lt;dbl&gt;</th><th scope=col>&lt;dbl&gt;</th><th scope=col>&lt;int&gt;</th></tr>\n",
       "</thead>\n",
       "<tbody>\n",
       "\t<tr><th scope=row>1</th><td>A2M_LRP1    </td><td>A2M  </td><td>alpha-2-macroglobulin                    </td><td>LRP1  </td><td>LDL receptor related protein 1           </td><td>NA</td><td>P01023</td><td>Q07954</td><td>A2M  </td><td>LRP1  </td><td>⋯</td><td>1</td><td>0</td><td>1</td><td>1</td><td>0</td><td>AlzPathway;Baccin2019;CellTalkDB;EMBRACE;Fantom5_LRdb;HPMR_LRdb;HPMR_talklr;HPRD;HPRD_LRdb;HPRD_talklr;LRdb;Ramilowski2015;Ramilowski2015_Baccin2019;STRING_talklr;Wang;connectomeDB2020;iTALK;talklr</td><td>AlzPathway:19026743;Baccin2019:10652313;Baccin2019:12194978;Baccin2019:1702392;CellTalkDB:10652313;HPRD:10652313;HPRD:12194978;LRdb:10652313;connectomeDB2020:10652313;connectomeDB2020:12194978;connectomeDB2020:1702392</td><td>11</td><td>4</td><td>11</td></tr>\n",
       "\t<tr><th scope=row>2</th><td>AANAT_MTNR1A</td><td>AANAT</td><td>aralkylamine N-acetyltransferase         </td><td>MTNR1A</td><td>melatonin receptor 1A                    </td><td>NA</td><td>Q16613</td><td>P48039</td><td>AANAT</td><td>MTNR1A</td><td>⋯</td><td>1</td><td>0</td><td>1</td><td>1</td><td>0</td><td>Baccin2019;CellTalkDB;Fantom5_LRdb;HPMR;HPMR_LRdb;HPMR_talklr;LRdb;Ramilowski2015;Ramilowski2015_Baccin2019;Wang;connectomeDB2020;iTALK;talklr                                                       </td><td>Baccin2019:12943195;CellTalkDB:12943195;HPMR:12943195;LRdb:12943195;connectomeDB2020:12943195                                                                                                                            </td><td> 5</td><td>1</td><td> 9</td></tr>\n",
       "\t<tr><th scope=row>3</th><td>AANAT_MTNR1B</td><td>AANAT</td><td>aralkylamine N-acetyltransferase         </td><td>MTNR1B</td><td>melatonin receptor 1B                    </td><td>NA</td><td>Q16613</td><td>P49286</td><td>AANAT</td><td>MTNR1B</td><td>⋯</td><td>1</td><td>0</td><td>1</td><td>1</td><td>0</td><td>Baccin2019;CellTalkDB;Fantom5_LRdb;HPMR_LRdb;HPMR_talklr;LRdb;Ramilowski2015;Ramilowski2015_Baccin2019;Wang;connectomeDB2020;iTALK;talklr                                                            </td><td>Baccin2019:12943195;CellTalkDB:12943195;LRdb:12943195;connectomeDB2020:12943195                                                                                                                                          </td><td> 4</td><td>1</td><td> 8</td></tr>\n",
       "\t<tr><th scope=row>4</th><td>ABCA1_SHANK1</td><td>ABCA1</td><td>ATP binding cassette subfamily A member 1</td><td>SHANK1</td><td>SH3 and multiple ankyrin repeat domains 1</td><td>NA</td><td>O95477</td><td>Q9Y566</td><td>ABCA1</td><td>SHANK1</td><td>⋯</td><td>0</td><td>0</td><td>0</td><td>0</td><td>0</td><td>Baccin2019;HPRD;Ramilowski2015_Baccin2019                                                                                                                                                            </td><td>HPRD:16192279                                                                                                                                                                                                            </td><td> 1</td><td>1</td><td> 2</td></tr>\n",
       "\t<tr><th scope=row>5</th><td>ACE_AGTR2   </td><td>ACE  </td><td>angiotensin I converting enzyme          </td><td>AGTR2 </td><td>angiotensin II receptor type 2           </td><td>NA</td><td>P12821</td><td>P50052</td><td>ACE  </td><td>AGTR2 </td><td>⋯</td><td>0</td><td>0</td><td>0</td><td>0</td><td>0</td><td>Baccin2019;CellTalkDB;Fantom5_LRdb;HPRD;HPRD_LRdb;HPRD_talklr;LRdb;Ramilowski2015;Ramilowski2015_Baccin2019;iTALK;talklr                                                                             </td><td>Baccin2019:11459796;HPRD:11459796;LRdb:11459796                                                                                                                                                                          </td><td> 3</td><td>1</td><td> 7</td></tr>\n",
       "\t<tr><th scope=row>6</th><td>ACE_BDKRB2  </td><td>ACE  </td><td>angiotensin I converting enzyme          </td><td>BDKRB2</td><td>bradykinin receptor B2                   </td><td>NA</td><td>P12821</td><td>P30411</td><td>ACE  </td><td>BDKRB2</td><td>⋯</td><td>0</td><td>0</td><td>0</td><td>0</td><td>0</td><td>Baccin2019;CellTalkDB;EMBRACE;Fantom5_LRdb;HPRD;HPRD_LRdb;HPRD_talklr;LRdb;Lit-BM-17;Ramilowski2015;Ramilowski2015_Baccin2019;connectomeDB2020;iTALK;talklr                                          </td><td>Baccin2019:10748135;CellTalkDB:10748135;HPRD:10748135;LRdb:10748135;Lit-BM-17:17077303;connectomeDB2020:10748135                                                                                                         </td><td> 6</td><td>2</td><td>10</td></tr>\n",
       "</tbody>\n",
       "</table>\n"
      ],
      "text/latex": [
       "A data.frame: 6 × 21\n",
       "\\begin{tabular}{r|lllllllllllllllllllll}\n",
       "  & Pair.Name & Ligand & Ligand.Name & Receptor & Receptor.Name & complex\\_pair & source & target & source\\_genesymbol & target\\_genesymbol & ⋯ & is\\_stimulation & is\\_inhibition & consensus\\_direction & consensus\\_stimulation & consensus\\_inhibition & sources & references & curation\\_effort & n\\_references & n\\_resources\\\\\n",
       "  & <chr> & <chr> & <chr> & <chr> & <chr> & <chr> & <chr> & <chr> & <chr> & <chr> & ⋯ & <dbl> & <dbl> & <dbl> & <dbl> & <dbl> & <chr> & <chr> & <dbl> & <dbl> & <int>\\\\\n",
       "\\hline\n",
       "\t1 & A2M\\_LRP1     & A2M   & alpha-2-macroglobulin                     & LRP1   & LDL receptor related protein 1            & NA & P01023 & Q07954 & A2M   & LRP1   & ⋯ & 1 & 0 & 1 & 1 & 0 & AlzPathway;Baccin2019;CellTalkDB;EMBRACE;Fantom5\\_LRdb;HPMR\\_LRdb;HPMR\\_talklr;HPRD;HPRD\\_LRdb;HPRD\\_talklr;LRdb;Ramilowski2015;Ramilowski2015\\_Baccin2019;STRING\\_talklr;Wang;connectomeDB2020;iTALK;talklr & AlzPathway:19026743;Baccin2019:10652313;Baccin2019:12194978;Baccin2019:1702392;CellTalkDB:10652313;HPRD:10652313;HPRD:12194978;LRdb:10652313;connectomeDB2020:10652313;connectomeDB2020:12194978;connectomeDB2020:1702392 & 11 & 4 & 11\\\\\n",
       "\t2 & AANAT\\_MTNR1A & AANAT & aralkylamine N-acetyltransferase          & MTNR1A & melatonin receptor 1A                     & NA & Q16613 & P48039 & AANAT & MTNR1A & ⋯ & 1 & 0 & 1 & 1 & 0 & Baccin2019;CellTalkDB;Fantom5\\_LRdb;HPMR;HPMR\\_LRdb;HPMR\\_talklr;LRdb;Ramilowski2015;Ramilowski2015\\_Baccin2019;Wang;connectomeDB2020;iTALK;talklr                                                        & Baccin2019:12943195;CellTalkDB:12943195;HPMR:12943195;LRdb:12943195;connectomeDB2020:12943195                                                                                                                             &  5 & 1 &  9\\\\\n",
       "\t3 & AANAT\\_MTNR1B & AANAT & aralkylamine N-acetyltransferase          & MTNR1B & melatonin receptor 1B                     & NA & Q16613 & P49286 & AANAT & MTNR1B & ⋯ & 1 & 0 & 1 & 1 & 0 & Baccin2019;CellTalkDB;Fantom5\\_LRdb;HPMR\\_LRdb;HPMR\\_talklr;LRdb;Ramilowski2015;Ramilowski2015\\_Baccin2019;Wang;connectomeDB2020;iTALK;talklr                                                             & Baccin2019:12943195;CellTalkDB:12943195;LRdb:12943195;connectomeDB2020:12943195                                                                                                                                           &  4 & 1 &  8\\\\\n",
       "\t4 & ABCA1\\_SHANK1 & ABCA1 & ATP binding cassette subfamily A member 1 & SHANK1 & SH3 and multiple ankyrin repeat domains 1 & NA & O95477 & Q9Y566 & ABCA1 & SHANK1 & ⋯ & 0 & 0 & 0 & 0 & 0 & Baccin2019;HPRD;Ramilowski2015\\_Baccin2019                                                                                                                                                             & HPRD:16192279                                                                                                                                                                                                             &  1 & 1 &  2\\\\\n",
       "\t5 & ACE\\_AGTR2    & ACE   & angiotensin I converting enzyme           & AGTR2  & angiotensin II receptor type 2            & NA & P12821 & P50052 & ACE   & AGTR2  & ⋯ & 0 & 0 & 0 & 0 & 0 & Baccin2019;CellTalkDB;Fantom5\\_LRdb;HPRD;HPRD\\_LRdb;HPRD\\_talklr;LRdb;Ramilowski2015;Ramilowski2015\\_Baccin2019;iTALK;talklr                                                                              & Baccin2019:11459796;HPRD:11459796;LRdb:11459796                                                                                                                                                                           &  3 & 1 &  7\\\\\n",
       "\t6 & ACE\\_BDKRB2   & ACE   & angiotensin I converting enzyme           & BDKRB2 & bradykinin receptor B2                    & NA & P12821 & P30411 & ACE   & BDKRB2 & ⋯ & 0 & 0 & 0 & 0 & 0 & Baccin2019;CellTalkDB;EMBRACE;Fantom5\\_LRdb;HPRD;HPRD\\_LRdb;HPRD\\_talklr;LRdb;Lit-BM-17;Ramilowski2015;Ramilowski2015\\_Baccin2019;connectomeDB2020;iTALK;talklr                                           & Baccin2019:10748135;CellTalkDB:10748135;HPRD:10748135;LRdb:10748135;Lit-BM-17:17077303;connectomeDB2020:10748135                                                                                                          &  6 & 2 & 10\\\\\n",
       "\\end{tabular}\n"
      ],
      "text/markdown": [
       "\n",
       "A data.frame: 6 × 21\n",
       "\n",
       "| <!--/--> | Pair.Name &lt;chr&gt; | Ligand &lt;chr&gt; | Ligand.Name &lt;chr&gt; | Receptor &lt;chr&gt; | Receptor.Name &lt;chr&gt; | complex_pair &lt;chr&gt; | source &lt;chr&gt; | target &lt;chr&gt; | source_genesymbol &lt;chr&gt; | target_genesymbol &lt;chr&gt; | ⋯ ⋯ | is_stimulation &lt;dbl&gt; | is_inhibition &lt;dbl&gt; | consensus_direction &lt;dbl&gt; | consensus_stimulation &lt;dbl&gt; | consensus_inhibition &lt;dbl&gt; | sources &lt;chr&gt; | references &lt;chr&gt; | curation_effort &lt;dbl&gt; | n_references &lt;dbl&gt; | n_resources &lt;int&gt; |\n",
       "|---|---|---|---|---|---|---|---|---|---|---|---|---|---|---|---|---|---|---|---|---|---|\n",
       "| 1 | A2M_LRP1     | A2M   | alpha-2-macroglobulin                     | LRP1   | LDL receptor related protein 1            | NA | P01023 | Q07954 | A2M   | LRP1   | ⋯ | 1 | 0 | 1 | 1 | 0 | AlzPathway;Baccin2019;CellTalkDB;EMBRACE;Fantom5_LRdb;HPMR_LRdb;HPMR_talklr;HPRD;HPRD_LRdb;HPRD_talklr;LRdb;Ramilowski2015;Ramilowski2015_Baccin2019;STRING_talklr;Wang;connectomeDB2020;iTALK;talklr | AlzPathway:19026743;Baccin2019:10652313;Baccin2019:12194978;Baccin2019:1702392;CellTalkDB:10652313;HPRD:10652313;HPRD:12194978;LRdb:10652313;connectomeDB2020:10652313;connectomeDB2020:12194978;connectomeDB2020:1702392 | 11 | 4 | 11 |\n",
       "| 2 | AANAT_MTNR1A | AANAT | aralkylamine N-acetyltransferase          | MTNR1A | melatonin receptor 1A                     | NA | Q16613 | P48039 | AANAT | MTNR1A | ⋯ | 1 | 0 | 1 | 1 | 0 | Baccin2019;CellTalkDB;Fantom5_LRdb;HPMR;HPMR_LRdb;HPMR_talklr;LRdb;Ramilowski2015;Ramilowski2015_Baccin2019;Wang;connectomeDB2020;iTALK;talklr                                                        | Baccin2019:12943195;CellTalkDB:12943195;HPMR:12943195;LRdb:12943195;connectomeDB2020:12943195                                                                                                                             |  5 | 1 |  9 |\n",
       "| 3 | AANAT_MTNR1B | AANAT | aralkylamine N-acetyltransferase          | MTNR1B | melatonin receptor 1B                     | NA | Q16613 | P49286 | AANAT | MTNR1B | ⋯ | 1 | 0 | 1 | 1 | 0 | Baccin2019;CellTalkDB;Fantom5_LRdb;HPMR_LRdb;HPMR_talklr;LRdb;Ramilowski2015;Ramilowski2015_Baccin2019;Wang;connectomeDB2020;iTALK;talklr                                                             | Baccin2019:12943195;CellTalkDB:12943195;LRdb:12943195;connectomeDB2020:12943195                                                                                                                                           |  4 | 1 |  8 |\n",
       "| 4 | ABCA1_SHANK1 | ABCA1 | ATP binding cassette subfamily A member 1 | SHANK1 | SH3 and multiple ankyrin repeat domains 1 | NA | O95477 | Q9Y566 | ABCA1 | SHANK1 | ⋯ | 0 | 0 | 0 | 0 | 0 | Baccin2019;HPRD;Ramilowski2015_Baccin2019                                                                                                                                                             | HPRD:16192279                                                                                                                                                                                                             |  1 | 1 |  2 |\n",
       "| 5 | ACE_AGTR2    | ACE   | angiotensin I converting enzyme           | AGTR2  | angiotensin II receptor type 2            | NA | P12821 | P50052 | ACE   | AGTR2  | ⋯ | 0 | 0 | 0 | 0 | 0 | Baccin2019;CellTalkDB;Fantom5_LRdb;HPRD;HPRD_LRdb;HPRD_talklr;LRdb;Ramilowski2015;Ramilowski2015_Baccin2019;iTALK;talklr                                                                              | Baccin2019:11459796;HPRD:11459796;LRdb:11459796                                                                                                                                                                           |  3 | 1 |  7 |\n",
       "| 6 | ACE_BDKRB2   | ACE   | angiotensin I converting enzyme           | BDKRB2 | bradykinin receptor B2                    | NA | P12821 | P30411 | ACE   | BDKRB2 | ⋯ | 0 | 0 | 0 | 0 | 0 | Baccin2019;CellTalkDB;EMBRACE;Fantom5_LRdb;HPRD;HPRD_LRdb;HPRD_talklr;LRdb;Lit-BM-17;Ramilowski2015;Ramilowski2015_Baccin2019;connectomeDB2020;iTALK;talklr                                           | Baccin2019:10748135;CellTalkDB:10748135;HPRD:10748135;LRdb:10748135;Lit-BM-17:17077303;connectomeDB2020:10748135                                                                                                          |  6 | 2 | 10 |\n",
       "\n"
      ],
      "text/plain": [
       "  Pair.Name    Ligand Ligand.Name                               Receptor\n",
       "1 A2M_LRP1     A2M    alpha-2-macroglobulin                     LRP1    \n",
       "2 AANAT_MTNR1A AANAT  aralkylamine N-acetyltransferase          MTNR1A  \n",
       "3 AANAT_MTNR1B AANAT  aralkylamine N-acetyltransferase          MTNR1B  \n",
       "4 ABCA1_SHANK1 ABCA1  ATP binding cassette subfamily A member 1 SHANK1  \n",
       "5 ACE_AGTR2    ACE    angiotensin I converting enzyme           AGTR2   \n",
       "6 ACE_BDKRB2   ACE    angiotensin I converting enzyme           BDKRB2  \n",
       "  Receptor.Name                             complex_pair source target\n",
       "1 LDL receptor related protein 1            NA           P01023 Q07954\n",
       "2 melatonin receptor 1A                     NA           Q16613 P48039\n",
       "3 melatonin receptor 1B                     NA           Q16613 P49286\n",
       "4 SH3 and multiple ankyrin repeat domains 1 NA           O95477 Q9Y566\n",
       "5 angiotensin II receptor type 2            NA           P12821 P50052\n",
       "6 bradykinin receptor B2                    NA           P12821 P30411\n",
       "  source_genesymbol target_genesymbol ⋯ is_stimulation is_inhibition\n",
       "1 A2M               LRP1              ⋯ 1              0            \n",
       "2 AANAT             MTNR1A            ⋯ 1              0            \n",
       "3 AANAT             MTNR1B            ⋯ 1              0            \n",
       "4 ABCA1             SHANK1            ⋯ 0              0            \n",
       "5 ACE               AGTR2             ⋯ 0              0            \n",
       "6 ACE               BDKRB2            ⋯ 0              0            \n",
       "  consensus_direction consensus_stimulation consensus_inhibition\n",
       "1 1                   1                     0                   \n",
       "2 1                   1                     0                   \n",
       "3 1                   1                     0                   \n",
       "4 0                   0                     0                   \n",
       "5 0                   0                     0                   \n",
       "6 0                   0                     0                   \n",
       "  sources                                                                                                                                                                                              \n",
       "1 AlzPathway;Baccin2019;CellTalkDB;EMBRACE;Fantom5_LRdb;HPMR_LRdb;HPMR_talklr;HPRD;HPRD_LRdb;HPRD_talklr;LRdb;Ramilowski2015;Ramilowski2015_Baccin2019;STRING_talklr;Wang;connectomeDB2020;iTALK;talklr\n",
       "2 Baccin2019;CellTalkDB;Fantom5_LRdb;HPMR;HPMR_LRdb;HPMR_talklr;LRdb;Ramilowski2015;Ramilowski2015_Baccin2019;Wang;connectomeDB2020;iTALK;talklr                                                       \n",
       "3 Baccin2019;CellTalkDB;Fantom5_LRdb;HPMR_LRdb;HPMR_talklr;LRdb;Ramilowski2015;Ramilowski2015_Baccin2019;Wang;connectomeDB2020;iTALK;talklr                                                            \n",
       "4 Baccin2019;HPRD;Ramilowski2015_Baccin2019                                                                                                                                                            \n",
       "5 Baccin2019;CellTalkDB;Fantom5_LRdb;HPRD;HPRD_LRdb;HPRD_talklr;LRdb;Ramilowski2015;Ramilowski2015_Baccin2019;iTALK;talklr                                                                             \n",
       "6 Baccin2019;CellTalkDB;EMBRACE;Fantom5_LRdb;HPRD;HPRD_LRdb;HPRD_talklr;LRdb;Lit-BM-17;Ramilowski2015;Ramilowski2015_Baccin2019;connectomeDB2020;iTALK;talklr                                          \n",
       "  references                                                                                                                                                                                                               \n",
       "1 AlzPathway:19026743;Baccin2019:10652313;Baccin2019:12194978;Baccin2019:1702392;CellTalkDB:10652313;HPRD:10652313;HPRD:12194978;LRdb:10652313;connectomeDB2020:10652313;connectomeDB2020:12194978;connectomeDB2020:1702392\n",
       "2 Baccin2019:12943195;CellTalkDB:12943195;HPMR:12943195;LRdb:12943195;connectomeDB2020:12943195                                                                                                                            \n",
       "3 Baccin2019:12943195;CellTalkDB:12943195;LRdb:12943195;connectomeDB2020:12943195                                                                                                                                          \n",
       "4 HPRD:16192279                                                                                                                                                                                                            \n",
       "5 Baccin2019:11459796;HPRD:11459796;LRdb:11459796                                                                                                                                                                          \n",
       "6 Baccin2019:10748135;CellTalkDB:10748135;HPRD:10748135;LRdb:10748135;Lit-BM-17:17077303;connectomeDB2020:10748135                                                                                                         \n",
       "  curation_effort n_references n_resources\n",
       "1 11              4            11         \n",
       "2  5              1             9         \n",
       "3  4              1             8         \n",
       "4  1              1             2         \n",
       "5  3              1             7         \n",
       "6  6              2            10         "
      ]
     },
     "metadata": {},
     "output_type": "display_data"
    }
   ],
   "source": [
    "head(concatanated)"
   ]
  },
  {
   "cell_type": "code",
   "execution_count": 83,
   "id": "f2352b5b",
   "metadata": {},
   "outputs": [],
   "source": [
    "write.csv(concatanated, \"L_R_Updated.csv\", row.names=FALSE)"
   ]
  },
  {
   "cell_type": "code",
   "execution_count": null,
   "id": "1c3edfd3",
   "metadata": {},
   "outputs": [],
   "source": []
  },
  {
   "cell_type": "code",
   "execution_count": null,
   "id": "06a15b8f",
   "metadata": {},
   "outputs": [],
   "source": []
  }
 ],
 "metadata": {
  "kernelspec": {
   "display_name": "R",
   "language": "R",
   "name": "ir"
  },
  "language_info": {
   "codemirror_mode": "r",
   "file_extension": ".r",
   "mimetype": "text/x-r-source",
   "name": "R",
   "pygments_lexer": "r",
   "version": "4.1.2"
  }
 },
 "nbformat": 4,
 "nbformat_minor": 5
}
