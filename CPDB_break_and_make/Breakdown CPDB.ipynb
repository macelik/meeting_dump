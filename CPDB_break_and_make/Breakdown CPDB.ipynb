{
 "cells": [
  {
   "cell_type": "code",
   "execution_count": 1,
   "id": "c1148aa0",
   "metadata": {},
   "outputs": [],
   "source": [
    "import pandas as pd\n",
    "import numpy as np"
   ]
  },
  {
   "cell_type": "code",
   "execution_count": 2,
   "id": "81904d94",
   "metadata": {},
   "outputs": [],
   "source": [
    "interaction = pd.read_csv ('interaction_table.csv', index_col=False)\n",
    "interaction = interaction.iloc[:, [2,3]]"
   ]
  },
  {
   "cell_type": "code",
   "execution_count": 3,
   "id": "7d1ae664",
   "metadata": {},
   "outputs": [
    {
     "ename": "NameError",
     "evalue": "name 'complex_comp' is not defined",
     "output_type": "error",
     "traceback": [
      "\u001b[0;31m---------------------------------------------------------------------------\u001b[0m",
      "\u001b[0;31mNameError\u001b[0m                                 Traceback (most recent call last)",
      "\u001b[0;32m/tmp/ipykernel_134478/474124977.py\u001b[0m in \u001b[0;36m<module>\u001b[0;34m\u001b[0m\n\u001b[0;32m----> 1\u001b[0;31m \u001b[0mcomplex_comp\u001b[0m\u001b[0;34m\u001b[0m\u001b[0;34m\u001b[0m\u001b[0m\n\u001b[0m",
      "\u001b[0;31mNameError\u001b[0m: name 'complex_comp' is not defined"
     ]
    }
   ],
   "source": [
    "complex_comp"
   ]
  },
  {
   "cell_type": "code",
   "execution_count": 7,
   "id": "4302c665",
   "metadata": {},
   "outputs": [],
   "source": [
    "multi = pd.read_csv ('multidata_table.csv', index_col=None)\n",
    "receptor = multi[multi['receptor'] == 1]\n",
    "receptor = receptor.iloc[:, [0,1]]\n",
    "ligand = multi[multi['receptor'] == 0]\n",
    "ligand = ligand.iloc[:, [0,1]]"
   ]
  },
  {
   "cell_type": "code",
   "execution_count": 8,
   "id": "ecb20b12",
   "metadata": {},
   "outputs": [],
   "source": [
    "r=interaction[interaction['multidata_1_id'].isin(receptor['id_multidata'])].copy()\n",
    "#fix column order for l-r\n",
    "r[['multidata_1_id', 'multidata_2_id']] = r[['multidata_2_id', 'multidata_1_id']]\n",
    "l=interaction[interaction['multidata_1_id'].isin(ligand['id_multidata'])].copy()"
   ]
  },
  {
   "cell_type": "code",
   "execution_count": 9,
   "id": "b87aad6b",
   "metadata": {},
   "outputs": [],
   "source": [
    "i=pd.concat([l, r], ignore_index=True).copy()"
   ]
  },
  {
   "cell_type": "code",
   "execution_count": 70,
   "id": "d1172ec0",
   "metadata": {},
   "outputs": [],
   "source": [
    "gene_table.columns=protein_name.columns"
   ]
  },
  {
   "cell_type": "code",
   "execution_count": 71,
   "id": "41cbe1d7",
   "metadata": {},
   "outputs": [
    {
     "data": {
      "text/plain": [
       "Index(['protein_name', 'protein_multidata_id'], dtype='object')"
      ]
     },
     "execution_count": 71,
     "metadata": {},
     "output_type": "execute_result"
    }
   ],
   "source": [
    "gene_table.columns"
   ]
  },
  {
   "cell_type": "code",
   "execution_count": 72,
   "id": "5ec7fc8f",
   "metadata": {},
   "outputs": [],
   "source": [
    "protein_name=gene_table"
   ]
  },
  {
   "cell_type": "code",
   "execution_count": 73,
   "id": "f4e8b0dd",
   "metadata": {},
   "outputs": [
    {
     "data": {
      "text/html": [
       "<div>\n",
       "<style scoped>\n",
       "    .dataframe tbody tr th:only-of-type {\n",
       "        vertical-align: middle;\n",
       "    }\n",
       "\n",
       "    .dataframe tbody tr th {\n",
       "        vertical-align: top;\n",
       "    }\n",
       "\n",
       "    .dataframe thead th {\n",
       "        text-align: right;\n",
       "    }\n",
       "</style>\n",
       "<table border=\"1\" class=\"dataframe\">\n",
       "  <thead>\n",
       "    <tr style=\"text-align: right;\">\n",
       "      <th></th>\n",
       "      <th>protein_name</th>\n",
       "      <th>protein_multidata_id</th>\n",
       "    </tr>\n",
       "  </thead>\n",
       "  <tbody>\n",
       "    <tr>\n",
       "      <th>0</th>\n",
       "      <td>ABCA1</td>\n",
       "      <td>127</td>\n",
       "    </tr>\n",
       "    <tr>\n",
       "      <th>1</th>\n",
       "      <td>ACE2</td>\n",
       "      <td>1136</td>\n",
       "    </tr>\n",
       "    <tr>\n",
       "      <th>2</th>\n",
       "      <td>ACKR1</td>\n",
       "      <td>929</td>\n",
       "    </tr>\n",
       "    <tr>\n",
       "      <th>3</th>\n",
       "      <td>ACKR2</td>\n",
       "      <td>35</td>\n",
       "    </tr>\n",
       "    <tr>\n",
       "      <th>4</th>\n",
       "      <td>ACKR3</td>\n",
       "      <td>516</td>\n",
       "    </tr>\n",
       "    <tr>\n",
       "      <th>...</th>\n",
       "      <td>...</td>\n",
       "      <td>...</td>\n",
       "    </tr>\n",
       "    <tr>\n",
       "      <th>1615</th>\n",
       "      <td>XCL1</td>\n",
       "      <td>701</td>\n",
       "    </tr>\n",
       "    <tr>\n",
       "      <th>1616</th>\n",
       "      <td>XCL2</td>\n",
       "      <td>1225</td>\n",
       "    </tr>\n",
       "    <tr>\n",
       "      <th>1617</th>\n",
       "      <td>XCR1</td>\n",
       "      <td>689</td>\n",
       "    </tr>\n",
       "    <tr>\n",
       "      <th>1618</th>\n",
       "      <td>XPR1</td>\n",
       "      <td>1229</td>\n",
       "    </tr>\n",
       "    <tr>\n",
       "      <th>1619</th>\n",
       "      <td>YARS</td>\n",
       "      <td>754</td>\n",
       "    </tr>\n",
       "  </tbody>\n",
       "</table>\n",
       "<p>1620 rows × 2 columns</p>\n",
       "</div>"
      ],
      "text/plain": [
       "     protein_name  protein_multidata_id\n",
       "0           ABCA1                   127\n",
       "1            ACE2                  1136\n",
       "2           ACKR1                   929\n",
       "3           ACKR2                    35\n",
       "4           ACKR3                   516\n",
       "...           ...                   ...\n",
       "1615         XCL1                   701\n",
       "1616         XCL2                  1225\n",
       "1617         XCR1                   689\n",
       "1618         XPR1                  1229\n",
       "1619         YARS                   754\n",
       "\n",
       "[1620 rows x 2 columns]"
      ]
     },
     "execution_count": 73,
     "metadata": {},
     "output_type": "execute_result"
    }
   ],
   "source": [
    "protein_name"
   ]
  },
  {
   "cell_type": "code",
   "execution_count": 50,
   "id": "7edc94d8",
   "metadata": {},
   "outputs": [],
   "source": [
    "gene_table = pd.read_csv ('gene_table.csv', index_col=False)\n",
    "gene_table = gene_table.iloc[:, [3,4]].copy()\n",
    "protein_name = pd.read_csv ('protein_table.csv', index_col=False)\n",
    "protein_name = protein_name.iloc[:, [1,5]].copy()\n",
    "complex_comp = pd.read_csv ('complex_composition_table.csv', index_col=False)\n",
    "complex_comp = complex_comp.iloc[:, [1,2]].copy()"
   ]
  },
  {
   "cell_type": "code",
   "execution_count": 74,
   "id": "69a5f640",
   "metadata": {},
   "outputs": [],
   "source": [
    "i[\"ligand\"] = ''\n",
    "i[\"receptor\"] = ''\n",
    "i[\"l_adhesion_mol\"] = ''\n",
    "i[\"r_adhesion_mol\"] = ''\n",
    "i[\"l_complex\"] = ''\n",
    "i[\"r_complex\"] = ''"
   ]
  },
  {
   "cell_type": "code",
   "execution_count": 75,
   "id": "14e32460",
   "metadata": {},
   "outputs": [],
   "source": [
    "df = pd.DataFrame(columns=['L', 'R'])\n",
    "df[\"ligand\"] = ''\n",
    "df[\"receptor\"] = ''\n",
    "df[\"l_adhesion_mol\"] = ''\n",
    "df[\"r_adhesion_mol\"] = ''"
   ]
  },
  {
   "cell_type": "code",
   "execution_count": 76,
   "id": "ea5ed0c8",
   "metadata": {},
   "outputs": [],
   "source": [
    "def split_complex(multi_id):\n",
    "    ids=complex_comp.loc[complex_comp['complex_multidata_id'] == multi_id].protein_multidata_id.values\n",
    "    return list(ids)"
   ]
  },
  {
   "cell_type": "code",
   "execution_count": 77,
   "id": "db1aea00",
   "metadata": {},
   "outputs": [],
   "source": [
    "def get_name(prot_id):\n",
    "    name=protein_name.loc[protein_name['protein_multidata_id'] == prot_id].protein_name\n",
    "    name = name.str.replace('_HUMAN', '')\n",
    "    return list(name)[0]"
   ]
  },
  {
   "cell_type": "code",
   "execution_count": null,
   "id": "b0affea7",
   "metadata": {},
   "outputs": [],
   "source": []
  },
  {
   "cell_type": "code",
   "execution_count": 78,
   "id": "3f8855e9",
   "metadata": {},
   "outputs": [],
   "source": [
    "for x in range(len(i)):\n",
    "    entry={'L':[],'R':[]}\n",
    "    p_id = i.loc[x].multidata_1_id\n",
    "    p_id2 = i.loc[x].multidata_2_id\n",
    "    \n",
    "    if p_id < 1282:\n",
    "        if p_id in ligand.id_multidata.values:\n",
    "            entry['L'].append(p_id)\n",
    "        else:\n",
    "            entry['R'].append(p_id)\n",
    "    \n",
    "    elif p_id > 1281:\n",
    "        complex_ids = split_complex(p_id)\n",
    "        \n",
    "        for perid in complex_ids:\n",
    "            if perid in ligand.id_multidata.values:\n",
    "                entry['L'].append(perid)\n",
    "            else:\n",
    "                entry['R'].append(perid)\n",
    "    \n",
    "    if p_id2 < 1282:\n",
    "        if p_id2 in ligand.id_multidata.values:\n",
    "            entry['L'].append(p_id2)\n",
    "        else:\n",
    "            entry['R'].append(p_id2)\n",
    "        \n",
    "    elif p_id2 > 1281:\n",
    "        complex_ids = split_complex(p_id2)\n",
    "        \n",
    "        for perid in complex_ids:\n",
    "            if perid in ligand.id_multidata.values:\n",
    "                entry['L'].append(perid)\n",
    "            else:\n",
    "                entry['R'].append(perid)\n",
    "                \n",
    "                \n",
    "    if entry.get('L') and entry.get('R'):\n",
    "        data=((x,y) for x in entry.get('L') for y in entry.get('R'))\n",
    "        data=pd.DataFrame(data,columns=['L', 'R'])\n",
    "        data['pid1']=p_id.astype('int')\n",
    "        data['pid2']=p_id2.astype('int')\n",
    "        data['l_adhesion_mol']=0\n",
    "        data['r_adhesion_mol']=0\n",
    "        df=pd.concat([df, data], ignore_index=True)\n",
    "    else:\n",
    "        if entry.get('L'):\n",
    "            data=((x,y) for x in entry.get('L') for y in entry.get('L'))\n",
    "            data=pd.DataFrame(data,columns=['L', 'R'])\n",
    "            data['pid1']=p_id.astype('int')\n",
    "            data['pid2']=p_id2.astype('int')\n",
    "            data['l_adhesion_mol']=1\n",
    "            data['r_adhesion_mol']=0\n",
    "            df=pd.concat([df, data], ignore_index=True)\n",
    "        else:\n",
    "            data=((x,y) for x in entry.get('R') for y in entry.get('R'))\n",
    "            data=pd.DataFrame(data,columns=['L', 'R'])\n",
    "            data['pid1']=p_id.astype('int')\n",
    "            data['pid2']=p_id2.astype('int')\n",
    "            data['r_adhesion_mol']=1\n",
    "            data['l_adhesion_mol']=0\n",
    "            df=pd.concat([df, data], ignore_index=True)"
   ]
  },
  {
   "cell_type": "code",
   "execution_count": 79,
   "id": "b6033fff",
   "metadata": {},
   "outputs": [],
   "source": [
    "for x in range(len(df)):\n",
    "    l = df.loc[x].L\n",
    "    r = df.loc[x].R\n",
    "    l_name=get_name(l)\n",
    "    r_name=get_name(r)\n",
    "    df.at[x, 'ligand'] = l_name\n",
    "    df.at[x, 'receptor'] = r_name"
   ]
  },
  {
   "cell_type": "code",
   "execution_count": 80,
   "id": "b80927f2",
   "metadata": {},
   "outputs": [
    {
     "data": {
      "text/html": [
       "<div>\n",
       "<style scoped>\n",
       "    .dataframe tbody tr th:only-of-type {\n",
       "        vertical-align: middle;\n",
       "    }\n",
       "\n",
       "    .dataframe tbody tr th {\n",
       "        vertical-align: top;\n",
       "    }\n",
       "\n",
       "    .dataframe thead th {\n",
       "        text-align: right;\n",
       "    }\n",
       "</style>\n",
       "<table border=\"1\" class=\"dataframe\">\n",
       "  <thead>\n",
       "    <tr style=\"text-align: right;\">\n",
       "      <th></th>\n",
       "      <th>L</th>\n",
       "      <th>R</th>\n",
       "      <th>ligand</th>\n",
       "      <th>receptor</th>\n",
       "      <th>l_adhesion_mol</th>\n",
       "      <th>r_adhesion_mol</th>\n",
       "      <th>pid1</th>\n",
       "      <th>pid2</th>\n",
       "    </tr>\n",
       "  </thead>\n",
       "  <tbody>\n",
       "    <tr>\n",
       "      <th>0</th>\n",
       "      <td>901</td>\n",
       "      <td>917</td>\n",
       "      <td>PTGR1</td>\n",
       "      <td>LTB4R</td>\n",
       "      <td>0</td>\n",
       "      <td>0</td>\n",
       "      <td>1282.0</td>\n",
       "      <td>917.0</td>\n",
       "    </tr>\n",
       "    <tr>\n",
       "      <th>1</th>\n",
       "      <td>315</td>\n",
       "      <td>917</td>\n",
       "      <td>LTA4H</td>\n",
       "      <td>LTB4R</td>\n",
       "      <td>0</td>\n",
       "      <td>0</td>\n",
       "      <td>1430.0</td>\n",
       "      <td>917.0</td>\n",
       "    </tr>\n",
       "    <tr>\n",
       "      <th>2</th>\n",
       "      <td>901</td>\n",
       "      <td>1189</td>\n",
       "      <td>PTGR1</td>\n",
       "      <td>LTB4R2</td>\n",
       "      <td>0</td>\n",
       "      <td>0</td>\n",
       "      <td>1282.0</td>\n",
       "      <td>1189.0</td>\n",
       "    </tr>\n",
       "    <tr>\n",
       "      <th>3</th>\n",
       "      <td>315</td>\n",
       "      <td>1189</td>\n",
       "      <td>LTA4H</td>\n",
       "      <td>LTB4R2</td>\n",
       "      <td>0</td>\n",
       "      <td>0</td>\n",
       "      <td>1430.0</td>\n",
       "      <td>1189.0</td>\n",
       "    </tr>\n",
       "    <tr>\n",
       "      <th>4</th>\n",
       "      <td>315</td>\n",
       "      <td>864</td>\n",
       "      <td>LTA4H</td>\n",
       "      <td>GPR17</td>\n",
       "      <td>0</td>\n",
       "      <td>0</td>\n",
       "      <td>1430.0</td>\n",
       "      <td>864.0</td>\n",
       "    </tr>\n",
       "    <tr>\n",
       "      <th>...</th>\n",
       "      <td>...</td>\n",
       "      <td>...</td>\n",
       "      <td>...</td>\n",
       "      <td>...</td>\n",
       "      <td>...</td>\n",
       "      <td>...</td>\n",
       "      <td>...</td>\n",
       "      <td>...</td>\n",
       "    </tr>\n",
       "    <tr>\n",
       "      <th>4503</th>\n",
       "      <td>1177</td>\n",
       "      <td>418</td>\n",
       "      <td>CRLF2</td>\n",
       "      <td>IL7R</td>\n",
       "      <td>0</td>\n",
       "      <td>1</td>\n",
       "      <td>1500.0</td>\n",
       "      <td>1177.0</td>\n",
       "    </tr>\n",
       "    <tr>\n",
       "      <th>4504</th>\n",
       "      <td>1177</td>\n",
       "      <td>1177</td>\n",
       "      <td>CRLF2</td>\n",
       "      <td>CRLF2</td>\n",
       "      <td>0</td>\n",
       "      <td>1</td>\n",
       "      <td>1500.0</td>\n",
       "      <td>1177.0</td>\n",
       "    </tr>\n",
       "    <tr>\n",
       "      <th>4505</th>\n",
       "      <td>1177</td>\n",
       "      <td>1177</td>\n",
       "      <td>CRLF2</td>\n",
       "      <td>CRLF2</td>\n",
       "      <td>0</td>\n",
       "      <td>1</td>\n",
       "      <td>1500.0</td>\n",
       "      <td>1177.0</td>\n",
       "    </tr>\n",
       "    <tr>\n",
       "      <th>4506</th>\n",
       "      <td>1109</td>\n",
       "      <td>1090</td>\n",
       "      <td>NELL2</td>\n",
       "      <td>ROBO3</td>\n",
       "      <td>0</td>\n",
       "      <td>0</td>\n",
       "      <td>1109.0</td>\n",
       "      <td>1090.0</td>\n",
       "    </tr>\n",
       "    <tr>\n",
       "      <th>4507</th>\n",
       "      <td>1181</td>\n",
       "      <td>1145</td>\n",
       "      <td>NPVF</td>\n",
       "      <td>NPFFR1</td>\n",
       "      <td>0</td>\n",
       "      <td>0</td>\n",
       "      <td>1181.0</td>\n",
       "      <td>1145.0</td>\n",
       "    </tr>\n",
       "  </tbody>\n",
       "</table>\n",
       "<p>4508 rows × 8 columns</p>\n",
       "</div>"
      ],
      "text/plain": [
       "         L     R ligand receptor l_adhesion_mol r_adhesion_mol    pid1    pid2\n",
       "0      901   917  PTGR1    LTB4R              0              0  1282.0   917.0\n",
       "1      315   917  LTA4H    LTB4R              0              0  1430.0   917.0\n",
       "2      901  1189  PTGR1   LTB4R2              0              0  1282.0  1189.0\n",
       "3      315  1189  LTA4H   LTB4R2              0              0  1430.0  1189.0\n",
       "4      315   864  LTA4H    GPR17              0              0  1430.0   864.0\n",
       "...    ...   ...    ...      ...            ...            ...     ...     ...\n",
       "4503  1177   418  CRLF2     IL7R              0              1  1500.0  1177.0\n",
       "4504  1177  1177  CRLF2    CRLF2              0              1  1500.0  1177.0\n",
       "4505  1177  1177  CRLF2    CRLF2              0              1  1500.0  1177.0\n",
       "4506  1109  1090  NELL2    ROBO3              0              0  1109.0  1090.0\n",
       "4507  1181  1145   NPVF   NPFFR1              0              0  1181.0  1145.0\n",
       "\n",
       "[4508 rows x 8 columns]"
      ]
     },
     "execution_count": 80,
     "metadata": {},
     "output_type": "execute_result"
    }
   ],
   "source": [
    "df"
   ]
  },
  {
   "cell_type": "code",
   "execution_count": 81,
   "id": "10e990a1",
   "metadata": {},
   "outputs": [],
   "source": [
    "df.drop(df[df.ligand == df.receptor].index, inplace=True)"
   ]
  },
  {
   "cell_type": "code",
   "execution_count": 82,
   "id": "f4652472",
   "metadata": {},
   "outputs": [],
   "source": [
    "df = df.reset_index(drop=True)"
   ]
  },
  {
   "cell_type": "code",
   "execution_count": 83,
   "id": "dc13a2ec",
   "metadata": {},
   "outputs": [],
   "source": [
    "df[\"pairs\"]=df[[\"ligand\", \"receptor\"]].apply(\"_\".join, axis=1)"
   ]
  },
  {
   "cell_type": "code",
   "execution_count": 84,
   "id": "4786eeb1",
   "metadata": {},
   "outputs": [
    {
     "data": {
      "text/html": [
       "<div>\n",
       "<style scoped>\n",
       "    .dataframe tbody tr th:only-of-type {\n",
       "        vertical-align: middle;\n",
       "    }\n",
       "\n",
       "    .dataframe tbody tr th {\n",
       "        vertical-align: top;\n",
       "    }\n",
       "\n",
       "    .dataframe thead th {\n",
       "        text-align: right;\n",
       "    }\n",
       "</style>\n",
       "<table border=\"1\" class=\"dataframe\">\n",
       "  <thead>\n",
       "    <tr style=\"text-align: right;\">\n",
       "      <th></th>\n",
       "      <th>L</th>\n",
       "      <th>R</th>\n",
       "      <th>ligand</th>\n",
       "      <th>receptor</th>\n",
       "      <th>l_adhesion_mol</th>\n",
       "      <th>r_adhesion_mol</th>\n",
       "      <th>pid1</th>\n",
       "      <th>pid2</th>\n",
       "      <th>pairs</th>\n",
       "    </tr>\n",
       "  </thead>\n",
       "  <tbody>\n",
       "    <tr>\n",
       "      <th>47</th>\n",
       "      <td>138</td>\n",
       "      <td>1252</td>\n",
       "      <td>WNT11</td>\n",
       "      <td>FZD10</td>\n",
       "      <td>0</td>\n",
       "      <td>0</td>\n",
       "      <td>1358.0</td>\n",
       "      <td>138.0</td>\n",
       "      <td>WNT11_FZD10</td>\n",
       "    </tr>\n",
       "    <tr>\n",
       "      <th>48</th>\n",
       "      <td>138</td>\n",
       "      <td>102</td>\n",
       "      <td>WNT11</td>\n",
       "      <td>LRP5</td>\n",
       "      <td>0</td>\n",
       "      <td>0</td>\n",
       "      <td>1359.0</td>\n",
       "      <td>138.0</td>\n",
       "      <td>WNT11_LRP5</td>\n",
       "    </tr>\n",
       "    <tr>\n",
       "      <th>50</th>\n",
       "      <td>138</td>\n",
       "      <td>108</td>\n",
       "      <td>WNT11</td>\n",
       "      <td>LRP6</td>\n",
       "      <td>0</td>\n",
       "      <td>0</td>\n",
       "      <td>1360.0</td>\n",
       "      <td>138.0</td>\n",
       "      <td>WNT11_LRP6</td>\n",
       "    </tr>\n",
       "    <tr>\n",
       "      <th>51</th>\n",
       "      <td>138</td>\n",
       "      <td>1260</td>\n",
       "      <td>WNT11</td>\n",
       "      <td>FZD1</td>\n",
       "      <td>0</td>\n",
       "      <td>0</td>\n",
       "      <td>1360.0</td>\n",
       "      <td>138.0</td>\n",
       "      <td>WNT11_FZD1</td>\n",
       "    </tr>\n",
       "    <tr>\n",
       "      <th>52</th>\n",
       "      <td>138</td>\n",
       "      <td>102</td>\n",
       "      <td>WNT11</td>\n",
       "      <td>LRP5</td>\n",
       "      <td>0</td>\n",
       "      <td>0</td>\n",
       "      <td>1361.0</td>\n",
       "      <td>138.0</td>\n",
       "      <td>WNT11_LRP5</td>\n",
       "    </tr>\n",
       "    <tr>\n",
       "      <th>...</th>\n",
       "      <td>...</td>\n",
       "      <td>...</td>\n",
       "      <td>...</td>\n",
       "      <td>...</td>\n",
       "      <td>...</td>\n",
       "      <td>...</td>\n",
       "      <td>...</td>\n",
       "      <td>...</td>\n",
       "      <td>...</td>\n",
       "    </tr>\n",
       "    <tr>\n",
       "      <th>3762</th>\n",
       "      <td>708</td>\n",
       "      <td>556</td>\n",
       "      <td>RXRG</td>\n",
       "      <td>CRABP2</td>\n",
       "      <td>1</td>\n",
       "      <td>0</td>\n",
       "      <td>1513.0</td>\n",
       "      <td>1486.0</td>\n",
       "      <td>RXRG_CRABP2</td>\n",
       "    </tr>\n",
       "    <tr>\n",
       "      <th>3763</th>\n",
       "      <td>556</td>\n",
       "      <td>698</td>\n",
       "      <td>CRABP2</td>\n",
       "      <td>ALDH1A3</td>\n",
       "      <td>1</td>\n",
       "      <td>0</td>\n",
       "      <td>1513.0</td>\n",
       "      <td>1486.0</td>\n",
       "      <td>CRABP2_ALDH1A3</td>\n",
       "    </tr>\n",
       "    <tr>\n",
       "      <th>3764</th>\n",
       "      <td>556</td>\n",
       "      <td>708</td>\n",
       "      <td>CRABP2</td>\n",
       "      <td>RXRG</td>\n",
       "      <td>1</td>\n",
       "      <td>0</td>\n",
       "      <td>1513.0</td>\n",
       "      <td>1486.0</td>\n",
       "      <td>CRABP2_RXRG</td>\n",
       "    </tr>\n",
       "    <tr>\n",
       "      <th>3766</th>\n",
       "      <td>418</td>\n",
       "      <td>1177</td>\n",
       "      <td>IL7R</td>\n",
       "      <td>CRLF2</td>\n",
       "      <td>0</td>\n",
       "      <td>1</td>\n",
       "      <td>1500.0</td>\n",
       "      <td>1177.0</td>\n",
       "      <td>IL7R_CRLF2</td>\n",
       "    </tr>\n",
       "    <tr>\n",
       "      <th>3768</th>\n",
       "      <td>1177</td>\n",
       "      <td>418</td>\n",
       "      <td>CRLF2</td>\n",
       "      <td>IL7R</td>\n",
       "      <td>0</td>\n",
       "      <td>1</td>\n",
       "      <td>1500.0</td>\n",
       "      <td>1177.0</td>\n",
       "      <td>CRLF2_IL7R</td>\n",
       "    </tr>\n",
       "  </tbody>\n",
       "</table>\n",
       "<p>1133 rows × 9 columns</p>\n",
       "</div>"
      ],
      "text/plain": [
       "         L     R  ligand receptor l_adhesion_mol r_adhesion_mol    pid1  \\\n",
       "47     138  1252   WNT11    FZD10              0              0  1358.0   \n",
       "48     138   102   WNT11     LRP5              0              0  1359.0   \n",
       "50     138   108   WNT11     LRP6              0              0  1360.0   \n",
       "51     138  1260   WNT11     FZD1              0              0  1360.0   \n",
       "52     138   102   WNT11     LRP5              0              0  1361.0   \n",
       "...    ...   ...     ...      ...            ...            ...     ...   \n",
       "3762   708   556    RXRG   CRABP2              1              0  1513.0   \n",
       "3763   556   698  CRABP2  ALDH1A3              1              0  1513.0   \n",
       "3764   556   708  CRABP2     RXRG              1              0  1513.0   \n",
       "3766   418  1177    IL7R    CRLF2              0              1  1500.0   \n",
       "3768  1177   418   CRLF2     IL7R              0              1  1500.0   \n",
       "\n",
       "        pid2           pairs  \n",
       "47     138.0     WNT11_FZD10  \n",
       "48     138.0      WNT11_LRP5  \n",
       "50     138.0      WNT11_LRP6  \n",
       "51     138.0      WNT11_FZD1  \n",
       "52     138.0      WNT11_LRP5  \n",
       "...      ...             ...  \n",
       "3762  1486.0     RXRG_CRABP2  \n",
       "3763  1486.0  CRABP2_ALDH1A3  \n",
       "3764  1486.0     CRABP2_RXRG  \n",
       "3766  1177.0      IL7R_CRLF2  \n",
       "3768  1177.0      CRLF2_IL7R  \n",
       "\n",
       "[1133 rows x 9 columns]"
      ]
     },
     "execution_count": 84,
     "metadata": {},
     "output_type": "execute_result"
    }
   ],
   "source": [
    "df[df.duplicated('pairs')]"
   ]
  },
  {
   "cell_type": "code",
   "execution_count": 85,
   "id": "16fba341",
   "metadata": {},
   "outputs": [],
   "source": [
    "df=df.drop_duplicates('pairs')"
   ]
  },
  {
   "cell_type": "code",
   "execution_count": 86,
   "id": "6c605cf8",
   "metadata": {
    "scrolled": true
   },
   "outputs": [],
   "source": [
    "df.to_csv('cpdb_revised.csv2', index=False)"
   ]
  },
  {
   "cell_type": "code",
   "execution_count": 87,
   "id": "259cd8b9",
   "metadata": {},
   "outputs": [
    {
     "data": {
      "text/plain": [
       "False"
      ]
     },
     "execution_count": 87,
     "metadata": {},
     "output_type": "execute_result"
    }
   ],
   "source": [
    "df['receptor'].isnull().values.any()"
   ]
  },
  {
   "cell_type": "code",
   "execution_count": 88,
   "id": "3615764a",
   "metadata": {},
   "outputs": [],
   "source": [
    "cpdbnodes=list(df[\"ligand\"])+list(df[\"receptor\"])"
   ]
  },
  {
   "cell_type": "code",
   "execution_count": 89,
   "id": "08d5210b",
   "metadata": {},
   "outputs": [
    {
     "data": {
      "text/plain": [
       "False"
      ]
     },
     "execution_count": 89,
     "metadata": {},
     "output_type": "execute_result"
    }
   ],
   "source": [
    "\"5HT1E\" in cpdbnodes"
   ]
  },
  {
   "cell_type": "code",
   "execution_count": 90,
   "id": "7dbeff0b",
   "metadata": {},
   "outputs": [
    {
     "data": {
      "text/plain": [
       "True"
      ]
     },
     "execution_count": 90,
     "metadata": {},
     "output_type": "execute_result"
    }
   ],
   "source": [
    "\"HTR1E\" in cpdbnodes"
   ]
  },
  {
   "cell_type": "code",
   "execution_count": null,
   "id": "c06d029d",
   "metadata": {},
   "outputs": [],
   "source": []
  }
 ],
 "metadata": {
  "kernelspec": {
   "display_name": "Python 3 (ipykernel)",
   "language": "python",
   "name": "python3"
  },
  "language_info": {
   "codemirror_mode": {
    "name": "ipython",
    "version": 3
   },
   "file_extension": ".py",
   "mimetype": "text/x-python",
   "name": "python",
   "nbconvert_exporter": "python",
   "pygments_lexer": "ipython3",
   "version": "3.10.6"
  }
 },
 "nbformat": 4,
 "nbformat_minor": 5
}
